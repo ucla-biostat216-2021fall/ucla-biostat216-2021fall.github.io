{
 "cells": [
  {
   "cell_type": "markdown",
   "metadata": {},
   "source": [
    "# Biostat 216 Homework 3\n",
    "\n",
    "**Due Oct 20 Wednesday @ 11:59pm**"
   ]
  },
  {
   "cell_type": "markdown",
   "metadata": {},
   "source": [
    "Submit a PDF (scanned/photographed from handwritten solutions, or converted from RMarkdown or Jupyter Notebook) to Gracescope on CCLE. \n",
    "\n",
    "BV exercises: 7.6, 7.7, 7.13, 8.2, 8.4, 8.6, 8.14.\n",
    "\n",
    "For 7.6 and 7.7, you can use the definition of incidence matrix either in the BV book or in lecture notes. \n",
    "\n",
    "\n",
    "Q1. Show that if $\\mathcal{S}_1$ and $\\mathcal{S}_2$ are two vector spaces of same order, then their intersection $\\mathcal{S}_1 \\cap \\mathcal{S}_2$ is a vector space.\n",
    "\n",
    "Q2. Show by a counter-example that if $\\mathcal{S}_1$ and $\\mathcal{S}_2$ are two vector spaces of same order, then their union $\\mathcal{S}_1 \\cup \\mathcal{S}_2$ is not necessarily a vector space."
   ]
  }
 ],
 "metadata": {
  "@webio": {
   "lastCommId": null,
   "lastKernelId": null
  },
  "hide_input": false,
  "kernelspec": {
   "display_name": "Julia 1.6.0",
   "language": "julia",
   "name": "julia-1.6"
  },
  "language_info": {
   "file_extension": ".jl",
   "mimetype": "application/julia",
   "name": "julia",
   "version": "1.6.0"
  },
  "toc": {
   "colors": {
    "hover_highlight": "#DAA520",
    "running_highlight": "#FF0000",
    "selected_highlight": "#FFD700"
   },
   "moveMenuLeft": true,
   "nav_menu": {
    "height": "87px",
    "width": "252px"
   },
   "navigate_menu": true,
   "number_sections": true,
   "sideBar": true,
   "skip_h1_title": true,
   "threshold": 4,
   "toc_cell": false,
   "toc_section_display": "block",
   "toc_window_display": false,
   "widenNotebook": false
  }
 },
 "nbformat": 4,
 "nbformat_minor": 2
}
