{
 "cells": [
  {
   "cell_type": "markdown",
   "metadata": {},
   "source": [
    "# Biostat 216 Homework 5\n",
    "\n",
    "**Due Nov 19 Friday @ 11:59pm**\n",
    "\n",
    "Submit a PDF (scanned/photographed from handwritten solutions, or converted from RMarkdown or Jupyter Notebook) to Gracescope on CCLE."
   ]
  },
  {
   "cell_type": "markdown",
   "metadata": {},
   "source": [
    "- Q1. Find the three projectors in the first picture in this [lecture note](https://ucla-biostat216-2021fall.github.io/slides/07-proj/07-proj.html).  \n",
    "    - $\\mathbf{P}_1$ projects into $\\text{span}(\\{\\mathbf{1}_2\\})$ along $\\text{span}\\left(\\left\\{\\begin{pmatrix} 0 \\\\ 1 \\end{pmatrix}\\right\\}\\right)$. \n",
    "    - $\\mathbf{P}_2$ projects into $\\text{span}(\\{\\mathbf{1}_2\\})$ along $\\text{span}\\left(\\left\\{\\begin{pmatrix} 1 \\\\ 0 \\end{pmatrix}\\right\\}\\right)$. \n",
    "    - $\\mathbf{P}_3$ is the orthogonal projection into $\\text{span}(\\{\\mathbf{1}_2\\})$."
   ]
  },
  {
   "cell_type": "markdown",
   "metadata": {},
   "source": [
    "- Q2. Let $\\mathbf{A} \\in \\mathbb{R}^{n \\times n}$ be a symmetric matrix. Prove that $\\langle \\mathbf{A} \\mathbf{x}, \\mathbf{y} \\rangle = \\langle \\mathbf{x}, \\mathbf{A} \\mathbf{y} \\rangle$ for all $\\mathbf{x}, \\mathbf{y} \\in \\mathbb{R}^n$. Give an example that it is not necessary true if $\\mathbf{A}$ is not symmetric."
   ]
  },
  {
   "cell_type": "markdown",
   "metadata": {},
   "source": [
    "- Q3. Find the orthogonal projection of the point $\\mathbf{1}_3$ into the plane spanned by the vectors $\\begin{pmatrix} 1 \\\\ 1 \\\\ 0 \\end{pmatrix}$ and $\\begin{pmatrix} -2 \\\\ 2 \\\\ 1 \\end{pmatrix}$. "
   ]
  },
  {
   "cell_type": "markdown",
   "metadata": {},
   "source": [
    "- Q4. Matrices that satisfy $\\mathbf{A}' \\mathbf{A} = \\mathbf{A} \\mathbf{A}'$ are said to be _normal_. Give an example of asymmetric (not symmetric), normal matrix. If $\\mathbf{A}$ is normal, then prove that every vector in $\\mathcal{C}(\\mathbf{A})$ is orthogonal to every vector in $\\mathcal{N}(\\mathbf{A})$. "
   ]
  },
  {
   "cell_type": "markdown",
   "metadata": {},
   "source": [
    "- Q5. For $\\mathbf{x}, \\mathbf{y} \\in \\mathbb{R}^n$, show that $(\\mathbf{x} + \\mathbf{y}) \\perp (\\mathbf{x} - \\mathbf{y})$ if and only if $\\|\\mathbf{x}\\| = \\|\\mathbf{y}\\|$."
   ]
  },
  {
   "cell_type": "markdown",
   "metadata": {},
   "source": [
    "- Q6. Let $\\mathbf{A}$ be a symmetric matrix. Show that the system $\\mathbf{A} \\mathbf{x} = \\mathbf{b}$ has a solution if and only if $\\mathbf{b}$ is orthogonal to $\\mathcal{N}(\\mathbf{A})$. "
   ]
  },
  {
   "cell_type": "markdown",
   "metadata": {},
   "source": [
    "- Q7. Find an orthonormal basis for each of the four fundamental subspaces of \n",
    "$$\n",
    "\\mathbf{A} = \\begin{pmatrix}\n",
    "2 & -2 & -5 & -3 & -1 & 2 \\\\\n",
    "2 & -1 & -3 & 2 & 3 & 2 \\\\\n",
    "4 & -1 & -4 & 10 & 11 & 4 \\\\\n",
    "0 & 1 & 2 & 5 & 4 & 0\n",
    "\\end{pmatrix}.\n",
    "$$\n",
    "Hint: Gram-Schmidt algorithm can be helpful."
   ]
  },
  {
   "cell_type": "markdown",
   "metadata": {},
   "source": [
    "- Q8. Let $\\mathbf{A}, \\mathbf{B} \\in \\mathbb{R}^{n \\times n}$ be two orthogonal matrices. Show that $\\mathbf{A} \\mathbf{B}$ is an orthogonal matrix. Construct an example to show that $\\mathbf{A} + \\mathbf{B}$ need not be orthogonal."
   ]
  },
  {
   "cell_type": "markdown",
   "metadata": {},
   "source": [
    "- Q9. Determinant.\n",
    "    - (1). Find the determinant of the following two matrices without doing any computations:\n",
    "$$\n",
    "\\begin{pmatrix}\n",
    "0 & 0 & 1\\\\\n",
    "0 & 1 & 0 \\\\\n",
    "1 & 0 & 0\n",
    "\\end{pmatrix}, \\quad \\begin{pmatrix}\n",
    "0 & 0 & 1 & 0 \\\\\n",
    "0 & 1 & 0 & 0 \\\\\n",
    "1 & 0 & 0 & 0 \\\\\n",
    "0 & 0 & 0 & 1\n",
    "\\end{pmatrix}.\n",
    "$$\n",
    "    - (2). Let $\\mathbf{A} \\in \\mathbb{R}^{5 \\times 5}$ with $\\det(\\mathbf{A}) = -3$. Find $\\det(\\mathbf{A}^3)$, $\\det(\\mathbf{A}^{-1})$, and $\\det(2\\mathbf{A})$.  \n",
    "    - (3). Find the determinant of the matrix\n",
    "$\\begin{pmatrix}\n",
    "0 & 0 & 1 \\\\\n",
    "2 & 3 & 4 \\\\\n",
    "0 & 5 & 6\n",
    "\\end{pmatrix}$. Hint: find the row and column permutations that make $\\mathbf{A}$ triangular; then use product rule."
   ]
  },
  {
   "cell_type": "markdown",
   "metadata": {},
   "source": [
    "- Q10. Let\n",
    "$$\n",
    "\\mathbf{A} = \\begin{pmatrix}\n",
    "0 & 2 \\\\\n",
    "1 & 1\n",
    "\\end{pmatrix}, \\quad \\mathbf{B} = \\begin{pmatrix}\n",
    "1 & 2 \\\\\n",
    "0 & 1\n",
    "\\end{pmatrix}\n",
    "$$\n",
    "    - (1). Find eigenvalues and eigenvectors of $\\mathbf{A}$ and $\\mathbf{A}^{-1}$. Do they have same eigenvectors? What's the relationship between their eigenvalues?  \n",
    "    - (2). Find eigenvalues of $\\mathbf{B}$ and $\\mathbf{A} + \\mathbf{B}$. Are eigenvalues of $\\mathbf{A} + \\mathbf{B}$ equal to eigenvalues of $\\mathbf{A}$ plus eigenvalues of $\\mathbf{B}$?  \n",
    "    - (3). Find eigenvalues of $\\mathbf{A} \\mathbf{B}$ and $\\mathbf{B} \\mathbf{A}$. Are the eigenvalues of $\\mathbf{A} \\mathbf{B}$ equal to eigenvalues of $\\mathbf{A}$ times eigenvalues of $\\mathbf{B}$? Are the eigenvalues of $\\mathbf{A} \\mathbf{B}$ equal to eigenvalues of $\\mathbf{B} \\mathbf{A}$?"
   ]
  }
 ],
 "metadata": {
  "@webio": {
   "lastCommId": null,
   "lastKernelId": null
  },
  "hide_input": false,
  "kernelspec": {
   "display_name": "Julia 1.6.0",
   "language": "julia",
   "name": "julia-1.6"
  },
  "language_info": {
   "file_extension": ".jl",
   "mimetype": "application/julia",
   "name": "julia",
   "version": "1.6.0"
  },
  "toc": {
   "colors": {
    "hover_highlight": "#DAA520",
    "running_highlight": "#FF0000",
    "selected_highlight": "#FFD700"
   },
   "moveMenuLeft": true,
   "nav_menu": {
    "height": "87px",
    "width": "252px"
   },
   "navigate_menu": true,
   "number_sections": true,
   "sideBar": true,
   "skip_h1_title": true,
   "threshold": 4,
   "toc_cell": false,
   "toc_section_display": "block",
   "toc_window_display": false,
   "widenNotebook": false
  }
 },
 "nbformat": 4,
 "nbformat_minor": 2
}
