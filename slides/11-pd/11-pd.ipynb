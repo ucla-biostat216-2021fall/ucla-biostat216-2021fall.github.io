{
 "cells": [
  {
   "cell_type": "markdown",
   "metadata": {
    "toc": "true"
   },
   "source": [
    "# Table of Contents\n",
    " <p><div class=\"lev1 toc-item\"><a href=\"#Symmetric-Positive-Definite-Matrices\" data-toc-modified-id=\"Symmetric-Positive-Definite-Matrices-1\"><span class=\"toc-item-num\">1&nbsp;&nbsp;</span>Symmetric Positive Definite Matrices</a></div><div class=\"lev2 toc-item\"><a href=\"#Energy-based-definition\" data-toc-modified-id=\"Energy-based-definition-11\"><span class=\"toc-item-num\">1.1&nbsp;&nbsp;</span>Energy-based definition</a></div><div class=\"lev2 toc-item\"><a href=\"#Gram-matrix-based-definition\" data-toc-modified-id=\"Gram-matrix-based-definition-12\"><span class=\"toc-item-num\">1.2&nbsp;&nbsp;</span>Gram-matrix based definition</a></div><div class=\"lev2 toc-item\"><a href=\"#Schur-complement-test-for-positive-definiteness\" data-toc-modified-id=\"Schur-complement-test-for-positive-definiteness-13\"><span class=\"toc-item-num\">1.3&nbsp;&nbsp;</span>Schur complement test for positive definiteness</a></div><div class=\"lev2 toc-item\"><a href=\"#Covariance-test-for-positive-definiteness\" data-toc-modified-id=\"Covariance-test-for-positive-definiteness-14\"><span class=\"toc-item-num\">1.4&nbsp;&nbsp;</span>Covariance test for positive definiteness</a></div><div class=\"lev2 toc-item\"><a href=\"#Cholesky-decomposition\" data-toc-modified-id=\"Cholesky-decomposition-15\"><span class=\"toc-item-num\">1.5&nbsp;&nbsp;</span>Cholesky decomposition</a></div><div class=\"lev2 toc-item\"><a href=\"#Positive-definite-matrices-and-minimization-problems\" data-toc-modified-id=\"Positive-definite-matrices-and-minimization-problems-16\"><span class=\"toc-item-num\">1.6&nbsp;&nbsp;</span>Positive definite matrices and minimization problems</a></div><div class=\"lev2 toc-item\"><a href=\"#The-ellipse-ax^2-+-2bxy-+-cy^2-=-1\" data-toc-modified-id=\"The-ellipse-ax^2-+-2bxy-+-cy^2-=-1-17\"><span class=\"toc-item-num\">1.7&nbsp;&nbsp;</span>The ellipse $ax^2 + 2bxy + cy^2 = 1$</a></div>"
   ]
  },
  {
   "cell_type": "markdown",
   "metadata": {},
   "source": [
    "# Symmetric Positive Definite Matrices\n",
    "\n",
    "- In last lecture, we learnt every symmetric matrix $\\mathbf{A} = \\mathbf{A}'$ admits an eigen-decomposition\n",
    "$$\n",
    "\\mathbf{A} = \\mathbf{Q} \\boldsymbol{\\Lambda} \\mathbf{Q}',\n",
    "$$\n",
    "where $\\mathbf{Q}$ is orthogonal and $\\boldsymbol{\\Lambda} = \\text{diag}(\\lambda_1, \\ldots, \\lambda_n)$ has eigenvalues on its diagonal.\n",
    "\n",
    "- A **positive definite matrix** is a symmetric matrix with all its eigenvalues positive. That is $\\lambda_i > 0$ for all $i$. We use $\\mathbf{A} \\succ \\mathbf{O}$ to indicate positive definiteness of $\\mathbf{A}$.\n",
    "\n",
    "    A **positive semidefinite matrix** is a symmetric matrix with all its eigenvalues nonnegative. That is $\\lambda_i \\ge 0$ for all $i$. We use $\\mathbf{A} \\succeq \\mathbf{O}$ to indicate positive semidefiniteness of $\\mathbf{A}$.\n",
    "\n",
    "- Examples: \n",
    "    1. $\\begin{pmatrix} 2 & 0 \\\\ 0 & 6 \\end{pmatrix}$ is positive definite. Its eigenvalues are 2 and 6.\n",
    "    2. $\\mathbf{Q} \\begin{pmatrix} 2 & 0 \\\\ 0 & 6 \\end{pmatrix} \\mathbf{Q}'$ is positive definite if $\\mathbf{Q}' = \\mathbf{Q}^{-1}$. Its eigenvalues are 2 and 6.  \n",
    "    3. $\\mathbf{C} \\begin{pmatrix} 2 & 0 \\\\ 0 & 6 \\end{pmatrix} \\mathbf{C}'$ is positive definite if $\\mathbf{C}$ is invertible. Easier to show using the energy-based definition (below).  \n",
    "    4. $\\begin{pmatrix} a & b \\\\ b & c \\end{pmatrix}$ is positive definite when $a > 0$ and $ac > b^2$. Show by energy-based definition or Schur complement.    \n",
    "    5. $\\begin{pmatrix} 2 & 0 \\\\ 0 & 0 \\end{pmatrix}$ is positive semidefinite. Its eigenvalues are 2 and 0."
   ]
  },
  {
   "cell_type": "markdown",
   "metadata": {},
   "source": [
    "## Energy-based definition\n",
    "\n",
    "- A symmetric matrix $\\mathbf{A}$ is positive definite if and only if the energy $\\mathbf{x}' \\mathbf{A} \\mathbf{x} > 0$ for all $\\mathbf{x} \\ne \\mathbf{0}$.\n",
    "\n",
    "    A symmetric matrix $\\mathbf{A}$ is positive semidefinite if and only if the energy $\\mathbf{x}' \\mathbf{A} \\mathbf{x} \\ge 0$ for all $\\mathbf{x} \\ne \\mathbf{0}$.\n",
    "\n",
    "    Proof of the \"only if\" part: $\\mathbf{A} = \\mathbf{Q} \\boldsymbol{\\Lambda} \\mathbf{Q}' = \\sum_{i=1}^n \\lambda_i \\mathbf{q}_i \\mathbf{q}_i'$, where $\\lambda_i > 0$ and $\\mathbf{q}_i$ are orthonormal to each other. Then\n",
    "$$\n",
    "\\mathbf{x}' \\mathbf{A} \\mathbf{x} = \\mathbf{x}' \\left( \\sum_{i=1}^n \\lambda_i \\mathbf{q}_i \\mathbf{q}_i' \\right) \\mathbf{x} = \\sum_{i=1}^n \\lambda_i (\\mathbf{q}_i' \\mathbf{x})^2\n",
    "$$\n",
    "Since $\\mathbf{Q}$ is orthogonal, $\\mathbf{Q}' \\mathbf{x} \\ne \\mathbf{0}$ (otherwise it conflicts with linear indepence between $\\mathbf{q}_i$s). Therefore $\\mathbf{x}' \\mathbf{A} \\mathbf{x} = \\sum_{i=1}^n \\lambda_i (\\mathbf{q}_i' \\mathbf{x})^2 > 0$. \n",
    "\n",
    "    Proof of the \"if\" part: Take $\\mathbf{x} = \\mathbf{q}_i$. Then $\\mathbf{x}' \\mathbf{A} \\mathbf{x} = \\lambda_i > 0$.\n",
    "    \n",
    "- Show Examples 3 and 4 above.\n",
    "\n",
    "- If $\\mathbf{A}_1$ and $\\mathbf{A}_2$ are positive definite, then $\\alpha_1 \\mathbf{A}_1 + \\alpha_2 \\mathbf{A}_2$ is positive definite for any $\\alpha_1, \\alpha_2 > 0$.\n",
    "\n",
    "    Proof is trivial using the energy-based definition."
   ]
  },
  {
   "cell_type": "markdown",
   "metadata": {},
   "source": [
    "## Gram-matrix based definition\n",
    "\n",
    "- A square matrix $\\mathbf{A}$ is **positive semidefinite** if and only if $\\mathbf{A} = \\mathbf{B}' \\mathbf{B}$ for some matrix $\\mathbf{B}$.\n",
    "\n",
    "    A square matrix $\\mathbf{A}$ is **positive definite** if and only if $\\mathbf{A} = \\mathbf{B}' \\mathbf{B}$ for some matrix $\\mathbf{B}$ with independent columns.\n",
    "\n",
    "    Proof of the \"if\" part: use the energy-based definition.  \n",
    "    \n",
    "    Proof of the \"only if\" part: take $\\mathbf{B} = \\boldsymbol{\\Lambda}^{1/2} \\mathbf{Q}'$."
   ]
  },
  {
   "cell_type": "markdown",
   "metadata": {},
   "source": [
    "## Schur complement test for positive definiteness\n",
    "\n",
    "- Consider a matrix $\\mathbf{X}$ partitioned as\n",
    "$$\n",
    "\\mathbf{X} = \\begin{pmatrix} \\mathbf{A} & \\mathbf{B} \\\\ \\mathbf{B}' & \\mathbf{C} \\end{pmatrix},\n",
    "$$\n",
    "where the diagonal blocks $\\mathbf{A}$ and $\\mathbf{C}$ are symmetric. Then \n",
    "    1. $\\mathbf{X} \\succ \\mathbf{O}$ if and only if $\\mathbf{A} \\succ \\mathbf{O}$ and $\\mathbf{S} = \\mathbf{C} - \\mathbf{B}' \\mathbf{A}^{-1} \\mathbf{B} \\succ \\mathbf{O}$.  \n",
    "    2. If $\\mathbf{A} \\succ \\mathbf{O}$, then $\\mathbf{X} \\succeq \\mathbf{O}$ if $\\mathbf{S} \\succeq \\mathbf{O}$.\n",
    "\n",
    "    Note: the matrix $\\mathbf{S} = \\mathbf{C} - \\mathbf{B}' \\mathbf{A}^{-1} \\mathbf{B}$ is called the **Schur complement** of the block $\\mathbf{A}$ of $\\mathbf{X}$."
   ]
  },
  {
   "cell_type": "markdown",
   "metadata": {},
   "source": [
    "## Covariance test for positive definiteness\n",
    "\n",
    "- This is a trick due to statistician [Igram Olkin (1985)](https://www.jstor.org/stable/2322195?origin=crossref&seq=1#metadata_info_tab_contents).\n",
    "\n",
    "- A matrix $\\mathbf{A} \\in \\mathbb{R}^{n \\times n}$ is positive semidefinite if and only if $\\mathbf{A} = \\text{Cov}(\\mathbf{X})$ for a random vector $\\mathbf{X} \\in \\mathbb{R}^n$.\n",
    "\n",
    "    Proof of the \"if\" part: We use the energy-based definition:\n",
    "$$\n",
    "\\mathbf{a}' \\mathbf{A} \\mathbf{a} = \\mathbf{a}' \\text{Cov}(\\mathbf{X}) \\mathbf{a} = \\text{Var}(\\mathbf{a}' \\mathbf{X}) \\ge 0\n",
    "$$\n",
    "for any vector $\\mathbf{a}$.\n",
    "\n",
    "    Proof of the \"only if\" part: Let $\\mathbf{Y} \\sim \\text{Normal}(\\mathbf{0}, \\mathbf{I}_n)$. Then $\\mathbf{A} = \\text{Cov}(\\mathbf{A}^{1/2} \\mathbf{Y})$.\n",
    "\n",
    "- Schur lemma: If $\\mathbf{A}, \\mathbf{B} \\in \\mathbb{R}^{n \\times n}$ are positive semidefinite, then their Hadamard product (elementwise product) $\\mathbf{A} \\circ \\mathbf{B} = (a_{ij} b_{ij})$ is positive semidefinite.\n",
    "\n",
    "    Proof: Let $\\mathbf{A} = \\text{Cov}(\\mathbf{X})$ and $\\mathbf{B} = \\text{Cov}(\\mathbf{Y})$. Then $\\mathbf{A} \\circ \\mathbf{B} = \\text{Cov}(\\mathbf{X} \\circ \\mathbf{Y})$.\n",
    "\n",
    "- Exercise: Show the symmetric matrix with entries $a_{ij} = i(n-j+1)$ for $j \\ge i$ is positive semidefinite.\n",
    "\n",
    "    Hint: Casella-Berger Example 5.4.5 (p230)."
   ]
  },
  {
   "cell_type": "code",
   "execution_count": 1,
   "metadata": {},
   "outputs": [
    {
     "data": {
      "text/plain": [
       "5×5 Matrix{Int64}:\n",
       " 5  4  3  2  1\n",
       " 4  8  6  4  2\n",
       " 3  6  9  6  3\n",
       " 2  4  6  8  4\n",
       " 1  2  3  4  5"
      ]
     },
     "execution_count": 1,
     "metadata": {},
     "output_type": "execute_result"
    }
   ],
   "source": [
    "n = 5\n",
    "A = [j ≥ i ? i * (n - j + 1) : j * (n - i + 1) for i in 1:n, j in 1:n]"
   ]
  },
  {
   "cell_type": "code",
   "execution_count": 2,
   "metadata": {},
   "outputs": [
    {
     "data": {
      "text/plain": [
       "5-element Vector{Float64}:\n",
       "  1.6076951545867355\n",
       "  2.000000000000001\n",
       "  2.9999999999999996\n",
       "  6.0\n",
       " 22.39230484541327"
      ]
     },
     "execution_count": 2,
     "metadata": {},
     "output_type": "execute_result"
    }
   ],
   "source": [
    "using LinearAlgebra\n",
    "eigvals(A)"
   ]
  },
  {
   "cell_type": "markdown",
   "metadata": {},
   "source": [
    "## Cholesky decomposition\n",
    "\n",
    "- The Cholesky decomposition is a special case of LU decomposition for symmetric, positive definite matrix $\\mathbf{A}$.\n",
    "\n",
    "- Any positive definite matrix $\\mathbf{A}$ admits the decomposition\n",
    "$$\n",
    "\\mathbf{A} = \\mathbf{L} \\mathbf{L}',\n",
    "$$\n",
    "where $\\mathbf{L}$ is a lower triangular matrix with positive diagonal entries.\n",
    "\n",
    "    Proof (by induction):\n",
    "If $n=1$, then $\\ell = \\sqrt{a}$. For $n>1$, the block equation\n",
    "$$\n",
    "\\begin{eqnarray*}\n",
    "\\begin{pmatrix}\n",
    "a_{11} & \\mathbf{a}' \\\\ \\mathbf{a} & \\mathbf{A}_{22}\n",
    "\\end{pmatrix} =\n",
    "\\begin{pmatrix}\n",
    "\t\\ell_{11} & \\mathbf{0}_{n-1}' \\\\ \\mathbf{l} & \\mathbf{L}_{22}\n",
    "\\end{pmatrix}\n",
    "\\begin{pmatrix}\n",
    "\t\\ell_{11} & \\mathbf{l}' \\\\ \\mathbf{0}_{n-1} & \\mathbf{L}_{22}'\n",
    "\\end{pmatrix}\n",
    "\\end{eqnarray*}\n",
    "$$\n",
    "has solution\n",
    "$$\n",
    "\\begin{eqnarray*}\n",
    "\t\\ell_{11} &=& \\sqrt{a_{11}} \\\\\n",
    "\t\\mathbf{l} &=& \\ell_{11}^{-1} \\mathbf{a}\t\\\\\n",
    "\t\\mathbf{L}_{22} \\mathbf{L}_{22}' &=& \\mathbf{A}_{22}  - \\mathbf{l} \\mathbf{l}' = \\mathbf{A}_{22}  - a_{11}^{-1} \\mathbf{a} \\mathbf{a}'.\n",
    "\\end{eqnarray*}\n",
    "$$  \n",
    "Now $a_{11}>0$ (why?), so $\\ell_{11}$ and $\\mathbf{l}$ are uniquely determined. $\\mathbf{A}_{22} - a_{11}^{-1} \\mathbf{a} \\mathbf{a}'$ is positive definite because $\\mathbf{A}$ is positive definite (why?). By the induction hypothesis, $\\mathbf{L}_{22}$ exists and is unique.\n",
    "\n",
    "- **Pivot test of positive definiteness.** A symmetric matrix $\\mathbf{A}$ is positive definite if the Cholesky decomposition can be carried out without encountering zero pivot."
   ]
  },
  {
   "cell_type": "code",
   "execution_count": 3,
   "metadata": {},
   "outputs": [
    {
     "data": {
      "text/plain": [
       "3×3 Matrix{Float64}:\n",
       "   4.0   12.0  -16.0\n",
       "  12.0   37.0  -43.0\n",
       " -16.0  -43.0   98.0"
      ]
     },
     "execution_count": 3,
     "metadata": {},
     "output_type": "execute_result"
    }
   ],
   "source": [
    "using LinearAlgebra\n",
    "\n",
    "A = Float64.([4 12 -16; 12 37 -43; -16 -43 98])"
   ]
  },
  {
   "cell_type": "code",
   "execution_count": 4,
   "metadata": {},
   "outputs": [
    {
     "data": {
      "text/plain": [
       "Cholesky{Float64, Matrix{Float64}}\n",
       "U factor:\n",
       "3×3 UpperTriangular{Float64, Matrix{Float64}}:\n",
       " 2.0  6.0  -8.0\n",
       "  ⋅   1.0   5.0\n",
       "  ⋅    ⋅    3.0"
      ]
     },
     "execution_count": 4,
     "metadata": {},
     "output_type": "execute_result"
    }
   ],
   "source": [
    "# Cholesky without pivoting\n",
    "Achol = cholesky(Symmetric(A))"
   ]
  },
  {
   "cell_type": "code",
   "execution_count": 5,
   "metadata": {},
   "outputs": [
    {
     "data": {
      "text/plain": [
       "3×3 LowerTriangular{Float64, Matrix{Float64}}:\n",
       "  2.0   ⋅    ⋅ \n",
       "  6.0  1.0   ⋅ \n",
       " -8.0  5.0  3.0"
      ]
     },
     "execution_count": 5,
     "metadata": {},
     "output_type": "execute_result"
    }
   ],
   "source": [
    "Achol.L"
   ]
  },
  {
   "cell_type": "code",
   "execution_count": 6,
   "metadata": {},
   "outputs": [
    {
     "data": {
      "text/plain": [
       "LU{Float64, Matrix{Float64}}\n",
       "L factor:\n",
       "3×3 Matrix{Float64}:\n",
       "  1.0   0.0       0.0\n",
       " -0.75  1.0       0.0\n",
       " -0.25  0.263158  1.0\n",
       "U factor:\n",
       "3×3 Matrix{Float64}:\n",
       " -16.0  -43.0   98.0\n",
       "   0.0    4.75  30.5\n",
       "   0.0    0.0    0.473684"
      ]
     },
     "execution_count": 6,
     "metadata": {},
     "output_type": "execute_result"
    }
   ],
   "source": [
    "# LU decomposition is different from Cholesky\n",
    "lu(A)"
   ]
  },
  {
   "cell_type": "markdown",
   "metadata": {},
   "source": [
    "## Positive definite matrices and minimization problems\n",
    "\n",
    "- For a scalar function $f: \\mathbb{R} \\mapsto \\mathbb{R}$, the test for a minimum is:\n",
    "$$\n",
    "\\frac{df(x)}{dx} = 0 \\quad (\\text{first derivative test})\n",
    "$$\n",
    "and\n",
    "$$\n",
    "\\frac{d^2f(x)}{dx^2} > 0 \\quad (\\text{second derivative test}).\n",
    "$$\n",
    "\n",
    "- For a multivariate function $f: \\mathbb{R}^n \\mapsto \\mathbb{R}$, the test for a minimum is:\n",
    "$$\n",
    "\\nabla f(\\mathbf{x}) = \\begin{pmatrix} \\frac{\\partial f}{\\partial x_1} \\\\ \\vdots \\\\ \\frac{\\partial f}{\\partial x_n} \\end{pmatrix} = \\mathbf{0} \\quad (\\text{first derivative test})\n",
    "$$\n",
    "and\n",
    "$$\n",
    "\\nabla^2 f(\\mathbf{x}) = \\begin{pmatrix} \\frac{\\partial^2 f}{\\partial x_i \\partial x_j} \\end{pmatrix} \\succ \\mathbf{O} \\quad (\\text{second derivative test}).\n",
    "$$\n",
    "\n",
    "- TODO: graph."
   ]
  },
  {
   "cell_type": "markdown",
   "metadata": {},
   "source": [
    "## The ellipse $ax^2 + 2bxy + cy^2 = 1$\n",
    "\n",
    "- Consider the 2-by-2 matrix\n",
    "$$\n",
    "\\mathbf{A} = \\begin{pmatrix} 5 & 4 \\\\ 4 & 5 \\end{pmatrix}.\n",
    "$$\n",
    "We can test whether it is positive definite by \n",
    "    - eigenvalues: $\\lambda_1 = 9$, $\\lambda_2 = 1$.  \n",
    "    - energy test: \n",
    "$$\n",
    "(x, y) \\begin{pmatrix} 5 & 4 \\\\ 4 & 5 \\end{pmatrix} \\begin{pmatrix} x \\\\ y \\end{pmatrix} = 5x^2 + 8xy + 5y^2 = 9 \\left( \\frac{x + y}{\\sqrt 2} \\right)^2 + 1 \\left( \\frac{x-y}{\\sqrt 2} \\right)^2 > 0.\n",
    "$$\n",
    "    - Schur complemennt: $a = 5 > 0$, $c - a^{-1} b^2 = 5 - 16/5 > 0$.\n",
    "    \n",
    "- **TODO**: Visualize $5x^2 + 8xy + 5y^2 = 1$. Axes align with eigenvectors and axe lengths are $1 / \\sqrt \\lambda$."
   ]
  }
 ],
 "metadata": {
  "@webio": {
   "lastCommId": null,
   "lastKernelId": null
  },
  "hide_input": false,
  "kernelspec": {
   "display_name": "Julia 1.6.0",
   "language": "julia",
   "name": "julia-1.6"
  },
  "language_info": {
   "file_extension": ".jl",
   "mimetype": "application/julia",
   "name": "julia",
   "version": "1.6.0"
  },
  "toc": {
   "colors": {
    "hover_highlight": "#DAA520",
    "running_highlight": "#FF0000",
    "selected_highlight": "#FFD700"
   },
   "moveMenuLeft": true,
   "nav_menu": {
    "height": "171px",
    "width": "252px"
   },
   "navigate_menu": true,
   "number_sections": true,
   "sideBar": true,
   "skip_h1_title": true,
   "threshold": 4,
   "toc_cell": true,
   "toc_section_display": "block",
   "toc_window_display": true,
   "widenNotebook": false
  },
  "toc-autonumbering": true
 },
 "nbformat": 4,
 "nbformat_minor": 2
}
