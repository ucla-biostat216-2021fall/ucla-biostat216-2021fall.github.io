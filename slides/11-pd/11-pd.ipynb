{
 "cells": [
  {
   "cell_type": "markdown",
   "metadata": {
    "toc": "true"
   },
   "source": [
    "# Table of Contents\n",
    " <p><div class=\"lev1 toc-item\"><a href=\"#Symmetric-Positive-Definite-Matrices\" data-toc-modified-id=\"Symmetric-Positive-Definite-Matrices-1\"><span class=\"toc-item-num\">1&nbsp;&nbsp;</span>Symmetric Positive Definite Matrices</a></div><div class=\"lev2 toc-item\"><a href=\"#Energy-based-definition\" data-toc-modified-id=\"Energy-based-definition-11\"><span class=\"toc-item-num\">1.1&nbsp;&nbsp;</span>Energy-based definition</a></div><div class=\"lev2 toc-item\"><a href=\"#Gram-matrix-based-definition\" data-toc-modified-id=\"Gram-matrix-based-definition-12\"><span class=\"toc-item-num\">1.2&nbsp;&nbsp;</span>Gram-matrix based definition</a></div><div class=\"lev2 toc-item\"><a href=\"#Schur-complement-test-for-positive-definiteness\" data-toc-modified-id=\"Schur-complement-test-for-positive-definiteness-13\"><span class=\"toc-item-num\">1.3&nbsp;&nbsp;</span>Schur complement test for positive definiteness</a></div><div class=\"lev2 toc-item\"><a href=\"#Covariance-test-for-positive-definiteness-(optional)\" data-toc-modified-id=\"Covariance-test-for-positive-definiteness-(optional)-14\"><span class=\"toc-item-num\">1.4&nbsp;&nbsp;</span>Covariance test for positive definiteness (optional)</a></div><div class=\"lev2 toc-item\"><a href=\"#Cholesky-decomposition\" data-toc-modified-id=\"Cholesky-decomposition-15\"><span class=\"toc-item-num\">1.5&nbsp;&nbsp;</span>Cholesky decomposition</a></div><div class=\"lev2 toc-item\"><a href=\"#Positive-definite-matrices-and-minimization-problems\" data-toc-modified-id=\"Positive-definite-matrices-and-minimization-problems-16\"><span class=\"toc-item-num\">1.6&nbsp;&nbsp;</span>Positive definite matrices and minimization problems</a></div><div class=\"lev2 toc-item\"><a href=\"#The-ellipse-ax^2-+-2bxy-+-cy^2-=-1\" data-toc-modified-id=\"The-ellipse-ax^2-+-2bxy-+-cy^2-=-1-17\"><span class=\"toc-item-num\">1.7&nbsp;&nbsp;</span>The ellipse $ax^2 + 2bxy + cy^2 = 1$</a></div>"
   ]
  },
  {
   "cell_type": "code",
   "execution_count": 1,
   "metadata": {},
   "outputs": [
    {
     "name": "stderr",
     "output_type": "stream",
     "text": [
      "\u001b[32m\u001b[1m  Activating\u001b[22m\u001b[39m environment at `~/Documents/github.com/ucla-biostat216-2021fall.github.io/slides/11-pd/Project.toml`\n"
     ]
    }
   ],
   "source": [
    "using Pkg\n",
    "Pkg.activate(pwd())\n",
    "Pkg.instantiate()"
   ]
  },
  {
   "cell_type": "code",
   "execution_count": 2,
   "metadata": {},
   "outputs": [],
   "source": [
    "using LinearAlgebra, Plots, Roots"
   ]
  },
  {
   "cell_type": "markdown",
   "metadata": {},
   "source": [
    "# Symmetric Positive Definite Matrices\n",
    "\n",
    "- In last lecture, we learnt every symmetric matrix $\\mathbf{A} = \\mathbf{A}'$ admits an eigen-decomposition\n",
    "$$\n",
    "\\mathbf{A} = \\mathbf{Q} \\boldsymbol{\\Lambda} \\mathbf{Q}',\n",
    "$$\n",
    "where $\\mathbf{Q}$ is orthogonal and $\\boldsymbol{\\Lambda} = \\text{diag}(\\lambda_1, \\ldots, \\lambda_n)$ has eigenvalues on its diagonal.\n",
    "\n",
    "- A **positive definite matrix** is a symmetric matrix with all its eigenvalues positive. That is $\\lambda_i > 0$ for all $i$. We use $\\mathbf{A} \\succ \\mathbf{O}$ to indicate positive definiteness of $\\mathbf{A}$.\n",
    "\n",
    "    A **positive semidefinite matrix** is a symmetric matrix with all its eigenvalues nonnegative. That is $\\lambda_i \\ge 0$ for all $i$. We use $\\mathbf{A} \\succeq \\mathbf{O}$ to indicate positive semidefiniteness of $\\mathbf{A}$.\n",
    "\n",
    "- Examples: \n",
    "    1. $\\begin{pmatrix} 2 & 0 \\\\ 0 & 6 \\end{pmatrix}$ is positive definite. Its eigenvalues are 2 and 6.\n",
    "    2. $\\mathbf{Q} \\begin{pmatrix} 2 & 0 \\\\ 0 & 6 \\end{pmatrix} \\mathbf{Q}'$ is positive definite if $\\mathbf{Q}' = \\mathbf{Q}^{-1}$. Its eigenvalues are 2 and 6.  \n",
    "    3. $\\mathbf{C} \\begin{pmatrix} 2 & 0 \\\\ 0 & 6 \\end{pmatrix} \\mathbf{C}'$ is positive definite if $\\mathbf{C}$ is invertible. Easier to show using the energy-based definition (below).  \n",
    "    4. $\\begin{pmatrix} a & b \\\\ b & c \\end{pmatrix}$ is positive definite when $a > 0$ and $ac > b^2$. Show by energy-based definition or Schur complement.    \n",
    "    5. $\\begin{pmatrix} 2 & 0 \\\\ 0 & 0 \\end{pmatrix}$ is positive semidefinite. Its eigenvalues are 2 and 0.  \n",
    "    6. A positive number is a 1x1 positive definite matrix. A non-negative number is a 1x1 positive semidefinite matrix. \n",
    "    \n",
    "- Note in general $\\det(\\mathbf{A}) > 0$ does not imply that $\\mathbf{A}$ is positive definite.     "
   ]
  },
  {
   "cell_type": "markdown",
   "metadata": {},
   "source": [
    "## Energy-based definition\n",
    "\n",
    "- A symmetric matrix $\\mathbf{A}$ is positive definite if and only if the energy $\\mathbf{x}' \\mathbf{A} \\mathbf{x} > 0$ for all $\\mathbf{x} \\ne \\mathbf{0}$.\n",
    "\n",
    "    A symmetric matrix $\\mathbf{A}$ is positive semidefinite if and only if the energy $\\mathbf{x}' \\mathbf{A} \\mathbf{x} \\ge 0$ for all $\\mathbf{x} \\ne \\mathbf{0}$.\n",
    "\n",
    "    Proof of the \"only if\" part: $\\mathbf{A} = \\mathbf{Q} \\boldsymbol{\\Lambda} \\mathbf{Q}' = \\sum_{i=1}^n \\lambda_i \\mathbf{q}_i \\mathbf{q}_i'$, where $\\lambda_i > 0$ and $\\mathbf{q}_i$ are orthonormal to each other. Then\n",
    "$$\n",
    "\\mathbf{x}' \\mathbf{A} \\mathbf{x} = \\mathbf{x}' \\left( \\sum_{i=1}^n \\lambda_i \\mathbf{q}_i \\mathbf{q}_i' \\right) \\mathbf{x} = \\sum_{i=1}^n \\lambda_i (\\mathbf{q}_i' \\mathbf{x})^2\n",
    "$$\n",
    "Since $\\mathbf{Q}$ is orthogonal, $\\mathbf{Q}' \\mathbf{x} \\ne \\mathbf{0}$ (otherwise it conflicts with linear indepence between $\\mathbf{q}_i$s). Therefore $\\mathbf{x}' \\mathbf{A} \\mathbf{x} = \\sum_{i=1}^n \\lambda_i (\\mathbf{q}_i' \\mathbf{x})^2 > 0$. \n",
    "\n",
    "    Proof of the \"if\" part: Take $\\mathbf{x} = \\mathbf{q}_i$. Then $\\mathbf{x}' \\mathbf{A} \\mathbf{x} = \\lambda_i > 0$.\n",
    "    \n",
    "- HW6, Q6.\n",
    "\n",
    "- If $\\mathbf{A}_1$ and $\\mathbf{A}_2$ are positive definite, then $\\alpha_1 \\mathbf{A}_1 + \\alpha_2 \\mathbf{A}_2$ is positive definite for any $\\alpha_1, \\alpha_2 > 0$.\n",
    "\n",
    "    If $\\mathbf{A}_1$ and $\\mathbf{A}_2$ are positive semidefinite, then $\\alpha_1 \\mathbf{A}_1 + \\alpha_2 \\mathbf{A}_2$ is positive semidefinite for any $\\alpha_1, \\alpha_2 \\ge 0$.\n",
    "\n",
    "    Proof is trivial using the energy-based definition."
   ]
  },
  {
   "cell_type": "markdown",
   "metadata": {},
   "source": [
    "## Gram-matrix based definition\n",
    "\n",
    "- A square matrix $\\mathbf{A}$ is **positive semidefinite** if and only if $\\mathbf{A} = \\mathbf{B}' \\mathbf{B}$ for some matrix $\\mathbf{B}$.\n",
    "\n",
    "    A square matrix $\\mathbf{A}$ is **positive definite** if and only if $\\mathbf{A} = \\mathbf{B}' \\mathbf{B}$ for some matrix $\\mathbf{B}$ with independent columns.\n",
    "\n",
    "    Proof of the \"if\" part: use the energy-based definition.  \n",
    "    \n",
    "    Proof of the \"only if\" part: take $\\mathbf{B} = \\boldsymbol{\\Lambda}^{1/2} \\mathbf{Q}'$."
   ]
  },
  {
   "cell_type": "markdown",
   "metadata": {},
   "source": [
    "## Schur complement test for positive definiteness\n",
    "\n",
    "- Consider a matrix $\\mathbf{X}$ partitioned as\n",
    "$$\n",
    "\\mathbf{X} = \\begin{pmatrix} \\mathbf{A} & \\mathbf{B} \\\\ \\mathbf{B}' & \\mathbf{C} \\end{pmatrix},\n",
    "$$\n",
    "where the diagonal blocks $\\mathbf{A}$ and $\\mathbf{C}$ are symmetric. Then \n",
    "    1. $\\mathbf{X} \\succ \\mathbf{O}$ if and only if $\\mathbf{A} \\succ \\mathbf{O}$ and $\\mathbf{S} = \\mathbf{C} - \\mathbf{B}' \\mathbf{A}^{-1} \\mathbf{B} \\succ \\mathbf{O}$.  \n",
    "    2. If $\\mathbf{A} \\succ \\mathbf{O}$, then $\\mathbf{X} \\succeq \\mathbf{O}$ if $\\mathbf{S} \\succeq \\mathbf{O}$.\n",
    "\n",
    "    Note: the matrix $\\mathbf{S} = \\mathbf{C} - \\mathbf{B}' \\mathbf{A}^{-1} \\mathbf{B}$ is called the **Schur complement** of the block $\\mathbf{A}$ of $\\mathbf{X}$.\n",
    "    \n",
    "- Example 4 above.    "
   ]
  },
  {
   "cell_type": "markdown",
   "metadata": {},
   "source": [
    "## Covariance test for positive definiteness (optional)\n",
    "\n",
    "- This is a trick due to statistician [Igram Olkin (1985)](https://www.jstor.org/stable/2322195?origin=crossref&seq=1#metadata_info_tab_contents).\n",
    "\n",
    "- A matrix $\\mathbf{A} \\in \\mathbb{R}^{n \\times n}$ is positive semidefinite if and only if $\\mathbf{A} = \\text{Cov}(\\mathbf{X})$ for a random vector $\\mathbf{X} \\in \\mathbb{R}^n$.\n",
    "\n",
    "    Proof of the \"if\" part: We use the energy-based definition:\n",
    "$$\n",
    "\\mathbf{a}' \\mathbf{A} \\mathbf{a} = \\mathbf{a}' \\text{Cov}(\\mathbf{X}) \\mathbf{a} = \\text{Var}(\\mathbf{a}' \\mathbf{X}) \\ge 0\n",
    "$$\n",
    "for any vector $\\mathbf{a}$.\n",
    "\n",
    "    Proof of the \"only if\" part: Let $\\mathbf{Y} \\sim \\text{Normal}(\\mathbf{0}, \\mathbf{I}_n)$. Then $\\mathbf{A} = \\text{Cov}(\\mathbf{A}^{1/2} \\mathbf{Y})$.\n",
    "\n",
    "- Schur lemma: If $\\mathbf{A}, \\mathbf{B} \\in \\mathbb{R}^{n \\times n}$ are positive semidefinite, then their Hadamard product (elementwise product) $\\mathbf{A} \\circ \\mathbf{B} = (a_{ij} b_{ij})$ is positive semidefinite.\n",
    "\n",
    "    Proof: Let $\\mathbf{A} = \\text{Cov}(\\mathbf{X})$ and $\\mathbf{B} = \\text{Cov}(\\mathbf{Y})$. Then $\\mathbf{A} \\circ \\mathbf{B} = \\text{Cov}(\\mathbf{X} \\circ \\mathbf{Y})$."
   ]
  },
  {
   "cell_type": "markdown",
   "metadata": {},
   "source": [
    "## Cholesky decomposition\n",
    "\n",
    "- The Cholesky decomposition is a special case of LU decomposition for symmetric, positive definite matrix $\\mathbf{A}$.\n",
    "\n",
    "- Any positive definite matrix $\\mathbf{A}$ admits the decomposition\n",
    "$$\n",
    "\\mathbf{A} = \\mathbf{L} \\mathbf{L}',\n",
    "$$\n",
    "where $\\mathbf{L}$ is a lower triangular matrix with positive diagonal entries.\n",
    "\n",
    "    Proof (by induction):\n",
    "If $n=1$, then $\\ell = \\sqrt{a}$. For $n>1$, the block equation\n",
    "$$\n",
    "\\begin{eqnarray*}\n",
    "\\begin{pmatrix}\n",
    "a_{11} & \\mathbf{a}' \\\\ \\mathbf{a} & \\mathbf{A}_{22}\n",
    "\\end{pmatrix} =\n",
    "\\begin{pmatrix}\n",
    "\t\\ell_{11} & \\mathbf{0}_{n-1}' \\\\ \\boldsymbol{\\ell} & \\mathbf{L}_{22}\n",
    "\\end{pmatrix}\n",
    "\\begin{pmatrix}\n",
    "\t\\ell_{11} & \\boldsymbol{\\ell}' \\\\ \\mathbf{0}_{n-1} & \\mathbf{L}_{22}'\n",
    "\\end{pmatrix}\n",
    "\\end{eqnarray*}\n",
    "$$\n",
    "has solution\n",
    "$$\n",
    "\\begin{eqnarray*}\n",
    "\t\\ell_{11} &=& \\sqrt{a_{11}} \\\\\n",
    "\t\\boldsymbol{\\ell} &=& \\ell_{11}^{-1} \\mathbf{a}\t\\\\\n",
    "\t\\mathbf{L}_{22} \\mathbf{L}_{22}' &=& \\mathbf{A}_{22}  - \\boldsymbol{\\ell} \\boldsymbol{\\ell}' = \\mathbf{A}_{22}  - a_{11}^{-1} \\mathbf{a} \\mathbf{a}'.\n",
    "\\end{eqnarray*}\n",
    "$$  \n",
    "Now $a_{11}>0$ (why?), so $\\ell_{11}$ and $\\boldsymbol{\\ell}$ are uniquely determined. $\\mathbf{A}_{22} - a_{11}^{-1} \\mathbf{a} \\mathbf{a}'$ is positive definite because $\\mathbf{A}$ is positive definite (why?). By the induction hypothesis, $\\mathbf{L}_{22}$ exists and is unique.\n",
    "\n",
    "- **Pivot test of positive definiteness.** A symmetric matrix $\\mathbf{A}$ is positive definite if the Cholesky decomposition can be carried out without encountering zero pivot."
   ]
  },
  {
   "cell_type": "code",
   "execution_count": 3,
   "metadata": {},
   "outputs": [
    {
     "data": {
      "text/plain": [
       "3×3 Matrix{Float64}:\n",
       "   4.0   12.0  -16.0\n",
       "  12.0   37.0  -43.0\n",
       " -16.0  -43.0   98.0"
      ]
     },
     "execution_count": 3,
     "metadata": {},
     "output_type": "execute_result"
    }
   ],
   "source": [
    "using LinearAlgebra\n",
    "\n",
    "A = Float64.([4 12 -16; 12 37 -43; -16 -43 98])"
   ]
  },
  {
   "cell_type": "code",
   "execution_count": 4,
   "metadata": {},
   "outputs": [
    {
     "data": {
      "text/plain": [
       "Cholesky{Float64, Matrix{Float64}}\n",
       "U factor:\n",
       "3×3 UpperTriangular{Float64, Matrix{Float64}}:\n",
       " 2.0  6.0  -8.0\n",
       "  ⋅   1.0   5.0\n",
       "  ⋅    ⋅    3.0"
      ]
     },
     "execution_count": 4,
     "metadata": {},
     "output_type": "execute_result"
    }
   ],
   "source": [
    "# Cholesky without pivoting\n",
    "Achol = cholesky(Symmetric(A))"
   ]
  },
  {
   "cell_type": "code",
   "execution_count": 5,
   "metadata": {},
   "outputs": [
    {
     "data": {
      "text/plain": [
       "3×3 LowerTriangular{Float64, Matrix{Float64}}:\n",
       "  2.0   ⋅    ⋅ \n",
       "  6.0  1.0   ⋅ \n",
       " -8.0  5.0  3.0"
      ]
     },
     "execution_count": 5,
     "metadata": {},
     "output_type": "execute_result"
    }
   ],
   "source": [
    "Achol.L"
   ]
  },
  {
   "cell_type": "code",
   "execution_count": 6,
   "metadata": {},
   "outputs": [
    {
     "data": {
      "text/plain": [
       "LU{Float64, Matrix{Float64}}\n",
       "L factor:\n",
       "3×3 Matrix{Float64}:\n",
       "  1.0   0.0       0.0\n",
       " -0.75  1.0       0.0\n",
       " -0.25  0.263158  1.0\n",
       "U factor:\n",
       "3×3 Matrix{Float64}:\n",
       " -16.0  -43.0   98.0\n",
       "   0.0    4.75  30.5\n",
       "   0.0    0.0    0.473684"
      ]
     },
     "execution_count": 6,
     "metadata": {},
     "output_type": "execute_result"
    }
   ],
   "source": [
    "# LU decomposition is different from Cholesky\n",
    "lu(A)"
   ]
  },
  {
   "cell_type": "markdown",
   "metadata": {},
   "source": [
    "## Positive definite matrices and minimization problems\n",
    "\n",
    "- For a twice differentiable, scalar function $f: \\mathbb{R} \\mapsto \\mathbb{R}$, the test for a minimum is:\n",
    "$$\n",
    "\\frac{df(x)}{dx} = 0 \\quad (\\text{first derivative test})\n",
    "$$\n",
    "and\n",
    "$$\n",
    "\\frac{d^2f(x)}{dx^2} > 0 \\quad (\\text{second derivative test}).\n",
    "$$"
   ]
  },
  {
   "cell_type": "code",
   "execution_count": 7,
   "metadata": {},
   "outputs": [
    {
     "data": {
      "text/plain": [
       "(-1.8234765819369754, 1.8234765819369754)"
      ]
     },
     "execution_count": 7,
     "metadata": {},
     "output_type": "execute_result"
    }
   ],
   "source": [
    "x = Vector(-π:0.1:π)\n",
    "f(x) = sin(x) + 0.25x\n",
    "∇f(x) = cos(x) + 0.25\n",
    "# two roots of the gradient = 0 equation\n",
    "x1, x2 = -acos(-0.25), acos(-0.25)"
   ]
  },
  {
   "cell_type": "code",
   "execution_count": 8,
   "metadata": {},
   "outputs": [
    {
     "data": {
      "text/plain": [
       "(0.9682458365518541, -0.9682458365518541)"
      ]
     },
     "execution_count": 8,
     "metadata": {},
     "output_type": "execute_result"
    }
   ],
   "source": [
    "∇²f(x) = -sin(x)\n",
    "# x1 is local minimum (2nd derivative > 0), x2 is local maximum (2nd derivative < 0)\n",
    "∇²f(x1), ∇²f(x2)"
   ]
  },
  {
   "cell_type": "code",
   "execution_count": 9,
   "metadata": {},
   "outputs": [
    {
     "data": {
      "image/svg+xml": [
       "<?xml version=\"1.0\" encoding=\"utf-8\"?>\n",
       "<svg xmlns=\"http://www.w3.org/2000/svg\" xmlns:xlink=\"http://www.w3.org/1999/xlink\" width=\"600\" height=\"400\" viewBox=\"0 0 2400 1600\">\n",
       "<defs>\n",
       "  <clipPath id=\"clip440\">\n",
       "    <rect x=\"0\" y=\"0\" width=\"2400\" height=\"1600\"/>\n",
       "  </clipPath>\n",
       "</defs>\n",
       "<path clip-path=\"url(#clip440)\" d=\"\n",
       "M0 1600 L2400 1600 L2400 0 L0 0  Z\n",
       "  \" fill=\"#ffffff\" fill-rule=\"evenodd\" fill-opacity=\"1\"/>\n",
       "<defs>\n",
       "  <clipPath id=\"clip441\">\n",
       "    <rect x=\"480\" y=\"0\" width=\"1681\" height=\"1600\"/>\n",
       "  </clipPath>\n",
       "</defs>\n",
       "<path clip-path=\"url(#clip440)\" d=\"\n",
       "M193.936 1486.45 L2352.76 1486.45 L2352.76 47.2441 L193.936 47.2441  Z\n",
       "  \" fill=\"#ffffff\" fill-rule=\"evenodd\" fill-opacity=\"1\"/>\n",
       "<defs>\n",
       "  <clipPath id=\"clip442\">\n",
       "    <rect x=\"193\" y=\"47\" width=\"2160\" height=\"1440\"/>\n",
       "  </clipPath>\n",
       "</defs>\n",
       "<polyline clip-path=\"url(#clip442)\" style=\"stroke:#000000; stroke-linecap:butt; stroke-linejoin:round; stroke-width:2; stroke-opacity:0.1; fill:none\" points=\"\n",
       "  301.546,1486.45 301.546,47.2441 \n",
       "  \"/>\n",
       "<polyline clip-path=\"url(#clip442)\" style=\"stroke:#000000; stroke-linecap:butt; stroke-linejoin:round; stroke-width:2; stroke-opacity:0.1; fill:none\" points=\"\n",
       "  630.034,1486.45 630.034,47.2441 \n",
       "  \"/>\n",
       "<polyline clip-path=\"url(#clip442)\" style=\"stroke:#000000; stroke-linecap:butt; stroke-linejoin:round; stroke-width:2; stroke-opacity:0.1; fill:none\" points=\"\n",
       "  958.521,1486.45 958.521,47.2441 \n",
       "  \"/>\n",
       "<polyline clip-path=\"url(#clip442)\" style=\"stroke:#000000; stroke-linecap:butt; stroke-linejoin:round; stroke-width:2; stroke-opacity:0.1; fill:none\" points=\"\n",
       "  1287.01,1486.45 1287.01,47.2441 \n",
       "  \"/>\n",
       "<polyline clip-path=\"url(#clip442)\" style=\"stroke:#000000; stroke-linecap:butt; stroke-linejoin:round; stroke-width:2; stroke-opacity:0.1; fill:none\" points=\"\n",
       "  1615.5,1486.45 1615.5,47.2441 \n",
       "  \"/>\n",
       "<polyline clip-path=\"url(#clip442)\" style=\"stroke:#000000; stroke-linecap:butt; stroke-linejoin:round; stroke-width:2; stroke-opacity:0.1; fill:none\" points=\"\n",
       "  1943.98,1486.45 1943.98,47.2441 \n",
       "  \"/>\n",
       "<polyline clip-path=\"url(#clip442)\" style=\"stroke:#000000; stroke-linecap:butt; stroke-linejoin:round; stroke-width:2; stroke-opacity:0.1; fill:none\" points=\"\n",
       "  2272.47,1486.45 2272.47,47.2441 \n",
       "  \"/>\n",
       "<polyline clip-path=\"url(#clip440)\" style=\"stroke:#000000; stroke-linecap:butt; stroke-linejoin:round; stroke-width:4; stroke-opacity:1; fill:none\" points=\"\n",
       "  193.936,1486.45 2352.76,1486.45 \n",
       "  \"/>\n",
       "<polyline clip-path=\"url(#clip440)\" style=\"stroke:#000000; stroke-linecap:butt; stroke-linejoin:round; stroke-width:4; stroke-opacity:1; fill:none\" points=\"\n",
       "  301.546,1486.45 301.546,1467.55 \n",
       "  \"/>\n",
       "<polyline clip-path=\"url(#clip440)\" style=\"stroke:#000000; stroke-linecap:butt; stroke-linejoin:round; stroke-width:4; stroke-opacity:1; fill:none\" points=\"\n",
       "  630.034,1486.45 630.034,1467.55 \n",
       "  \"/>\n",
       "<polyline clip-path=\"url(#clip440)\" style=\"stroke:#000000; stroke-linecap:butt; stroke-linejoin:round; stroke-width:4; stroke-opacity:1; fill:none\" points=\"\n",
       "  958.521,1486.45 958.521,1467.55 \n",
       "  \"/>\n",
       "<polyline clip-path=\"url(#clip440)\" style=\"stroke:#000000; stroke-linecap:butt; stroke-linejoin:round; stroke-width:4; stroke-opacity:1; fill:none\" points=\"\n",
       "  1287.01,1486.45 1287.01,1467.55 \n",
       "  \"/>\n",
       "<polyline clip-path=\"url(#clip440)\" style=\"stroke:#000000; stroke-linecap:butt; stroke-linejoin:round; stroke-width:4; stroke-opacity:1; fill:none\" points=\"\n",
       "  1615.5,1486.45 1615.5,1467.55 \n",
       "  \"/>\n",
       "<polyline clip-path=\"url(#clip440)\" style=\"stroke:#000000; stroke-linecap:butt; stroke-linejoin:round; stroke-width:4; stroke-opacity:1; fill:none\" points=\"\n",
       "  1943.98,1486.45 1943.98,1467.55 \n",
       "  \"/>\n",
       "<polyline clip-path=\"url(#clip440)\" style=\"stroke:#000000; stroke-linecap:butt; stroke-linejoin:round; stroke-width:4; stroke-opacity:1; fill:none\" points=\"\n",
       "  2272.47,1486.45 2272.47,1467.55 \n",
       "  \"/>\n",
       "<path clip-path=\"url(#clip440)\" d=\"M271.014 1532.02 L300.69 1532.02 L300.69 1535.95 L271.014 1535.95 L271.014 1532.02 Z\" fill=\"#000000\" fill-rule=\"evenodd\" fill-opacity=\"1\" /><path clip-path=\"url(#clip440)\" d=\"M324.949 1530.21 Q328.305 1530.93 330.18 1533.2 Q332.078 1535.47 332.078 1538.8 Q332.078 1543.92 328.56 1546.72 Q325.041 1549.52 318.56 1549.52 Q316.384 1549.52 314.069 1549.08 Q311.778 1548.66 309.324 1547.81 L309.324 1543.29 Q311.268 1544.43 313.583 1545.01 Q315.898 1545.58 318.421 1545.58 Q322.819 1545.58 325.111 1543.85 Q327.426 1542.11 327.426 1538.8 Q327.426 1535.75 325.273 1534.03 Q323.143 1532.3 319.324 1532.3 L315.296 1532.3 L315.296 1528.45 L319.509 1528.45 Q322.958 1528.45 324.787 1527.09 Q326.615 1525.7 326.615 1523.11 Q326.615 1520.45 324.717 1519.03 Q322.842 1517.6 319.324 1517.6 Q317.402 1517.6 315.203 1518.01 Q313.004 1518.43 310.365 1519.31 L310.365 1515.14 Q313.028 1514.4 315.342 1514.03 Q317.68 1513.66 319.74 1513.66 Q325.064 1513.66 328.166 1516.09 Q331.268 1518.5 331.268 1522.62 Q331.268 1525.49 329.625 1527.48 Q327.981 1529.45 324.949 1530.21 Z\" fill=\"#000000\" fill-rule=\"evenodd\" fill-opacity=\"1\" /><path clip-path=\"url(#clip440)\" d=\"M599.976 1532.02 L629.652 1532.02 L629.652 1535.95 L599.976 1535.95 L599.976 1532.02 Z\" fill=\"#000000\" fill-rule=\"evenodd\" fill-opacity=\"1\" /><path clip-path=\"url(#clip440)\" d=\"M643.772 1544.91 L660.091 1544.91 L660.091 1548.85 L638.147 1548.85 L638.147 1544.91 Q640.809 1542.16 645.392 1537.53 Q649.999 1532.88 651.179 1531.53 Q653.425 1529.01 654.304 1527.27 Q655.207 1525.51 655.207 1523.82 Q655.207 1521.07 653.263 1519.33 Q651.341 1517.6 648.24 1517.6 Q646.04 1517.6 643.587 1518.36 Q641.156 1519.13 638.378 1520.68 L638.378 1515.95 Q641.203 1514.82 643.656 1514.24 Q646.11 1513.66 648.147 1513.66 Q653.517 1513.66 656.712 1516.35 Q659.906 1519.03 659.906 1523.52 Q659.906 1525.65 659.096 1527.57 Q658.309 1529.47 656.202 1532.07 Q655.624 1532.74 652.522 1535.95 Q649.42 1539.15 643.772 1544.91 Z\" fill=\"#000000\" fill-rule=\"evenodd\" fill-opacity=\"1\" /><path clip-path=\"url(#clip440)\" d=\"M928.278 1532.02 L957.954 1532.02 L957.954 1535.95 L928.278 1535.95 L928.278 1532.02 Z\" fill=\"#000000\" fill-rule=\"evenodd\" fill-opacity=\"1\" /><path clip-path=\"url(#clip440)\" d=\"M968.857 1544.91 L976.496 1544.91 L976.496 1518.55 L968.185 1520.21 L968.185 1515.95 L976.449 1514.29 L981.125 1514.29 L981.125 1544.91 L988.764 1544.91 L988.764 1548.85 L968.857 1548.85 L968.857 1544.91 Z\" fill=\"#000000\" fill-rule=\"evenodd\" fill-opacity=\"1\" /><path clip-path=\"url(#clip440)\" d=\"M1287.01 1517.37 Q1283.4 1517.37 1281.57 1520.93 Q1279.76 1524.47 1279.76 1531.6 Q1279.76 1538.71 1281.57 1542.27 Q1283.4 1545.82 1287.01 1545.82 Q1290.64 1545.82 1292.45 1542.27 Q1294.28 1538.71 1294.28 1531.6 Q1294.28 1524.47 1292.45 1520.93 Q1290.64 1517.37 1287.01 1517.37 M1287.01 1513.66 Q1292.82 1513.66 1295.87 1518.27 Q1298.95 1522.85 1298.95 1531.6 Q1298.95 1540.33 1295.87 1544.94 Q1292.82 1549.52 1287.01 1549.52 Q1281.2 1549.52 1278.12 1544.94 Q1275.06 1540.33 1275.06 1531.6 Q1275.06 1522.85 1278.12 1518.27 Q1281.2 1513.66 1287.01 1513.66 Z\" fill=\"#000000\" fill-rule=\"evenodd\" fill-opacity=\"1\" /><path clip-path=\"url(#clip440)\" d=\"M1605.88 1544.91 L1613.52 1544.91 L1613.52 1518.55 L1605.21 1520.21 L1605.21 1515.95 L1613.47 1514.29 L1618.15 1514.29 L1618.15 1544.91 L1625.79 1544.91 L1625.79 1548.85 L1605.88 1548.85 L1605.88 1544.91 Z\" fill=\"#000000\" fill-rule=\"evenodd\" fill-opacity=\"1\" /><path clip-path=\"url(#clip440)\" d=\"M1938.64 1544.91 L1954.96 1544.91 L1954.96 1548.85 L1933.01 1548.85 L1933.01 1544.91 Q1935.67 1542.16 1940.26 1537.53 Q1944.86 1532.88 1946.04 1531.53 Q1948.29 1529.01 1949.17 1527.27 Q1950.07 1525.51 1950.07 1523.82 Q1950.07 1521.07 1948.13 1519.33 Q1946.21 1517.6 1943.1 1517.6 Q1940.9 1517.6 1938.45 1518.36 Q1936.02 1519.13 1933.24 1520.68 L1933.24 1515.95 Q1936.07 1514.82 1938.52 1514.24 Q1940.97 1513.66 1943.01 1513.66 Q1948.38 1513.66 1951.58 1516.35 Q1954.77 1519.03 1954.77 1523.52 Q1954.77 1525.65 1953.96 1527.57 Q1953.17 1529.47 1951.07 1532.07 Q1950.49 1532.74 1947.39 1535.95 Q1944.28 1539.15 1938.64 1544.91 Z\" fill=\"#000000\" fill-rule=\"evenodd\" fill-opacity=\"1\" /><path clip-path=\"url(#clip440)\" d=\"M2276.72 1530.21 Q2280.08 1530.93 2281.95 1533.2 Q2283.85 1535.47 2283.85 1538.8 Q2283.85 1543.92 2280.33 1546.72 Q2276.81 1549.52 2270.33 1549.52 Q2268.15 1549.52 2265.84 1549.08 Q2263.55 1548.66 2261.09 1547.81 L2261.09 1543.29 Q2263.04 1544.43 2265.35 1545.01 Q2267.67 1545.58 2270.19 1545.58 Q2274.59 1545.58 2276.88 1543.85 Q2279.2 1542.11 2279.2 1538.8 Q2279.2 1535.75 2277.04 1534.03 Q2274.91 1532.3 2271.09 1532.3 L2267.07 1532.3 L2267.07 1528.45 L2271.28 1528.45 Q2274.73 1528.45 2276.56 1527.09 Q2278.39 1525.7 2278.39 1523.11 Q2278.39 1520.45 2276.49 1519.03 Q2274.61 1517.6 2271.09 1517.6 Q2269.17 1517.6 2266.97 1518.01 Q2264.77 1518.43 2262.14 1519.31 L2262.14 1515.14 Q2264.8 1514.4 2267.11 1514.03 Q2269.45 1513.66 2271.51 1513.66 Q2276.83 1513.66 2279.94 1516.09 Q2283.04 1518.5 2283.04 1522.62 Q2283.04 1525.49 2281.39 1527.48 Q2279.75 1529.45 2276.72 1530.21 Z\" fill=\"#000000\" fill-rule=\"evenodd\" fill-opacity=\"1\" /><polyline clip-path=\"url(#clip442)\" style=\"stroke:#000000; stroke-linecap:butt; stroke-linejoin:round; stroke-width:2; stroke-opacity:0.1; fill:none\" points=\"\n",
       "  193.936,1481.89 2352.76,1481.89 \n",
       "  \"/>\n",
       "<polyline clip-path=\"url(#clip442)\" style=\"stroke:#000000; stroke-linecap:butt; stroke-linejoin:round; stroke-width:2; stroke-opacity:0.1; fill:none\" points=\"\n",
       "  193.936,1243.54 2352.76,1243.54 \n",
       "  \"/>\n",
       "<polyline clip-path=\"url(#clip442)\" style=\"stroke:#000000; stroke-linecap:butt; stroke-linejoin:round; stroke-width:2; stroke-opacity:0.1; fill:none\" points=\"\n",
       "  193.936,1005.19 2352.76,1005.19 \n",
       "  \"/>\n",
       "<polyline clip-path=\"url(#clip442)\" style=\"stroke:#000000; stroke-linecap:butt; stroke-linejoin:round; stroke-width:2; stroke-opacity:0.1; fill:none\" points=\"\n",
       "  193.936,766.846 2352.76,766.846 \n",
       "  \"/>\n",
       "<polyline clip-path=\"url(#clip442)\" style=\"stroke:#000000; stroke-linecap:butt; stroke-linejoin:round; stroke-width:2; stroke-opacity:0.1; fill:none\" points=\"\n",
       "  193.936,528.498 2352.76,528.498 \n",
       "  \"/>\n",
       "<polyline clip-path=\"url(#clip442)\" style=\"stroke:#000000; stroke-linecap:butt; stroke-linejoin:round; stroke-width:2; stroke-opacity:0.1; fill:none\" points=\"\n",
       "  193.936,290.15 2352.76,290.15 \n",
       "  \"/>\n",
       "<polyline clip-path=\"url(#clip442)\" style=\"stroke:#000000; stroke-linecap:butt; stroke-linejoin:round; stroke-width:2; stroke-opacity:0.1; fill:none\" points=\"\n",
       "  193.936,51.8022 2352.76,51.8022 \n",
       "  \"/>\n",
       "<polyline clip-path=\"url(#clip440)\" style=\"stroke:#000000; stroke-linecap:butt; stroke-linejoin:round; stroke-width:4; stroke-opacity:1; fill:none\" points=\"\n",
       "  193.936,1486.45 193.936,47.2441 \n",
       "  \"/>\n",
       "<polyline clip-path=\"url(#clip440)\" style=\"stroke:#000000; stroke-linecap:butt; stroke-linejoin:round; stroke-width:4; stroke-opacity:1; fill:none\" points=\"\n",
       "  193.936,1481.89 212.834,1481.89 \n",
       "  \"/>\n",
       "<polyline clip-path=\"url(#clip440)\" style=\"stroke:#000000; stroke-linecap:butt; stroke-linejoin:round; stroke-width:4; stroke-opacity:1; fill:none\" points=\"\n",
       "  193.936,1243.54 212.834,1243.54 \n",
       "  \"/>\n",
       "<polyline clip-path=\"url(#clip440)\" style=\"stroke:#000000; stroke-linecap:butt; stroke-linejoin:round; stroke-width:4; stroke-opacity:1; fill:none\" points=\"\n",
       "  193.936,1005.19 212.834,1005.19 \n",
       "  \"/>\n",
       "<polyline clip-path=\"url(#clip440)\" style=\"stroke:#000000; stroke-linecap:butt; stroke-linejoin:round; stroke-width:4; stroke-opacity:1; fill:none\" points=\"\n",
       "  193.936,766.846 212.834,766.846 \n",
       "  \"/>\n",
       "<polyline clip-path=\"url(#clip440)\" style=\"stroke:#000000; stroke-linecap:butt; stroke-linejoin:round; stroke-width:4; stroke-opacity:1; fill:none\" points=\"\n",
       "  193.936,528.498 212.834,528.498 \n",
       "  \"/>\n",
       "<polyline clip-path=\"url(#clip440)\" style=\"stroke:#000000; stroke-linecap:butt; stroke-linejoin:round; stroke-width:4; stroke-opacity:1; fill:none\" points=\"\n",
       "  193.936,290.15 212.834,290.15 \n",
       "  \"/>\n",
       "<polyline clip-path=\"url(#clip440)\" style=\"stroke:#000000; stroke-linecap:butt; stroke-linejoin:round; stroke-width:4; stroke-opacity:1; fill:none\" points=\"\n",
       "  193.936,51.8022 212.834,51.8022 \n",
       "  \"/>\n",
       "<path clip-path=\"url(#clip440)\" d=\"M51.9875 1482.34 L81.6633 1482.34 L81.6633 1486.28 L51.9875 1486.28 L51.9875 1482.34 Z\" fill=\"#000000\" fill-rule=\"evenodd\" fill-opacity=\"1\" /><path clip-path=\"url(#clip440)\" d=\"M92.566 1495.23 L100.205 1495.23 L100.205 1468.87 L91.8947 1470.54 L91.8947 1466.28 L100.159 1464.61 L104.834 1464.61 L104.834 1495.23 L112.473 1495.23 L112.473 1499.17 L92.566 1499.17 L92.566 1495.23 Z\" fill=\"#000000\" fill-rule=\"evenodd\" fill-opacity=\"1\" /><path clip-path=\"url(#clip440)\" d=\"M121.918 1493.29 L126.802 1493.29 L126.802 1499.17 L121.918 1499.17 L121.918 1493.29 Z\" fill=\"#000000\" fill-rule=\"evenodd\" fill-opacity=\"1\" /><path clip-path=\"url(#clip440)\" d=\"M137.033 1464.61 L155.39 1464.61 L155.39 1468.54 L141.316 1468.54 L141.316 1477.02 Q142.334 1476.67 143.353 1476.51 Q144.371 1476.32 145.39 1476.32 Q151.177 1476.32 154.556 1479.49 Q157.936 1482.67 157.936 1488.08 Q157.936 1493.66 154.464 1496.76 Q150.992 1499.84 144.672 1499.84 Q142.496 1499.84 140.228 1499.47 Q137.982 1499.1 135.575 1498.36 L135.575 1493.66 Q137.658 1494.79 139.881 1495.35 Q142.103 1495.91 144.58 1495.91 Q148.584 1495.91 150.922 1493.8 Q153.26 1491.69 153.26 1488.08 Q153.26 1484.47 150.922 1482.36 Q148.584 1480.26 144.58 1480.26 Q142.705 1480.26 140.83 1480.67 Q138.978 1481.09 137.033 1481.97 L137.033 1464.61 Z\" fill=\"#000000\" fill-rule=\"evenodd\" fill-opacity=\"1\" /><path clip-path=\"url(#clip440)\" d=\"M50.9921 1243.99 L80.6679 1243.99 L80.6679 1247.93 L50.9921 1247.93 L50.9921 1243.99 Z\" fill=\"#000000\" fill-rule=\"evenodd\" fill-opacity=\"1\" /><path clip-path=\"url(#clip440)\" d=\"M91.5706 1256.89 L99.2095 1256.89 L99.2095 1230.52 L90.8993 1232.19 L90.8993 1227.93 L99.1632 1226.26 L103.839 1226.26 L103.839 1256.89 L111.478 1256.89 L111.478 1260.82 L91.5706 1260.82 L91.5706 1256.89 Z\" fill=\"#000000\" fill-rule=\"evenodd\" fill-opacity=\"1\" /><path clip-path=\"url(#clip440)\" d=\"M120.922 1254.94 L125.807 1254.94 L125.807 1260.82 L120.922 1260.82 L120.922 1254.94 Z\" fill=\"#000000\" fill-rule=\"evenodd\" fill-opacity=\"1\" /><path clip-path=\"url(#clip440)\" d=\"M145.992 1229.34 Q142.381 1229.34 140.552 1232.91 Q138.746 1236.45 138.746 1243.58 Q138.746 1250.68 140.552 1254.25 Q142.381 1257.79 145.992 1257.79 Q149.626 1257.79 151.431 1254.25 Q153.26 1250.68 153.26 1243.58 Q153.26 1236.45 151.431 1232.91 Q149.626 1229.34 145.992 1229.34 M145.992 1225.64 Q151.802 1225.64 154.857 1230.24 Q157.936 1234.83 157.936 1243.58 Q157.936 1252.3 154.857 1256.91 Q151.802 1261.49 145.992 1261.49 Q140.181 1261.49 137.103 1256.91 Q134.047 1252.3 134.047 1243.58 Q134.047 1234.83 137.103 1230.24 Q140.181 1225.64 145.992 1225.64 Z\" fill=\"#000000\" fill-rule=\"evenodd\" fill-opacity=\"1\" /><path clip-path=\"url(#clip440)\" d=\"M51.9875 1005.65 L81.6633 1005.65 L81.6633 1009.58 L51.9875 1009.58 L51.9875 1005.65 Z\" fill=\"#000000\" fill-rule=\"evenodd\" fill-opacity=\"1\" /><path clip-path=\"url(#clip440)\" d=\"M101.756 990.993 Q98.1447 990.993 96.316 994.557 Q94.5104 998.099 94.5104 1005.23 Q94.5104 1012.34 96.316 1015.9 Q98.1447 1019.44 101.756 1019.44 Q105.39 1019.44 107.196 1015.9 Q109.024 1012.34 109.024 1005.23 Q109.024 998.099 107.196 994.557 Q105.39 990.993 101.756 990.993 M101.756 987.289 Q107.566 987.289 110.621 991.895 Q113.7 996.479 113.7 1005.23 Q113.7 1013.96 110.621 1018.56 Q107.566 1023.15 101.756 1023.15 Q95.9456 1023.15 92.8669 1018.56 Q89.8114 1013.96 89.8114 1005.23 Q89.8114 996.479 92.8669 991.895 Q95.9456 987.289 101.756 987.289 Z\" fill=\"#000000\" fill-rule=\"evenodd\" fill-opacity=\"1\" /><path clip-path=\"url(#clip440)\" d=\"M121.918 1016.59 L126.802 1016.59 L126.802 1022.47 L121.918 1022.47 L121.918 1016.59 Z\" fill=\"#000000\" fill-rule=\"evenodd\" fill-opacity=\"1\" /><path clip-path=\"url(#clip440)\" d=\"M137.033 987.914 L155.39 987.914 L155.39 991.849 L141.316 991.849 L141.316 1000.32 Q142.334 999.974 143.353 999.812 Q144.371 999.627 145.39 999.627 Q151.177 999.627 154.556 1002.8 Q157.936 1005.97 157.936 1011.39 Q157.936 1016.96 154.464 1020.07 Q150.992 1023.15 144.672 1023.15 Q142.496 1023.15 140.228 1022.77 Q137.982 1022.4 135.575 1021.66 L135.575 1016.96 Q137.658 1018.1 139.881 1018.65 Q142.103 1019.21 144.58 1019.21 Q148.584 1019.21 150.922 1017.1 Q153.26 1015 153.26 1011.39 Q153.26 1007.77 150.922 1005.67 Q148.584 1003.56 144.58 1003.56 Q142.705 1003.56 140.83 1003.98 Q138.978 1004.4 137.033 1005.27 L137.033 987.914 Z\" fill=\"#000000\" fill-rule=\"evenodd\" fill-opacity=\"1\" /><path clip-path=\"url(#clip440)\" d=\"M100.76 752.645 Q97.1493 752.645 95.3206 756.209 Q93.515 759.751 93.515 766.881 Q93.515 773.987 95.3206 777.552 Q97.1493 781.094 100.76 781.094 Q104.395 781.094 106.2 777.552 Q108.029 773.987 108.029 766.881 Q108.029 759.751 106.2 756.209 Q104.395 752.645 100.76 752.645 M100.76 748.941 Q106.571 748.941 109.626 753.547 Q112.705 758.131 112.705 766.881 Q112.705 775.608 109.626 780.214 Q106.571 784.797 100.76 784.797 Q94.9502 784.797 91.8715 780.214 Q88.816 775.608 88.816 766.881 Q88.816 758.131 91.8715 753.547 Q94.9502 748.941 100.76 748.941 Z\" fill=\"#000000\" fill-rule=\"evenodd\" fill-opacity=\"1\" /><path clip-path=\"url(#clip440)\" d=\"M120.922 778.246 L125.807 778.246 L125.807 784.126 L120.922 784.126 L120.922 778.246 Z\" fill=\"#000000\" fill-rule=\"evenodd\" fill-opacity=\"1\" /><path clip-path=\"url(#clip440)\" d=\"M145.992 752.645 Q142.381 752.645 140.552 756.209 Q138.746 759.751 138.746 766.881 Q138.746 773.987 140.552 777.552 Q142.381 781.094 145.992 781.094 Q149.626 781.094 151.431 777.552 Q153.26 773.987 153.26 766.881 Q153.26 759.751 151.431 756.209 Q149.626 752.645 145.992 752.645 M145.992 748.941 Q151.802 748.941 154.857 753.547 Q157.936 758.131 157.936 766.881 Q157.936 775.608 154.857 780.214 Q151.802 784.797 145.992 784.797 Q140.181 784.797 137.103 780.214 Q134.047 775.608 134.047 766.881 Q134.047 758.131 137.103 753.547 Q140.181 748.941 145.992 748.941 Z\" fill=\"#000000\" fill-rule=\"evenodd\" fill-opacity=\"1\" /><path clip-path=\"url(#clip440)\" d=\"M101.756 514.297 Q98.1447 514.297 96.316 517.862 Q94.5104 521.403 94.5104 528.533 Q94.5104 535.639 96.316 539.204 Q98.1447 542.746 101.756 542.746 Q105.39 542.746 107.196 539.204 Q109.024 535.639 109.024 528.533 Q109.024 521.403 107.196 517.862 Q105.39 514.297 101.756 514.297 M101.756 510.593 Q107.566 510.593 110.621 515.2 Q113.7 519.783 113.7 528.533 Q113.7 537.26 110.621 541.866 Q107.566 546.449 101.756 546.449 Q95.9456 546.449 92.8669 541.866 Q89.8114 537.26 89.8114 528.533 Q89.8114 519.783 92.8669 515.2 Q95.9456 510.593 101.756 510.593 Z\" fill=\"#000000\" fill-rule=\"evenodd\" fill-opacity=\"1\" /><path clip-path=\"url(#clip440)\" d=\"M121.918 539.898 L126.802 539.898 L126.802 545.778 L121.918 545.778 L121.918 539.898 Z\" fill=\"#000000\" fill-rule=\"evenodd\" fill-opacity=\"1\" /><path clip-path=\"url(#clip440)\" d=\"M137.033 511.218 L155.39 511.218 L155.39 515.153 L141.316 515.153 L141.316 523.625 Q142.334 523.278 143.353 523.116 Q144.371 522.931 145.39 522.931 Q151.177 522.931 154.556 526.102 Q157.936 529.274 157.936 534.69 Q157.936 540.269 154.464 543.371 Q150.992 546.449 144.672 546.449 Q142.496 546.449 140.228 546.079 Q137.982 545.709 135.575 544.968 L135.575 540.269 Q137.658 541.403 139.881 541.959 Q142.103 542.514 144.58 542.514 Q148.584 542.514 150.922 540.408 Q153.26 538.301 153.26 534.69 Q153.26 531.079 150.922 528.973 Q148.584 526.866 144.58 526.866 Q142.705 526.866 140.83 527.283 Q138.978 527.699 137.033 528.579 L137.033 511.218 Z\" fill=\"#000000\" fill-rule=\"evenodd\" fill-opacity=\"1\" /><path clip-path=\"url(#clip440)\" d=\"M91.5706 303.495 L99.2095 303.495 L99.2095 277.129 L90.8993 278.796 L90.8993 274.537 L99.1632 272.87 L103.839 272.87 L103.839 303.495 L111.478 303.495 L111.478 307.43 L91.5706 307.43 L91.5706 303.495 Z\" fill=\"#000000\" fill-rule=\"evenodd\" fill-opacity=\"1\" /><path clip-path=\"url(#clip440)\" d=\"M120.922 301.551 L125.807 301.551 L125.807 307.43 L120.922 307.43 L120.922 301.551 Z\" fill=\"#000000\" fill-rule=\"evenodd\" fill-opacity=\"1\" /><path clip-path=\"url(#clip440)\" d=\"M145.992 275.949 Q142.381 275.949 140.552 279.514 Q138.746 283.055 138.746 290.185 Q138.746 297.291 140.552 300.856 Q142.381 304.398 145.992 304.398 Q149.626 304.398 151.431 300.856 Q153.26 297.291 153.26 290.185 Q153.26 283.055 151.431 279.514 Q149.626 275.949 145.992 275.949 M145.992 272.245 Q151.802 272.245 154.857 276.852 Q157.936 281.435 157.936 290.185 Q157.936 298.912 154.857 303.518 Q151.802 308.101 145.992 308.101 Q140.181 308.101 137.103 303.518 Q134.047 298.912 134.047 290.185 Q134.047 281.435 137.103 276.852 Q140.181 272.245 145.992 272.245 Z\" fill=\"#000000\" fill-rule=\"evenodd\" fill-opacity=\"1\" /><path clip-path=\"url(#clip440)\" d=\"M92.566 65.147 L100.205 65.147 L100.205 38.7814 L91.8947 40.4481 L91.8947 36.1889 L100.159 34.5222 L104.834 34.5222 L104.834 65.147 L112.473 65.147 L112.473 69.0822 L92.566 69.0822 L92.566 65.147 Z\" fill=\"#000000\" fill-rule=\"evenodd\" fill-opacity=\"1\" /><path clip-path=\"url(#clip440)\" d=\"M121.918 63.2026 L126.802 63.2026 L126.802 69.0822 L121.918 69.0822 L121.918 63.2026 Z\" fill=\"#000000\" fill-rule=\"evenodd\" fill-opacity=\"1\" /><path clip-path=\"url(#clip440)\" d=\"M137.033 34.5222 L155.39 34.5222 L155.39 38.4574 L141.316 38.4574 L141.316 46.9295 Q142.334 46.5823 143.353 46.4203 Q144.371 46.2351 145.39 46.2351 Q151.177 46.2351 154.556 49.4064 Q157.936 52.5777 157.936 57.9943 Q157.936 63.573 154.464 66.6748 Q150.992 69.7535 144.672 69.7535 Q142.496 69.7535 140.228 69.3831 Q137.982 69.0128 135.575 68.272 L135.575 63.573 Q137.658 64.7072 139.881 65.2628 Q142.103 65.8183 144.58 65.8183 Q148.584 65.8183 150.922 63.7119 Q153.26 61.6054 153.26 57.9943 Q153.26 54.3832 150.922 52.2767 Q148.584 50.1703 144.58 50.1703 Q142.705 50.1703 140.83 50.5869 Q138.978 51.0036 137.033 51.8832 L137.033 34.5222 Z\" fill=\"#000000\" fill-rule=\"evenodd\" fill-opacity=\"1\" /><polyline clip-path=\"url(#clip442)\" style=\"stroke:#009af9; stroke-linecap:butt; stroke-linejoin:round; stroke-width:4; stroke-opacity:1; fill:none\" points=\"\n",
       "  255.035,1141.24 287.883,1176.91 320.732,1212.11 353.581,1246.36 386.43,1279.21 419.278,1310.2 452.127,1338.9 484.976,1364.92 517.825,1387.86 550.673,1407.39 \n",
       "  583.522,1423.19 616.371,1434.99 649.22,1442.53 682.068,1445.64 714.917,1444.16 747.766,1437.98 780.615,1427.06 813.463,1411.37 846.312,1390.96 879.161,1365.91 \n",
       "  912.01,1336.35 944.858,1302.47 977.707,1264.47 1010.56,1222.62 1043.4,1177.22 1076.25,1128.6 1109.1,1077.13 1141.95,1023.2 1174.8,967.242 1207.65,909.687 \n",
       "  1240.5,850.991 1273.35,791.624 1306.19,732.059 1339.04,672.771 1371.89,614.235 1404.74,556.916 1437.59,501.268 1470.44,447.728 1503.29,396.711 1536.14,348.608 \n",
       "  1568.98,303.782 1601.83,262.559 1634.68,225.235 1667.53,192.061 1700.38,163.252 1733.23,138.975 1766.08,119.353 1798.93,104.465 1831.77,94.3395 1864.62,88.9585 \n",
       "  1897.47,88.257 1930.32,92.1228 1963.17,100.398 1996.02,112.882 2028.87,129.329 2061.72,149.457 2094.56,172.946 2127.41,199.441 2160.26,228.559 2193.11,259.89 \n",
       "  2225.96,293.002 2258.81,327.445 2291.66,362.755 \n",
       "  \"/>\n",
       "<circle clip-path=\"url(#clip442)\" cx=\"688.019\" cy=\"1445.72\" r=\"14\" fill=\"#e26f46\" fill-rule=\"evenodd\" fill-opacity=\"1\" stroke=\"#000000\" stroke-opacity=\"1\" stroke-width=\"3.2\"/>\n",
       "<circle clip-path=\"url(#clip442)\" cx=\"1886\" cy=\"87.9763\" r=\"14\" fill=\"#e26f46\" fill-rule=\"evenodd\" fill-opacity=\"1\" stroke=\"#000000\" stroke-opacity=\"1\" stroke-width=\"3.2\"/>\n",
       "<path clip-path=\"url(#clip440)\" d=\"\n",
       "M265.897 198.898 L930.879 198.898 L930.879 95.2176 L265.897 95.2176  Z\n",
       "  \" fill=\"#ffffff\" fill-rule=\"evenodd\" fill-opacity=\"1\"/>\n",
       "<polyline clip-path=\"url(#clip440)\" style=\"stroke:#000000; stroke-linecap:butt; stroke-linejoin:round; stroke-width:4; stroke-opacity:1; fill:none\" points=\"\n",
       "  265.897,198.898 930.879,198.898 930.879,95.2176 265.897,95.2176 265.897,198.898 \n",
       "  \"/>\n",
       "<polyline clip-path=\"url(#clip440)\" style=\"stroke:#009af9; stroke-linecap:butt; stroke-linejoin:round; stroke-width:4; stroke-opacity:1; fill:none\" points=\"\n",
       "  289.884,147.058 433.805,147.058 \n",
       "  \"/>\n",
       "<path clip-path=\"url(#clip440)\" d=\"M474.296 128.319 L474.296 131.861 L470.222 131.861 Q467.931 131.861 467.028 132.787 Q466.148 133.713 466.148 136.12 L466.148 138.412 L473.162 138.412 L473.162 141.722 L466.148 141.722 L466.148 164.338 L461.866 164.338 L461.866 141.722 L457.792 141.722 L457.792 138.412 L461.866 138.412 L461.866 136.606 Q461.866 132.278 463.88 130.31 Q465.894 128.319 470.269 128.319 L474.296 128.319 Z\" fill=\"#000000\" fill-rule=\"evenodd\" fill-opacity=\"1\" /><path clip-path=\"url(#clip440)\" d=\"M488.093 128.366 Q484.991 133.69 483.486 138.898 Q481.981 144.106 481.981 149.453 Q481.981 154.801 483.486 160.055 Q485.014 165.287 488.093 170.588 L484.389 170.588 Q480.917 165.148 479.181 159.893 Q477.468 154.639 477.468 149.453 Q477.468 144.291 479.181 139.06 Q480.893 133.828 484.389 128.366 L488.093 128.366 Z\" fill=\"#000000\" fill-rule=\"evenodd\" fill-opacity=\"1\" /><path clip-path=\"url(#clip440)\" d=\"M517.907 138.412 L508.532 151.027 L518.393 164.338 L513.37 164.338 L505.824 154.152 L498.278 164.338 L493.255 164.338 L503.324 150.773 L494.111 138.412 L499.134 138.412 L506.009 147.648 L512.884 138.412 L517.907 138.412 Z\" fill=\"#000000\" fill-rule=\"evenodd\" fill-opacity=\"1\" /><path clip-path=\"url(#clip440)\" d=\"M523.74 128.366 L527.444 128.366 Q530.916 133.828 532.629 139.06 Q534.365 144.291 534.365 149.453 Q534.365 154.639 532.629 159.893 Q530.916 165.148 527.444 170.588 L523.74 170.588 Q526.819 165.287 528.324 160.055 Q529.852 154.801 529.852 149.453 Q529.852 144.106 528.324 138.898 Q526.819 133.69 523.74 128.366 Z\" fill=\"#000000\" fill-rule=\"evenodd\" fill-opacity=\"1\" /><path clip-path=\"url(#clip440)\" d=\"M543.463 142.81 L573.138 142.81 L573.138 146.699 L543.463 146.699 L543.463 142.81 M543.463 152.254 L573.138 152.254 L573.138 156.189 L543.463 156.189 L543.463 152.254 Z\" fill=\"#000000\" fill-rule=\"evenodd\" fill-opacity=\"1\" /><path clip-path=\"url(#clip440)\" d=\"M599.157 139.176 L599.157 143.203 Q597.351 142.277 595.407 141.815 Q593.462 141.352 591.379 141.352 Q588.208 141.352 586.611 142.324 Q585.036 143.296 585.036 145.24 Q585.036 146.722 586.171 147.578 Q587.305 148.412 590.731 149.176 L592.189 149.5 Q596.726 150.472 598.624 152.254 Q600.546 154.014 600.546 157.185 Q600.546 160.796 597.675 162.902 Q594.828 165.009 589.828 165.009 Q587.745 165.009 585.476 164.592 Q583.231 164.199 580.731 163.388 L580.731 158.99 Q583.092 160.217 585.384 160.842 Q587.675 161.444 589.921 161.444 Q592.93 161.444 594.55 160.426 Q596.171 159.384 596.171 157.509 Q596.171 155.773 594.99 154.847 Q593.833 153.921 589.874 153.064 L588.393 152.717 Q584.435 151.884 582.675 150.171 Q580.916 148.435 580.916 145.426 Q580.916 141.768 583.509 139.778 Q586.101 137.787 590.87 137.787 Q593.231 137.787 595.314 138.134 Q597.397 138.481 599.157 139.176 Z\" fill=\"#000000\" fill-rule=\"evenodd\" fill-opacity=\"1\" /><path clip-path=\"url(#clip440)\" d=\"M607.328 138.412 L611.587 138.412 L611.587 164.338 L607.328 164.338 L607.328 138.412 M607.328 128.319 L611.587 128.319 L611.587 133.713 L607.328 133.713 L607.328 128.319 Z\" fill=\"#000000\" fill-rule=\"evenodd\" fill-opacity=\"1\" /><path clip-path=\"url(#clip440)\" d=\"M642.05 148.689 L642.05 164.338 L637.791 164.338 L637.791 148.828 Q637.791 145.148 636.356 143.319 Q634.92 141.49 632.05 141.49 Q628.601 141.49 626.61 143.69 Q624.62 145.889 624.62 149.685 L624.62 164.338 L620.337 164.338 L620.337 138.412 L624.62 138.412 L624.62 142.44 Q626.147 140.102 628.208 138.944 Q630.291 137.787 632.999 137.787 Q637.467 137.787 639.758 140.565 Q642.05 143.319 642.05 148.689 Z\" fill=\"#000000\" fill-rule=\"evenodd\" fill-opacity=\"1\" /><path clip-path=\"url(#clip440)\" d=\"M660.777 128.366 Q657.675 133.69 656.17 138.898 Q654.666 144.106 654.666 149.453 Q654.666 154.801 656.17 160.055 Q657.698 165.287 660.777 170.588 L657.073 170.588 Q653.601 165.148 651.865 159.893 Q650.152 154.639 650.152 149.453 Q650.152 144.291 651.865 139.06 Q653.578 133.828 657.073 128.366 L660.777 128.366 Z\" fill=\"#000000\" fill-rule=\"evenodd\" fill-opacity=\"1\" /><path clip-path=\"url(#clip440)\" d=\"M690.591 138.412 L681.216 151.027 L691.078 164.338 L686.054 164.338 L678.508 154.152 L670.962 164.338 L665.939 164.338 L676.008 150.773 L666.795 138.412 L671.818 138.412 L678.693 147.648 L685.568 138.412 L690.591 138.412 Z\" fill=\"#000000\" fill-rule=\"evenodd\" fill-opacity=\"1\" /><path clip-path=\"url(#clip440)\" d=\"M696.425 128.366 L700.128 128.366 Q703.601 133.828 705.314 139.06 Q707.05 144.291 707.05 149.453 Q707.05 154.639 705.314 159.893 Q703.601 165.148 700.128 170.588 L696.425 170.588 Q699.503 165.287 701.008 160.055 Q702.536 154.801 702.536 149.453 Q702.536 144.106 701.008 138.898 Q699.503 133.69 696.425 128.366 Z\" fill=\"#000000\" fill-rule=\"evenodd\" fill-opacity=\"1\" /><path clip-path=\"url(#clip440)\" d=\"M732.929 134.615 L732.929 147.509 L745.823 147.509 L745.823 151.444 L732.929 151.444 L732.929 164.338 L729.04 164.338 L729.04 151.444 L716.147 151.444 L716.147 147.509 L729.04 147.509 L729.04 134.615 L732.929 134.615 Z\" fill=\"#000000\" fill-rule=\"evenodd\" fill-opacity=\"1\" /><path clip-path=\"url(#clip440)\" d=\"M765.915 132.856 Q762.304 132.856 760.475 136.421 Q758.67 139.963 758.67 147.092 Q758.67 154.199 760.475 157.764 Q762.304 161.305 765.915 161.305 Q769.549 161.305 771.355 157.764 Q773.184 154.199 773.184 147.092 Q773.184 139.963 771.355 136.421 Q769.549 132.856 765.915 132.856 M765.915 129.153 Q771.725 129.153 774.781 133.759 Q777.859 138.342 777.859 147.092 Q777.859 155.819 774.781 160.426 Q771.725 165.009 765.915 165.009 Q760.105 165.009 757.026 160.426 Q753.971 155.819 753.971 147.092 Q753.971 138.342 757.026 133.759 Q760.105 129.153 765.915 129.153 Z\" fill=\"#000000\" fill-rule=\"evenodd\" fill-opacity=\"1\" /><path clip-path=\"url(#clip440)\" d=\"M786.077 158.458 L790.961 158.458 L790.961 164.338 L786.077 164.338 L786.077 158.458 Z\" fill=\"#000000\" fill-rule=\"evenodd\" fill-opacity=\"1\" /><path clip-path=\"url(#clip440)\" d=\"M805.174 160.402 L821.494 160.402 L821.494 164.338 L799.549 164.338 L799.549 160.402 Q802.211 157.648 806.795 153.018 Q811.401 148.365 812.582 147.023 Q814.827 144.5 815.707 142.764 Q816.609 141.004 816.609 139.315 Q816.609 136.56 814.665 134.824 Q812.744 133.088 809.642 133.088 Q807.443 133.088 804.989 133.852 Q802.558 134.615 799.781 136.166 L799.781 131.444 Q802.605 130.31 805.058 129.731 Q807.512 129.153 809.549 129.153 Q814.919 129.153 818.114 131.838 Q821.308 134.523 821.308 139.014 Q821.308 141.143 820.498 143.065 Q819.711 144.963 817.605 147.555 Q817.026 148.227 813.924 151.444 Q810.822 154.639 805.174 160.402 Z\" fill=\"#000000\" fill-rule=\"evenodd\" fill-opacity=\"1\" /><path clip-path=\"url(#clip440)\" d=\"M831.355 129.778 L849.711 129.778 L849.711 133.713 L835.637 133.713 L835.637 142.185 Q836.655 141.838 837.674 141.676 Q838.693 141.49 839.711 141.49 Q845.498 141.49 848.878 144.662 Q852.257 147.833 852.257 153.25 Q852.257 158.828 848.785 161.93 Q845.313 165.009 838.993 165.009 Q836.818 165.009 834.549 164.638 Q832.304 164.268 829.896 163.527 L829.896 158.828 Q831.98 159.963 834.202 160.518 Q836.424 161.074 838.901 161.074 Q842.905 161.074 845.243 158.967 Q847.581 156.861 847.581 153.25 Q847.581 149.639 845.243 147.532 Q842.905 145.426 838.901 145.426 Q837.026 145.426 835.151 145.842 Q833.299 146.259 831.355 147.139 L831.355 129.778 Z\" fill=\"#000000\" fill-rule=\"evenodd\" fill-opacity=\"1\" /><path clip-path=\"url(#clip440)\" d=\"M882.419 138.412 L873.044 151.027 L882.905 164.338 L877.882 164.338 L870.336 154.152 L862.79 164.338 L857.766 164.338 L867.836 150.773 L858.623 138.412 L863.646 138.412 L870.521 147.648 L877.396 138.412 L882.419 138.412 Z\" fill=\"#000000\" fill-rule=\"evenodd\" fill-opacity=\"1\" /><path clip-path=\"url(#clip440)\" d=\"M388.759 1364.54 L396.212 1364.54 L396.212 1427.57 L388.759 1427.57 L388.759 1364.54 Z\" fill=\"#000000\" fill-rule=\"evenodd\" fill-opacity=\"1\" /><path clip-path=\"url(#clip440)\" d=\"M429.389 1387.43 Q423.394 1387.43 419.91 1392.13 Q416.426 1396.78 416.426 1404.93 Q416.426 1413.07 419.87 1417.77 Q423.354 1422.43 429.389 1422.43 Q435.344 1422.43 438.828 1417.73 Q442.312 1413.03 442.312 1404.93 Q442.312 1396.87 438.828 1392.17 Q435.344 1387.43 429.389 1387.43 M429.389 1381.11 Q439.112 1381.11 444.661 1387.43 Q450.211 1393.75 450.211 1404.93 Q450.211 1416.07 444.661 1422.43 Q439.112 1428.75 429.389 1428.75 Q419.627 1428.75 414.077 1422.43 Q408.568 1416.07 408.568 1404.93 Q408.568 1393.75 414.077 1387.43 Q419.627 1381.11 429.389 1381.11 Z\" fill=\"#000000\" fill-rule=\"evenodd\" fill-opacity=\"1\" /><path clip-path=\"url(#clip440)\" d=\"M495.217 1383.94 L495.217 1390.91 Q492.057 1389.17 488.857 1388.32 Q485.697 1387.43 482.456 1387.43 Q475.205 1387.43 471.195 1392.05 Q467.184 1396.62 467.184 1404.93 Q467.184 1413.23 471.195 1417.85 Q475.205 1422.43 482.456 1422.43 Q485.697 1422.43 488.857 1421.58 Q492.057 1420.69 495.217 1418.94 L495.217 1425.83 Q492.097 1427.29 488.735 1428.02 Q485.413 1428.75 481.646 1428.75 Q471.397 1428.75 465.361 1422.31 Q459.326 1415.86 459.326 1404.93 Q459.326 1393.83 465.402 1387.47 Q471.519 1381.11 482.132 1381.11 Q485.575 1381.11 488.857 1381.84 Q492.138 1382.53 495.217 1383.94 Z\" fill=\"#000000\" fill-rule=\"evenodd\" fill-opacity=\"1\" /><path clip-path=\"url(#clip440)\" d=\"M528.799 1404.77 Q519.765 1404.77 516.281 1406.83 Q512.797 1408.9 512.797 1413.88 Q512.797 1417.85 515.39 1420.2 Q518.023 1422.51 522.52 1422.51 Q528.718 1422.51 532.444 1418.13 Q536.212 1413.72 536.212 1406.43 L536.212 1404.77 L528.799 1404.77 M543.665 1401.69 L543.665 1427.57 L536.212 1427.57 L536.212 1420.69 Q533.66 1424.82 529.852 1426.8 Q526.044 1428.75 520.535 1428.75 Q513.567 1428.75 509.435 1424.86 Q505.344 1420.93 505.344 1414.37 Q505.344 1406.71 510.448 1402.82 Q515.593 1398.93 525.76 1398.93 L536.212 1398.93 L536.212 1398.2 Q536.212 1393.06 532.809 1390.26 Q529.447 1387.43 523.33 1387.43 Q519.441 1387.43 515.755 1388.36 Q512.068 1389.29 508.666 1391.15 L508.666 1384.27 Q512.757 1382.69 516.605 1381.92 Q520.454 1381.11 524.099 1381.11 Q533.943 1381.11 538.804 1386.21 Q543.665 1391.32 543.665 1401.69 Z\" fill=\"#000000\" fill-rule=\"evenodd\" fill-opacity=\"1\" /><path clip-path=\"url(#clip440)\" d=\"M559.018 1364.54 L566.472 1364.54 L566.472 1427.57 L559.018 1427.57 L559.018 1364.54 Z\" fill=\"#000000\" fill-rule=\"evenodd\" fill-opacity=\"1\" /><path clip-path=\"url(#clip440)\" d=\"M643.763 1390.91 Q646.558 1385.89 650.447 1383.5 Q654.336 1381.11 659.602 1381.11 Q666.691 1381.11 670.54 1386.09 Q674.388 1391.03 674.388 1400.19 L674.388 1427.57 L666.894 1427.57 L666.894 1400.43 Q666.894 1393.91 664.585 1390.75 Q662.276 1387.59 657.536 1387.59 Q651.743 1387.59 648.381 1391.44 Q645.019 1395.29 645.019 1401.93 L645.019 1427.57 L637.525 1427.57 L637.525 1400.43 Q637.525 1393.87 635.216 1390.75 Q632.907 1387.59 628.086 1387.59 Q622.374 1387.59 619.012 1391.48 Q615.65 1395.33 615.65 1401.93 L615.65 1427.57 L608.156 1427.57 L608.156 1382.2 L615.65 1382.2 L615.65 1389.25 Q618.202 1385.08 621.767 1383.09 Q625.332 1381.11 630.233 1381.11 Q635.175 1381.11 638.619 1383.62 Q642.102 1386.13 643.763 1390.91 Z\" fill=\"#000000\" fill-rule=\"evenodd\" fill-opacity=\"1\" /><path clip-path=\"url(#clip440)\" d=\"M689.255 1382.2 L696.709 1382.2 L696.709 1427.57 L689.255 1427.57 L689.255 1382.2 M689.255 1364.54 L696.709 1364.54 L696.709 1373.98 L689.255 1373.98 L689.255 1364.54 Z\" fill=\"#000000\" fill-rule=\"evenodd\" fill-opacity=\"1\" /><path clip-path=\"url(#clip440)\" d=\"M750.018 1400.19 L750.018 1427.57 L742.565 1427.57 L742.565 1400.43 Q742.565 1393.99 740.053 1390.79 Q737.542 1387.59 732.519 1387.59 Q726.483 1387.59 722.999 1391.44 Q719.515 1395.29 719.515 1401.93 L719.515 1427.57 L712.021 1427.57 L712.021 1382.2 L719.515 1382.2 L719.515 1389.25 Q722.189 1385.16 725.794 1383.13 Q729.44 1381.11 734.179 1381.11 Q741.998 1381.11 746.008 1385.97 Q750.018 1390.79 750.018 1400.19 Z\" fill=\"#000000\" fill-rule=\"evenodd\" fill-opacity=\"1\" /><path clip-path=\"url(#clip440)\" d=\"M764.885 1382.2 L772.339 1382.2 L772.339 1427.57 L764.885 1427.57 L764.885 1382.2 M764.885 1364.54 L772.339 1364.54 L772.339 1373.98 L764.885 1373.98 L764.885 1364.54 Z\" fill=\"#000000\" fill-rule=\"evenodd\" fill-opacity=\"1\" /><path clip-path=\"url(#clip440)\" d=\"M823.259 1390.91 Q826.054 1385.89 829.943 1383.5 Q833.832 1381.11 839.098 1381.11 Q846.187 1381.11 850.035 1386.09 Q853.884 1391.03 853.884 1400.19 L853.884 1427.57 L846.389 1427.57 L846.389 1400.43 Q846.389 1393.91 844.08 1390.75 Q841.771 1387.59 837.032 1387.59 Q831.239 1387.59 827.877 1391.44 Q824.515 1395.29 824.515 1401.93 L824.515 1427.57 L817.02 1427.57 L817.02 1400.43 Q817.02 1393.87 814.711 1390.75 Q812.402 1387.59 807.582 1387.59 Q801.87 1387.59 798.508 1391.48 Q795.146 1395.33 795.146 1401.93 L795.146 1427.57 L787.651 1427.57 L787.651 1382.2 L795.146 1382.2 L795.146 1389.25 Q797.698 1385.08 801.262 1383.09 Q804.827 1381.11 809.729 1381.11 Q814.671 1381.11 818.114 1383.62 Q821.598 1386.13 823.259 1390.91 Z\" fill=\"#000000\" fill-rule=\"evenodd\" fill-opacity=\"1\" /><path clip-path=\"url(#clip440)\" d=\"M867.981 1409.67 L867.981 1382.2 L875.434 1382.2 L875.434 1409.38 Q875.434 1415.82 877.946 1419.06 Q880.458 1422.27 885.481 1422.27 Q891.517 1422.27 895 1418.42 Q898.525 1414.57 898.525 1407.92 L898.525 1382.2 L905.978 1382.2 L905.978 1427.57 L898.525 1427.57 L898.525 1420.6 Q895.81 1424.74 892.205 1426.76 Q888.64 1428.75 883.901 1428.75 Q876.083 1428.75 872.032 1423.89 Q867.981 1419.02 867.981 1409.67 M886.736 1381.11 L886.736 1381.11 Z\" fill=\"#000000\" fill-rule=\"evenodd\" fill-opacity=\"1\" /><path clip-path=\"url(#clip440)\" d=\"M956.655 1390.91 Q959.45 1385.89 963.339 1383.5 Q967.228 1381.11 972.494 1381.11 Q979.583 1381.11 983.432 1386.09 Q987.28 1391.03 987.28 1400.19 L987.28 1427.57 L979.786 1427.57 L979.786 1400.43 Q979.786 1393.91 977.477 1390.75 Q975.168 1387.59 970.428 1387.59 Q964.635 1387.59 961.273 1391.44 Q957.911 1395.29 957.911 1401.93 L957.911 1427.57 L950.417 1427.57 L950.417 1400.43 Q950.417 1393.87 948.108 1390.75 Q945.799 1387.59 940.978 1387.59 Q935.266 1387.59 931.904 1391.48 Q928.542 1395.33 928.542 1401.93 L928.542 1427.57 L921.048 1427.57 L921.048 1382.2 L928.542 1382.2 L928.542 1389.25 Q931.094 1385.08 934.659 1383.09 Q938.223 1381.11 943.125 1381.11 Q948.067 1381.11 951.51 1383.62 Q954.994 1386.13 956.655 1390.91 Z\" fill=\"#000000\" fill-rule=\"evenodd\" fill-opacity=\"1\" /><path clip-path=\"url(#clip440)\" d=\"M1574.58 97.5202 L1582.04 97.5202 L1582.04 160.552 L1574.58 160.552 L1574.58 97.5202 Z\" fill=\"#000000\" fill-rule=\"evenodd\" fill-opacity=\"1\" /><path clip-path=\"url(#clip440)\" d=\"M1615.22 120.408 Q1609.22 120.408 1605.74 125.107 Q1602.25 129.765 1602.25 137.908 Q1602.25 146.05 1605.7 150.749 Q1609.18 155.408 1615.22 155.408 Q1621.17 155.408 1624.65 150.709 Q1628.14 146.01 1628.14 137.908 Q1628.14 129.846 1624.65 125.147 Q1621.17 120.408 1615.22 120.408 M1615.22 114.088 Q1624.94 114.088 1630.49 120.408 Q1636.04 126.727 1636.04 137.908 Q1636.04 149.048 1630.49 155.408 Q1624.94 161.727 1615.22 161.727 Q1605.45 161.727 1599.9 155.408 Q1594.39 149.048 1594.39 137.908 Q1594.39 126.727 1599.9 120.408 Q1605.45 114.088 1615.22 114.088 Z\" fill=\"#000000\" fill-rule=\"evenodd\" fill-opacity=\"1\" /><path clip-path=\"url(#clip440)\" d=\"M1681.04 116.924 L1681.04 123.892 Q1677.88 122.15 1674.68 121.299 Q1671.52 120.408 1668.28 120.408 Q1661.03 120.408 1657.02 125.026 Q1653.01 129.603 1653.01 137.908 Q1653.01 146.212 1657.02 150.83 Q1661.03 155.408 1668.28 155.408 Q1671.52 155.408 1674.68 154.557 Q1677.88 153.666 1681.04 151.924 L1681.04 158.81 Q1677.92 160.269 1674.56 160.998 Q1671.24 161.727 1667.47 161.727 Q1657.22 161.727 1651.19 155.286 Q1645.15 148.845 1645.15 137.908 Q1645.15 126.808 1651.23 120.448 Q1657.34 114.088 1667.96 114.088 Q1671.4 114.088 1674.68 114.818 Q1677.96 115.506 1681.04 116.924 Z\" fill=\"#000000\" fill-rule=\"evenodd\" fill-opacity=\"1\" /><path clip-path=\"url(#clip440)\" d=\"M1714.62 137.746 Q1705.59 137.746 1702.11 139.812 Q1698.62 141.878 1698.62 146.86 Q1698.62 150.83 1701.22 153.18 Q1703.85 155.489 1708.35 155.489 Q1714.54 155.489 1718.27 151.114 Q1722.04 146.698 1722.04 139.407 L1722.04 137.746 L1714.62 137.746 M1729.49 134.667 L1729.49 160.552 L1722.04 160.552 L1722.04 153.666 Q1719.49 157.798 1715.68 159.783 Q1711.87 161.727 1706.36 161.727 Q1699.39 161.727 1695.26 157.838 Q1691.17 153.909 1691.17 147.346 Q1691.17 139.69 1696.27 135.801 Q1701.42 131.912 1711.59 131.912 L1722.04 131.912 L1722.04 131.183 Q1722.04 126.039 1718.63 123.243 Q1715.27 120.408 1709.16 120.408 Q1705.27 120.408 1701.58 121.34 Q1697.89 122.271 1694.49 124.135 L1694.49 117.248 Q1698.58 115.668 1702.43 114.899 Q1706.28 114.088 1709.93 114.088 Q1719.77 114.088 1724.63 119.193 Q1729.49 124.297 1729.49 134.667 Z\" fill=\"#000000\" fill-rule=\"evenodd\" fill-opacity=\"1\" /><path clip-path=\"url(#clip440)\" d=\"M1744.84 97.5202 L1752.3 97.5202 L1752.3 160.552 L1744.84 160.552 L1744.84 97.5202 Z\" fill=\"#000000\" fill-rule=\"evenodd\" fill-opacity=\"1\" /><path clip-path=\"url(#clip440)\" d=\"M1829.59 123.892 Q1832.38 118.868 1836.27 116.478 Q1840.16 114.088 1845.43 114.088 Q1852.52 114.088 1856.37 119.071 Q1860.21 124.013 1860.21 133.168 L1860.21 160.552 L1852.72 160.552 L1852.72 133.411 Q1852.72 126.889 1850.41 123.73 Q1848.1 120.57 1843.36 120.57 Q1837.57 120.57 1834.21 124.418 Q1830.84 128.267 1830.84 134.91 L1830.84 160.552 L1823.35 160.552 L1823.35 133.411 Q1823.35 126.849 1821.04 123.73 Q1818.73 120.57 1813.91 120.57 Q1808.2 120.57 1804.84 124.459 Q1801.48 128.307 1801.48 134.91 L1801.48 160.552 L1793.98 160.552 L1793.98 115.182 L1801.48 115.182 L1801.48 122.231 Q1804.03 118.058 1807.59 116.073 Q1811.16 114.088 1816.06 114.088 Q1821 114.088 1824.44 116.6 Q1827.93 119.112 1829.59 123.892 Z\" fill=\"#000000\" fill-rule=\"evenodd\" fill-opacity=\"1\" /><path clip-path=\"url(#clip440)\" d=\"M1895.7 137.746 Q1886.67 137.746 1883.18 139.812 Q1879.7 141.878 1879.7 146.86 Q1879.7 150.83 1882.29 153.18 Q1884.92 155.489 1889.42 155.489 Q1895.62 155.489 1899.35 151.114 Q1903.11 146.698 1903.11 139.407 L1903.11 137.746 L1895.7 137.746 M1910.57 134.667 L1910.57 160.552 L1903.11 160.552 L1903.11 153.666 Q1900.56 157.798 1896.75 159.783 Q1892.95 161.727 1887.44 161.727 Q1880.47 161.727 1876.34 157.838 Q1872.25 153.909 1872.25 147.346 Q1872.25 139.69 1877.35 135.801 Q1882.49 131.912 1892.66 131.912 L1903.11 131.912 L1903.11 131.183 Q1903.11 126.039 1899.71 123.243 Q1896.35 120.408 1890.23 120.408 Q1886.34 120.408 1882.66 121.34 Q1878.97 122.271 1875.57 124.135 L1875.57 117.248 Q1879.66 115.668 1883.51 114.899 Q1887.35 114.088 1891 114.088 Q1900.84 114.088 1905.71 119.193 Q1910.57 124.297 1910.57 134.667 Z\" fill=\"#000000\" fill-rule=\"evenodd\" fill-opacity=\"1\" /><path clip-path=\"url(#clip440)\" d=\"M1963.63 115.182 L1947.23 137.26 L1964.48 160.552 L1955.69 160.552 L1942.49 142.728 L1929.28 160.552 L1920.49 160.552 L1938.11 136.814 L1921.99 115.182 L1930.78 115.182 L1942.81 131.345 L1954.84 115.182 L1963.63 115.182 Z\" fill=\"#000000\" fill-rule=\"evenodd\" fill-opacity=\"1\" /><path clip-path=\"url(#clip440)\" d=\"M1975.02 115.182 L1982.47 115.182 L1982.47 160.552 L1975.02 160.552 L1975.02 115.182 M1975.02 97.5202 L1982.47 97.5202 L1982.47 106.959 L1975.02 106.959 L1975.02 97.5202 Z\" fill=\"#000000\" fill-rule=\"evenodd\" fill-opacity=\"1\" /><path clip-path=\"url(#clip440)\" d=\"M2033.39 123.892 Q2036.19 118.868 2040.07 116.478 Q2043.96 114.088 2049.23 114.088 Q2056.32 114.088 2060.17 119.071 Q2064.01 124.013 2064.01 133.168 L2064.01 160.552 L2056.52 160.552 L2056.52 133.411 Q2056.52 126.889 2054.21 123.73 Q2051.9 120.57 2047.16 120.57 Q2041.37 120.57 2038.01 124.418 Q2034.65 128.267 2034.65 134.91 L2034.65 160.552 L2027.15 160.552 L2027.15 133.411 Q2027.15 126.849 2024.84 123.73 Q2022.53 120.57 2017.71 120.57 Q2012 120.57 2008.64 124.459 Q2005.28 128.307 2005.28 134.91 L2005.28 160.552 L1997.78 160.552 L1997.78 115.182 L2005.28 115.182 L2005.28 122.231 Q2007.83 118.058 2011.39 116.073 Q2014.96 114.088 2019.86 114.088 Q2024.8 114.088 2028.25 116.6 Q2031.73 119.112 2033.39 123.892 Z\" fill=\"#000000\" fill-rule=\"evenodd\" fill-opacity=\"1\" /><path clip-path=\"url(#clip440)\" d=\"M2078.11 142.647 L2078.11 115.182 L2085.57 115.182 L2085.57 142.364 Q2085.57 148.805 2088.08 152.045 Q2090.59 155.246 2095.61 155.246 Q2101.65 155.246 2105.13 151.397 Q2108.66 147.549 2108.66 140.905 L2108.66 115.182 L2116.11 115.182 L2116.11 160.552 L2108.66 160.552 L2108.66 153.585 Q2105.94 157.717 2102.34 159.742 Q2098.77 161.727 2094.03 161.727 Q2086.21 161.727 2082.16 156.866 Q2078.11 152.005 2078.11 142.647 M2096.87 114.088 L2096.87 114.088 Z\" fill=\"#000000\" fill-rule=\"evenodd\" fill-opacity=\"1\" /><path clip-path=\"url(#clip440)\" d=\"M2166.79 123.892 Q2169.58 118.868 2173.47 116.478 Q2177.36 114.088 2182.63 114.088 Q2189.71 114.088 2193.56 119.071 Q2197.41 124.013 2197.41 133.168 L2197.41 160.552 L2189.92 160.552 L2189.92 133.411 Q2189.92 126.889 2187.61 123.73 Q2185.3 120.57 2180.56 120.57 Q2174.77 120.57 2171.4 124.418 Q2168.04 128.267 2168.04 134.91 L2168.04 160.552 L2160.55 160.552 L2160.55 133.411 Q2160.55 126.849 2158.24 123.73 Q2155.93 120.57 2151.11 120.57 Q2145.4 120.57 2142.04 124.459 Q2138.67 128.307 2138.67 134.91 L2138.67 160.552 L2131.18 160.552 L2131.18 115.182 L2138.67 115.182 L2138.67 122.231 Q2141.23 118.058 2144.79 116.073 Q2148.35 114.088 2153.26 114.088 Q2158.2 114.088 2161.64 116.6 Q2165.13 119.112 2166.79 123.892 Z\" fill=\"#000000\" fill-rule=\"evenodd\" fill-opacity=\"1\" /></svg>\n"
      ]
     },
     "execution_count": 9,
     "metadata": {},
     "output_type": "execute_result"
    }
   ],
   "source": [
    "# draw the function\n",
    "plt = plot(x, f.(x), label = \"f(x)=sin(x)+0.25x\", legend = :topleft)\n",
    "plot(plt, [x1, x2], [f(x1), f(x2)], seriestype = :scatter, label = nothing)\n",
    "annotate!([(x1, f(x1), (\"local minimum\", :bottom)), (x2, f(x2), (\"local maximum\", :top))])"
   ]
  },
  {
   "cell_type": "markdown",
   "metadata": {},
   "source": [
    "- For a twice differentiable, multivariate function $f: \\mathbb{R}^n \\mapsto \\mathbb{R}$, the test for a minimum is:\n",
    "$$\n",
    "\\nabla f(\\mathbf{x}) = \\begin{pmatrix} \\frac{\\partial f}{\\partial x_1} \\\\ \\vdots \\\\ \\frac{\\partial f}{\\partial x_n} \\end{pmatrix} = \\mathbf{0} \\quad (\\text{first derivative test})\n",
    "$$\n",
    "and\n",
    "$$\n",
    "\\nabla^2 f(\\mathbf{x}) = \\begin{pmatrix} \\frac{\\partial^2 f}{\\partial x_i \\partial x_j} \\end{pmatrix} \\succ \\mathbf{O} \\quad (\\text{second derivative test}).\n",
    "$$"
   ]
  },
  {
   "cell_type": "markdown",
   "metadata": {},
   "source": [
    "## The ellipse $ax^2 + 2bxy + cy^2 = 1$\n",
    "\n",
    "- Consider the 2-by-2 matrix\n",
    "$$\n",
    "\\mathbf{A} = \\begin{pmatrix} 5 & 4 \\\\ 4 & 5 \\end{pmatrix}.\n",
    "$$\n",
    "We can test whether it is positive definite by \n",
    "    - eigenvalues: $\\lambda_1 = 9$, $\\lambda_2 = 1$.  \n",
    "    - energy test: \n",
    "$$\n",
    "(x, y) \\begin{pmatrix} 5 & 4 \\\\ 4 & 5 \\end{pmatrix} \\begin{pmatrix} x \\\\ y \\end{pmatrix} = 5x^2 + 8xy + 5y^2 = 9 \\left( \\frac{x + y}{\\sqrt 2} \\right)^2 + 1 \\left( \\frac{x-y}{\\sqrt 2} \\right)^2 > 0.\n",
    "$$\n",
    "    - Schur complemennt: $a = 5 > 0$, $c - a^{-1} b^2 = 5 - 16/5 > 0$.\n",
    "    \n",
    "- Visualize $5x^2 + 8xy + 5y^2 = 1$. Axes align with eigenvectors and axe lengths are $1 / \\sqrt \\lambda$."
   ]
  },
  {
   "cell_type": "code",
   "execution_count": 10,
   "metadata": {},
   "outputs": [],
   "source": [
    "A = [5 4; 4 5]\n",
    "f(x, y) = [x, y]' * A * [x, y]\n",
    "x = -1:0.1:1\n",
    "y = -1:0.1:1\n",
    "plt = contour(x, y, f, levels=1:10, aspect_ratio = 1.0, xlim=[-1,1]);"
   ]
  },
  {
   "cell_type": "code",
   "execution_count": 11,
   "metadata": {},
   "outputs": [
    {
     "data": {
      "text/plain": [
       "Eigen{Float64, Float64, Matrix{Float64}, Vector{Float64}}\n",
       "values:\n",
       "2-element Vector{Float64}:\n",
       " 1.0\n",
       " 9.0\n",
       "vectors:\n",
       "2×2 Matrix{Float64}:\n",
       " -0.707107  0.707107\n",
       "  0.707107  0.707107"
      ]
     },
     "execution_count": 11,
     "metadata": {},
     "output_type": "execute_result"
    }
   ],
   "source": [
    "Aeig = eigen(A)"
   ]
  },
  {
   "cell_type": "code",
   "execution_count": 12,
   "metadata": {},
   "outputs": [
    {
     "data": {
      "text/plain": [
       "2-element Vector{Float64}:\n",
       " -0.7071067811865475\n",
       "  0.7071067811865475"
      ]
     },
     "execution_count": 12,
     "metadata": {},
     "output_type": "execute_result"
    }
   ],
   "source": [
    "evec1 = Aeig.vectors[:, 1] / sqrt(Aeig.values[1])"
   ]
  },
  {
   "cell_type": "code",
   "execution_count": 13,
   "metadata": {},
   "outputs": [
    {
     "data": {
      "text/plain": [
       "2-element Vector{Float64}:\n",
       " 0.2357022603955158\n",
       " 0.2357022603955158"
      ]
     },
     "execution_count": 13,
     "metadata": {},
     "output_type": "execute_result"
    }
   ],
   "source": [
    "evec2 = Aeig.vectors[:, 2] / sqrt(Aeig.values[2])"
   ]
  },
  {
   "cell_type": "code",
   "execution_count": 14,
   "metadata": {},
   "outputs": [
    {
     "data": {
      "image/svg+xml": [
       "<?xml version=\"1.0\" encoding=\"utf-8\"?>\n",
       "<svg xmlns=\"http://www.w3.org/2000/svg\" xmlns:xlink=\"http://www.w3.org/1999/xlink\" width=\"600\" height=\"400\" viewBox=\"0 0 2400 1600\">\n",
       "<defs>\n",
       "  <clipPath id=\"clip480\">\n",
       "    <rect x=\"0\" y=\"0\" width=\"2400\" height=\"1600\"/>\n",
       "  </clipPath>\n",
       "</defs>\n",
       "<path clip-path=\"url(#clip480)\" d=\"\n",
       "M0 1600 L2400 1600 L2400 0 L0 0  Z\n",
       "  \" fill=\"#ffffff\" fill-rule=\"evenodd\" fill-opacity=\"1\"/>\n",
       "<defs>\n",
       "  <clipPath id=\"clip481\">\n",
       "    <rect x=\"480\" y=\"0\" width=\"1681\" height=\"1600\"/>\n",
       "  </clipPath>\n",
       "</defs>\n",
       "<path clip-path=\"url(#clip480)\" d=\"\n",
       "M433.744 1486.45 L1872.95 1486.45 L1872.95 47.2441 L433.744 47.2441  Z\n",
       "  \" fill=\"#ffffff\" fill-rule=\"evenodd\" fill-opacity=\"1\"/>\n",
       "<defs>\n",
       "  <clipPath id=\"clip482\">\n",
       "    <rect x=\"433\" y=\"47\" width=\"1440\" height=\"1440\"/>\n",
       "  </clipPath>\n",
       "</defs>\n",
       "<polyline clip-path=\"url(#clip482)\" style=\"stroke:#000000; stroke-linecap:butt; stroke-linejoin:round; stroke-width:2; stroke-opacity:0.1; fill:none\" points=\"\n",
       "  474.476,1486.45 474.476,47.2441 \n",
       "  \"/>\n",
       "<polyline clip-path=\"url(#clip482)\" style=\"stroke:#000000; stroke-linecap:butt; stroke-linejoin:round; stroke-width:2; stroke-opacity:0.1; fill:none\" points=\"\n",
       "  813.911,1486.45 813.911,47.2441 \n",
       "  \"/>\n",
       "<polyline clip-path=\"url(#clip482)\" style=\"stroke:#000000; stroke-linecap:butt; stroke-linejoin:round; stroke-width:2; stroke-opacity:0.1; fill:none\" points=\"\n",
       "  1153.35,1486.45 1153.35,47.2441 \n",
       "  \"/>\n",
       "<polyline clip-path=\"url(#clip482)\" style=\"stroke:#000000; stroke-linecap:butt; stroke-linejoin:round; stroke-width:2; stroke-opacity:0.1; fill:none\" points=\"\n",
       "  1492.78,1486.45 1492.78,47.2441 \n",
       "  \"/>\n",
       "<polyline clip-path=\"url(#clip482)\" style=\"stroke:#000000; stroke-linecap:butt; stroke-linejoin:round; stroke-width:2; stroke-opacity:0.1; fill:none\" points=\"\n",
       "  1832.22,1486.45 1832.22,47.2441 \n",
       "  \"/>\n",
       "<polyline clip-path=\"url(#clip480)\" style=\"stroke:#000000; stroke-linecap:butt; stroke-linejoin:round; stroke-width:4; stroke-opacity:1; fill:none\" points=\"\n",
       "  433.744,1486.45 1872.95,1486.45 \n",
       "  \"/>\n",
       "<polyline clip-path=\"url(#clip480)\" style=\"stroke:#000000; stroke-linecap:butt; stroke-linejoin:round; stroke-width:4; stroke-opacity:1; fill:none\" points=\"\n",
       "  474.476,1486.45 474.476,1467.55 \n",
       "  \"/>\n",
       "<polyline clip-path=\"url(#clip480)\" style=\"stroke:#000000; stroke-linecap:butt; stroke-linejoin:round; stroke-width:4; stroke-opacity:1; fill:none\" points=\"\n",
       "  813.911,1486.45 813.911,1467.55 \n",
       "  \"/>\n",
       "<polyline clip-path=\"url(#clip480)\" style=\"stroke:#000000; stroke-linecap:butt; stroke-linejoin:round; stroke-width:4; stroke-opacity:1; fill:none\" points=\"\n",
       "  1153.35,1486.45 1153.35,1467.55 \n",
       "  \"/>\n",
       "<polyline clip-path=\"url(#clip480)\" style=\"stroke:#000000; stroke-linecap:butt; stroke-linejoin:round; stroke-width:4; stroke-opacity:1; fill:none\" points=\"\n",
       "  1492.78,1486.45 1492.78,1467.55 \n",
       "  \"/>\n",
       "<polyline clip-path=\"url(#clip480)\" style=\"stroke:#000000; stroke-linecap:butt; stroke-linejoin:round; stroke-width:4; stroke-opacity:1; fill:none\" points=\"\n",
       "  1832.22,1486.45 1832.22,1467.55 \n",
       "  \"/>\n",
       "<path clip-path=\"url(#clip480)\" d=\"M421.004 1532.02 L450.68 1532.02 L450.68 1535.95 L421.004 1535.95 L421.004 1532.02 Z\" fill=\"#000000\" fill-rule=\"evenodd\" fill-opacity=\"1\" /><path clip-path=\"url(#clip480)\" d=\"M461.583 1544.91 L469.222 1544.91 L469.222 1518.55 L460.912 1520.21 L460.912 1515.95 L469.175 1514.29 L473.851 1514.29 L473.851 1544.91 L481.49 1544.91 L481.49 1548.85 L461.583 1548.85 L461.583 1544.91 Z\" fill=\"#000000\" fill-rule=\"evenodd\" fill-opacity=\"1\" /><path clip-path=\"url(#clip480)\" d=\"M490.934 1542.97 L495.819 1542.97 L495.819 1548.85 L490.934 1548.85 L490.934 1542.97 Z\" fill=\"#000000\" fill-rule=\"evenodd\" fill-opacity=\"1\" /><path clip-path=\"url(#clip480)\" d=\"M516.004 1517.37 Q512.393 1517.37 510.564 1520.93 Q508.758 1524.47 508.758 1531.6 Q508.758 1538.71 510.564 1542.27 Q512.393 1545.82 516.004 1545.82 Q519.638 1545.82 521.444 1542.27 Q523.272 1538.71 523.272 1531.6 Q523.272 1524.47 521.444 1520.93 Q519.638 1517.37 516.004 1517.37 M516.004 1513.66 Q521.814 1513.66 524.869 1518.27 Q527.948 1522.85 527.948 1531.6 Q527.948 1540.33 524.869 1544.94 Q521.814 1549.52 516.004 1549.52 Q510.194 1549.52 507.115 1544.94 Q504.059 1540.33 504.059 1531.6 Q504.059 1522.85 507.115 1518.27 Q510.194 1513.66 516.004 1513.66 Z\" fill=\"#000000\" fill-rule=\"evenodd\" fill-opacity=\"1\" /><path clip-path=\"url(#clip480)\" d=\"M760.937 1532.02 L790.613 1532.02 L790.613 1535.95 L760.937 1535.95 L760.937 1532.02 Z\" fill=\"#000000\" fill-rule=\"evenodd\" fill-opacity=\"1\" /><path clip-path=\"url(#clip480)\" d=\"M810.705 1517.37 Q807.094 1517.37 805.265 1520.93 Q803.46 1524.47 803.46 1531.6 Q803.46 1538.71 805.265 1542.27 Q807.094 1545.82 810.705 1545.82 Q814.339 1545.82 816.145 1542.27 Q817.974 1538.71 817.974 1531.6 Q817.974 1524.47 816.145 1520.93 Q814.339 1517.37 810.705 1517.37 M810.705 1513.66 Q816.515 1513.66 819.571 1518.27 Q822.649 1522.85 822.649 1531.6 Q822.649 1540.33 819.571 1544.94 Q816.515 1549.52 810.705 1549.52 Q804.895 1549.52 801.816 1544.94 Q798.761 1540.33 798.761 1531.6 Q798.761 1522.85 801.816 1518.27 Q804.895 1513.66 810.705 1513.66 Z\" fill=\"#000000\" fill-rule=\"evenodd\" fill-opacity=\"1\" /><path clip-path=\"url(#clip480)\" d=\"M830.867 1542.97 L835.751 1542.97 L835.751 1548.85 L830.867 1548.85 L830.867 1542.97 Z\" fill=\"#000000\" fill-rule=\"evenodd\" fill-opacity=\"1\" /><path clip-path=\"url(#clip480)\" d=\"M845.983 1514.29 L864.339 1514.29 L864.339 1518.22 L850.265 1518.22 L850.265 1526.7 Q851.284 1526.35 852.302 1526.19 Q853.321 1526 854.339 1526 Q860.126 1526 863.506 1529.17 Q866.885 1532.34 866.885 1537.76 Q866.885 1543.34 863.413 1546.44 Q859.941 1549.52 853.622 1549.52 Q851.446 1549.52 849.177 1549.15 Q846.932 1548.78 844.524 1548.04 L844.524 1543.34 Q846.608 1544.47 848.83 1545.03 Q851.052 1545.58 853.529 1545.58 Q857.534 1545.58 859.871 1543.48 Q862.209 1541.37 862.209 1537.76 Q862.209 1534.15 859.871 1532.04 Q857.534 1529.94 853.529 1529.94 Q851.654 1529.94 849.779 1530.35 Q847.927 1530.77 845.983 1531.65 L845.983 1514.29 Z\" fill=\"#000000\" fill-rule=\"evenodd\" fill-opacity=\"1\" /><path clip-path=\"url(#clip480)\" d=\"M1130.73 1517.37 Q1127.12 1517.37 1125.29 1520.93 Q1123.49 1524.47 1123.49 1531.6 Q1123.49 1538.71 1125.29 1542.27 Q1127.12 1545.82 1130.73 1545.82 Q1134.36 1545.82 1136.17 1542.27 Q1138 1538.71 1138 1531.6 Q1138 1524.47 1136.17 1520.93 Q1134.36 1517.37 1130.73 1517.37 M1130.73 1513.66 Q1136.54 1513.66 1139.6 1518.27 Q1142.67 1522.85 1142.67 1531.6 Q1142.67 1540.33 1139.6 1544.94 Q1136.54 1549.52 1130.73 1549.52 Q1124.92 1549.52 1121.84 1544.94 Q1118.79 1540.33 1118.79 1531.6 Q1118.79 1522.85 1121.84 1518.27 Q1124.92 1513.66 1130.73 1513.66 Z\" fill=\"#000000\" fill-rule=\"evenodd\" fill-opacity=\"1\" /><path clip-path=\"url(#clip480)\" d=\"M1150.89 1542.97 L1155.78 1542.97 L1155.78 1548.85 L1150.89 1548.85 L1150.89 1542.97 Z\" fill=\"#000000\" fill-rule=\"evenodd\" fill-opacity=\"1\" /><path clip-path=\"url(#clip480)\" d=\"M1175.96 1517.37 Q1172.35 1517.37 1170.52 1520.93 Q1168.72 1524.47 1168.72 1531.6 Q1168.72 1538.71 1170.52 1542.27 Q1172.35 1545.82 1175.96 1545.82 Q1179.6 1545.82 1181.4 1542.27 Q1183.23 1538.71 1183.23 1531.6 Q1183.23 1524.47 1181.4 1520.93 Q1179.6 1517.37 1175.96 1517.37 M1175.96 1513.66 Q1181.77 1513.66 1184.83 1518.27 Q1187.91 1522.85 1187.91 1531.6 Q1187.91 1540.33 1184.83 1544.94 Q1181.77 1549.52 1175.96 1549.52 Q1170.15 1549.52 1167.07 1544.94 Q1164.02 1540.33 1164.02 1531.6 Q1164.02 1522.85 1167.07 1518.27 Q1170.15 1513.66 1175.96 1513.66 Z\" fill=\"#000000\" fill-rule=\"evenodd\" fill-opacity=\"1\" /><path clip-path=\"url(#clip480)\" d=\"M1470.66 1517.37 Q1467.05 1517.37 1465.22 1520.93 Q1463.42 1524.47 1463.42 1531.6 Q1463.42 1538.71 1465.22 1542.27 Q1467.05 1545.82 1470.66 1545.82 Q1474.3 1545.82 1476.1 1542.27 Q1477.93 1538.71 1477.93 1531.6 Q1477.93 1524.47 1476.1 1520.93 Q1474.3 1517.37 1470.66 1517.37 M1470.66 1513.66 Q1476.47 1513.66 1479.53 1518.27 Q1482.61 1522.85 1482.61 1531.6 Q1482.61 1540.33 1479.53 1544.94 Q1476.47 1549.52 1470.66 1549.52 Q1464.85 1549.52 1461.77 1544.94 Q1458.72 1540.33 1458.72 1531.6 Q1458.72 1522.85 1461.77 1518.27 Q1464.85 1513.66 1470.66 1513.66 Z\" fill=\"#000000\" fill-rule=\"evenodd\" fill-opacity=\"1\" /><path clip-path=\"url(#clip480)\" d=\"M1490.82 1542.97 L1495.71 1542.97 L1495.71 1548.85 L1490.82 1548.85 L1490.82 1542.97 Z\" fill=\"#000000\" fill-rule=\"evenodd\" fill-opacity=\"1\" /><path clip-path=\"url(#clip480)\" d=\"M1505.94 1514.29 L1524.3 1514.29 L1524.3 1518.22 L1510.22 1518.22 L1510.22 1526.7 Q1511.24 1526.35 1512.26 1526.19 Q1513.28 1526 1514.3 1526 Q1520.08 1526 1523.46 1529.17 Q1526.84 1532.34 1526.84 1537.76 Q1526.84 1543.34 1523.37 1546.44 Q1519.9 1549.52 1513.58 1549.52 Q1511.4 1549.52 1509.13 1549.15 Q1506.89 1548.78 1504.48 1548.04 L1504.48 1543.34 Q1506.57 1544.47 1508.79 1545.03 Q1511.01 1545.58 1513.49 1545.58 Q1517.49 1545.58 1519.83 1543.48 Q1522.17 1541.37 1522.17 1537.76 Q1522.17 1534.15 1519.83 1532.04 Q1517.49 1529.94 1513.49 1529.94 Q1511.61 1529.94 1509.74 1530.35 Q1507.88 1530.77 1505.94 1531.65 L1505.94 1514.29 Z\" fill=\"#000000\" fill-rule=\"evenodd\" fill-opacity=\"1\" /><path clip-path=\"url(#clip480)\" d=\"M1799.37 1544.91 L1807.01 1544.91 L1807.01 1518.55 L1798.7 1520.21 L1798.7 1515.95 L1806.96 1514.29 L1811.64 1514.29 L1811.64 1544.91 L1819.28 1544.91 L1819.28 1548.85 L1799.37 1548.85 L1799.37 1544.91 Z\" fill=\"#000000\" fill-rule=\"evenodd\" fill-opacity=\"1\" /><path clip-path=\"url(#clip480)\" d=\"M1828.72 1542.97 L1833.6 1542.97 L1833.6 1548.85 L1828.72 1548.85 L1828.72 1542.97 Z\" fill=\"#000000\" fill-rule=\"evenodd\" fill-opacity=\"1\" /><path clip-path=\"url(#clip480)\" d=\"M1853.79 1517.37 Q1850.18 1517.37 1848.35 1520.93 Q1846.54 1524.47 1846.54 1531.6 Q1846.54 1538.71 1848.35 1542.27 Q1850.18 1545.82 1853.79 1545.82 Q1857.42 1545.82 1859.23 1542.27 Q1861.06 1538.71 1861.06 1531.6 Q1861.06 1524.47 1859.23 1520.93 Q1857.42 1517.37 1853.79 1517.37 M1853.79 1513.66 Q1859.6 1513.66 1862.66 1518.27 Q1865.73 1522.85 1865.73 1531.6 Q1865.73 1540.33 1862.66 1544.94 Q1859.6 1549.52 1853.79 1549.52 Q1847.98 1549.52 1844.9 1544.94 Q1841.85 1540.33 1841.85 1531.6 Q1841.85 1522.85 1844.9 1518.27 Q1847.98 1513.66 1853.79 1513.66 Z\" fill=\"#000000\" fill-rule=\"evenodd\" fill-opacity=\"1\" /><polyline clip-path=\"url(#clip482)\" style=\"stroke:#000000; stroke-linecap:butt; stroke-linejoin:round; stroke-width:2; stroke-opacity:0.1; fill:none\" points=\"\n",
       "  433.744,1445.72 1872.95,1445.72 \n",
       "  \"/>\n",
       "<polyline clip-path=\"url(#clip482)\" style=\"stroke:#000000; stroke-linecap:butt; stroke-linejoin:round; stroke-width:2; stroke-opacity:0.1; fill:none\" points=\"\n",
       "  433.744,1106.28 1872.95,1106.28 \n",
       "  \"/>\n",
       "<polyline clip-path=\"url(#clip482)\" style=\"stroke:#000000; stroke-linecap:butt; stroke-linejoin:round; stroke-width:2; stroke-opacity:0.1; fill:none\" points=\"\n",
       "  433.744,766.846 1872.95,766.846 \n",
       "  \"/>\n",
       "<polyline clip-path=\"url(#clip482)\" style=\"stroke:#000000; stroke-linecap:butt; stroke-linejoin:round; stroke-width:2; stroke-opacity:0.1; fill:none\" points=\"\n",
       "  433.744,427.411 1872.95,427.411 \n",
       "  \"/>\n",
       "<polyline clip-path=\"url(#clip482)\" style=\"stroke:#000000; stroke-linecap:butt; stroke-linejoin:round; stroke-width:2; stroke-opacity:0.1; fill:none\" points=\"\n",
       "  433.744,87.9763 1872.95,87.9763 \n",
       "  \"/>\n",
       "<polyline clip-path=\"url(#clip480)\" style=\"stroke:#000000; stroke-linecap:butt; stroke-linejoin:round; stroke-width:4; stroke-opacity:1; fill:none\" points=\"\n",
       "  433.744,1486.45 433.744,47.2441 \n",
       "  \"/>\n",
       "<polyline clip-path=\"url(#clip480)\" style=\"stroke:#000000; stroke-linecap:butt; stroke-linejoin:round; stroke-width:4; stroke-opacity:1; fill:none\" points=\"\n",
       "  433.744,1445.72 446.342,1445.72 \n",
       "  \"/>\n",
       "<polyline clip-path=\"url(#clip480)\" style=\"stroke:#000000; stroke-linecap:butt; stroke-linejoin:round; stroke-width:4; stroke-opacity:1; fill:none\" points=\"\n",
       "  433.744,1106.28 446.342,1106.28 \n",
       "  \"/>\n",
       "<polyline clip-path=\"url(#clip480)\" style=\"stroke:#000000; stroke-linecap:butt; stroke-linejoin:round; stroke-width:4; stroke-opacity:1; fill:none\" points=\"\n",
       "  433.744,766.846 446.342,766.846 \n",
       "  \"/>\n",
       "<polyline clip-path=\"url(#clip480)\" style=\"stroke:#000000; stroke-linecap:butt; stroke-linejoin:round; stroke-width:4; stroke-opacity:1; fill:none\" points=\"\n",
       "  433.744,427.411 446.342,427.411 \n",
       "  \"/>\n",
       "<polyline clip-path=\"url(#clip480)\" style=\"stroke:#000000; stroke-linecap:butt; stroke-linejoin:round; stroke-width:4; stroke-opacity:1; fill:none\" points=\"\n",
       "  433.744,87.9763 446.342,87.9763 \n",
       "  \"/>\n",
       "<path clip-path=\"url(#clip480)\" d=\"M290.8 1446.17 L320.476 1446.17 L320.476 1450.1 L290.8 1450.1 L290.8 1446.17 Z\" fill=\"#000000\" fill-rule=\"evenodd\" fill-opacity=\"1\" /><path clip-path=\"url(#clip480)\" d=\"M331.379 1459.06 L339.018 1459.06 L339.018 1432.69 L330.707 1434.36 L330.707 1430.1 L338.971 1428.44 L343.647 1428.44 L343.647 1459.06 L351.286 1459.06 L351.286 1463 L331.379 1463 L331.379 1459.06 Z\" fill=\"#000000\" fill-rule=\"evenodd\" fill-opacity=\"1\" /><path clip-path=\"url(#clip480)\" d=\"M360.73 1457.12 L365.615 1457.12 L365.615 1463 L360.73 1463 L360.73 1457.12 Z\" fill=\"#000000\" fill-rule=\"evenodd\" fill-opacity=\"1\" /><path clip-path=\"url(#clip480)\" d=\"M385.8 1431.51 Q382.189 1431.51 380.36 1435.08 Q378.554 1438.62 378.554 1445.75 Q378.554 1452.86 380.36 1456.42 Q382.189 1459.96 385.8 1459.96 Q389.434 1459.96 391.239 1456.42 Q393.068 1452.86 393.068 1445.75 Q393.068 1438.62 391.239 1435.08 Q389.434 1431.51 385.8 1431.51 M385.8 1427.81 Q391.61 1427.81 394.665 1432.42 Q397.744 1437 397.744 1445.75 Q397.744 1454.48 394.665 1459.08 Q391.61 1463.67 385.8 1463.67 Q379.99 1463.67 376.911 1459.08 Q373.855 1454.48 373.855 1445.75 Q373.855 1437 376.911 1432.42 Q379.99 1427.81 385.8 1427.81 Z\" fill=\"#000000\" fill-rule=\"evenodd\" fill-opacity=\"1\" /><path clip-path=\"url(#clip480)\" d=\"M291.796 1106.73 L321.471 1106.73 L321.471 1110.67 L291.796 1110.67 L291.796 1106.73 Z\" fill=\"#000000\" fill-rule=\"evenodd\" fill-opacity=\"1\" /><path clip-path=\"url(#clip480)\" d=\"M341.564 1092.08 Q337.953 1092.08 336.124 1095.64 Q334.318 1099.19 334.318 1106.32 Q334.318 1113.42 336.124 1116.99 Q337.953 1120.53 341.564 1120.53 Q345.198 1120.53 347.004 1116.99 Q348.832 1113.42 348.832 1106.32 Q348.832 1099.19 347.004 1095.64 Q345.198 1092.08 341.564 1092.08 M341.564 1088.38 Q347.374 1088.38 350.43 1092.98 Q353.508 1097.57 353.508 1106.32 Q353.508 1115.04 350.43 1119.65 Q347.374 1124.23 341.564 1124.23 Q335.754 1124.23 332.675 1119.65 Q329.619 1115.04 329.619 1106.32 Q329.619 1097.57 332.675 1092.98 Q335.754 1088.38 341.564 1088.38 Z\" fill=\"#000000\" fill-rule=\"evenodd\" fill-opacity=\"1\" /><path clip-path=\"url(#clip480)\" d=\"M361.726 1117.68 L366.61 1117.68 L366.61 1123.56 L361.726 1123.56 L361.726 1117.68 Z\" fill=\"#000000\" fill-rule=\"evenodd\" fill-opacity=\"1\" /><path clip-path=\"url(#clip480)\" d=\"M376.841 1089 L395.198 1089 L395.198 1092.94 L381.124 1092.94 L381.124 1101.41 Q382.142 1101.06 383.161 1100.9 Q384.179 1100.71 385.198 1100.71 Q390.985 1100.71 394.364 1103.89 Q397.744 1107.06 397.744 1112.47 Q397.744 1118.05 394.272 1121.15 Q390.8 1124.23 384.48 1124.23 Q382.304 1124.23 380.036 1123.86 Q377.79 1123.49 375.383 1122.75 L375.383 1118.05 Q377.466 1119.19 379.689 1119.74 Q381.911 1120.3 384.388 1120.3 Q388.392 1120.3 390.73 1118.19 Q393.068 1116.08 393.068 1112.47 Q393.068 1108.86 390.73 1106.76 Q388.392 1104.65 384.388 1104.65 Q382.513 1104.65 380.638 1105.07 Q378.786 1105.48 376.841 1106.36 L376.841 1089 Z\" fill=\"#000000\" fill-rule=\"evenodd\" fill-opacity=\"1\" /><path clip-path=\"url(#clip480)\" d=\"M340.568 752.645 Q336.957 752.645 335.129 756.209 Q333.323 759.751 333.323 766.881 Q333.323 773.987 335.129 777.552 Q336.957 781.094 340.568 781.094 Q344.203 781.094 346.008 777.552 Q347.837 773.987 347.837 766.881 Q347.837 759.751 346.008 756.209 Q344.203 752.645 340.568 752.645 M340.568 748.941 Q346.379 748.941 349.434 753.547 Q352.513 758.131 352.513 766.881 Q352.513 775.608 349.434 780.214 Q346.379 784.797 340.568 784.797 Q334.758 784.797 331.68 780.214 Q328.624 775.608 328.624 766.881 Q328.624 758.131 331.68 753.547 Q334.758 748.941 340.568 748.941 Z\" fill=\"#000000\" fill-rule=\"evenodd\" fill-opacity=\"1\" /><path clip-path=\"url(#clip480)\" d=\"M360.73 778.246 L365.615 778.246 L365.615 784.126 L360.73 784.126 L360.73 778.246 Z\" fill=\"#000000\" fill-rule=\"evenodd\" fill-opacity=\"1\" /><path clip-path=\"url(#clip480)\" d=\"M385.8 752.645 Q382.189 752.645 380.36 756.209 Q378.554 759.751 378.554 766.881 Q378.554 773.987 380.36 777.552 Q382.189 781.094 385.8 781.094 Q389.434 781.094 391.239 777.552 Q393.068 773.987 393.068 766.881 Q393.068 759.751 391.239 756.209 Q389.434 752.645 385.8 752.645 M385.8 748.941 Q391.61 748.941 394.665 753.547 Q397.744 758.131 397.744 766.881 Q397.744 775.608 394.665 780.214 Q391.61 784.797 385.8 784.797 Q379.99 784.797 376.911 780.214 Q373.855 775.608 373.855 766.881 Q373.855 758.131 376.911 753.547 Q379.99 748.941 385.8 748.941 Z\" fill=\"#000000\" fill-rule=\"evenodd\" fill-opacity=\"1\" /><path clip-path=\"url(#clip480)\" d=\"M341.564 413.21 Q337.953 413.21 336.124 416.775 Q334.318 420.316 334.318 427.446 Q334.318 434.552 336.124 438.117 Q337.953 441.659 341.564 441.659 Q345.198 441.659 347.004 438.117 Q348.832 434.552 348.832 427.446 Q348.832 420.316 347.004 416.775 Q345.198 413.21 341.564 413.21 M341.564 409.506 Q347.374 409.506 350.43 414.113 Q353.508 418.696 353.508 427.446 Q353.508 436.173 350.43 440.779 Q347.374 445.362 341.564 445.362 Q335.754 445.362 332.675 440.779 Q329.619 436.173 329.619 427.446 Q329.619 418.696 332.675 414.113 Q335.754 409.506 341.564 409.506 Z\" fill=\"#000000\" fill-rule=\"evenodd\" fill-opacity=\"1\" /><path clip-path=\"url(#clip480)\" d=\"M361.726 438.812 L366.61 438.812 L366.61 444.691 L361.726 444.691 L361.726 438.812 Z\" fill=\"#000000\" fill-rule=\"evenodd\" fill-opacity=\"1\" /><path clip-path=\"url(#clip480)\" d=\"M376.841 410.131 L395.198 410.131 L395.198 414.066 L381.124 414.066 L381.124 422.538 Q382.142 422.191 383.161 422.029 Q384.179 421.844 385.198 421.844 Q390.985 421.844 394.364 425.015 Q397.744 428.187 397.744 433.603 Q397.744 439.182 394.272 442.284 Q390.8 445.362 384.48 445.362 Q382.304 445.362 380.036 444.992 Q377.79 444.622 375.383 443.881 L375.383 439.182 Q377.466 440.316 379.689 440.872 Q381.911 441.427 384.388 441.427 Q388.392 441.427 390.73 439.321 Q393.068 437.214 393.068 433.603 Q393.068 429.992 390.73 427.886 Q388.392 425.779 384.388 425.779 Q382.513 425.779 380.638 426.196 Q378.786 426.613 376.841 427.492 L376.841 410.131 Z\" fill=\"#000000\" fill-rule=\"evenodd\" fill-opacity=\"1\" /><path clip-path=\"url(#clip480)\" d=\"M331.379 101.321 L339.018 101.321 L339.018 74.9555 L330.707 76.6222 L330.707 72.3629 L338.971 70.6963 L343.647 70.6963 L343.647 101.321 L351.286 101.321 L351.286 105.256 L331.379 105.256 L331.379 101.321 Z\" fill=\"#000000\" fill-rule=\"evenodd\" fill-opacity=\"1\" /><path clip-path=\"url(#clip480)\" d=\"M360.73 99.3767 L365.615 99.3767 L365.615 105.256 L360.73 105.256 L360.73 99.3767 Z\" fill=\"#000000\" fill-rule=\"evenodd\" fill-opacity=\"1\" /><path clip-path=\"url(#clip480)\" d=\"M385.8 73.775 Q382.189 73.775 380.36 77.3398 Q378.554 80.8814 378.554 88.011 Q378.554 95.1174 380.36 98.6822 Q382.189 102.224 385.8 102.224 Q389.434 102.224 391.239 98.6822 Q393.068 95.1174 393.068 88.011 Q393.068 80.8814 391.239 77.3398 Q389.434 73.775 385.8 73.775 M385.8 70.0713 Q391.61 70.0713 394.665 74.6777 Q397.744 79.261 397.744 88.011 Q397.744 96.7378 394.665 101.344 Q391.61 105.928 385.8 105.928 Q379.99 105.928 376.911 101.344 Q373.855 96.7378 373.855 88.011 Q373.855 79.261 376.911 74.6777 Q379.99 70.0713 385.8 70.0713 Z\" fill=\"#000000\" fill-rule=\"evenodd\" fill-opacity=\"1\" /><polyline clip-path=\"url(#clip482)\" style=\"stroke:#cd4247; stroke-linecap:butt; stroke-linejoin:round; stroke-width:4; stroke-opacity:1; fill:none\" points=\"\n",
       "  827.488,1445.72 813.911,1433.14 755.111,1377.83 746.024,1369.15 684.978,1309.94 678.137,1303.2 616.987,1242.05 610.25,1235.21 551.04,1174.17 542.363,1165.08 \n",
       "  487.048,1106.28 474.476,1092.7 \n",
       "  \"/>\n",
       "<polyline clip-path=\"url(#clip482)\" style=\"stroke:#a42c60; stroke-linecap:butt; stroke-linejoin:round; stroke-width:4; stroke-opacity:1; fill:none\" points=\"\n",
       "  474.476,979.362 527.931,1038.39 542.363,1054.06 591.242,1106.28 610.25,1126.25 656.612,1174.17 678.137,1196.05 724.143,1242.05 746.024,1263.58 793.944,1309.94 \n",
       "  813.911,1328.95 866.132,1377.83 881.798,1392.26 940.83,1445.72 \n",
       "  \"/>\n",
       "<polyline clip-path=\"url(#clip482)\" style=\"stroke:#ba3655; stroke-linecap:butt; stroke-linejoin:round; stroke-width:4; stroke-opacity:1; fill:none\" points=\"\n",
       "  881.798,1445.72 881.798,1445.72 813.911,1382.86 808.566,1377.83 746.024,1318.11 737.604,1309.94 678.137,1251.38 668.809,1242.05 610.25,1182.59 602.083,1174.17 \n",
       "  542.363,1111.63 537.335,1106.28 474.476,1038.39 \n",
       "  \"/>\n",
       "<polyline clip-path=\"url(#clip482)\" style=\"stroke:#8e2468; stroke-linecap:butt; stroke-linejoin:round; stroke-width:4; stroke-opacity:1; fill:none\" points=\"\n",
       "  474.476,915.551 522.967,970.507 542.363,992.078 584.72,1038.39 610.25,1065.8 648.621,1106.28 678.137,1136.86 714.784,1174.17 746.024,1205.41 783.331,1242.05 \n",
       "  813.911,1271.57 854.394,1309.94 881.798,1335.47 928.113,1377.83 949.685,1397.22 1004.64,1445.72 \n",
       "  \"/>\n",
       "<polyline clip-path=\"url(#clip482)\" style=\"stroke:#781c6d; stroke-linecap:butt; stroke-linejoin:round; stroke-width:4; stroke-opacity:1; fill:none\" points=\"\n",
       "  1074.74,1445.72 1017.57,1396.79 995.876,1377.83 949.685,1336.72 920.199,1309.94 881.798,1274.41 847.519,1242.05 813.911,1209.73 777.661,1174.17 746.024,1142.53 \n",
       "  710.464,1106.28 678.137,1072.67 645.78,1038.39 610.25,999.993 583.469,970.507 542.363,924.316 523.404,902.62 474.476,845.452 \n",
       "  \"/>\n",
       "<polyline clip-path=\"url(#clip482)\" style=\"stroke:#60136e; stroke-linecap:butt; stroke-linejoin:round; stroke-width:4; stroke-opacity:1; fill:none\" points=\"\n",
       "  474.476,766.846 474.476,766.846 530.499,834.733 542.363,848.779 588.741,902.62 610.25,927.029 649.337,970.507 678.137,1001.84 712.431,1038.39 746.024,1073.43 \n",
       "  778.181,1106.28 813.911,1142.01 846.76,1174.17 881.798,1207.76 918.353,1242.05 949.685,1270.86 993.163,1309.94 1017.57,1331.45 1071.41,1377.83 1085.46,1389.69 \n",
       "  1153.35,1445.72 \n",
       "  \"/>\n",
       "<polyline clip-path=\"url(#clip482)\" style=\"stroke:#4a0b6a; stroke-linecap:butt; stroke-linejoin:round; stroke-width:4; stroke-opacity:1; fill:none\" points=\"\n",
       "  1247.34,1445.72 1221.23,1426.21 1158.41,1377.83 1153.35,1373.84 1085.46,1317.97 1076.01,1309.94 1017.57,1259.21 998.295,1242.05 949.685,1197.81 924.33,1174.17 \n",
       "  881.798,1133.59 853.845,1106.28 813.911,1066.35 786.6,1038.39 746.024,995.862 722.378,970.507 678.137,921.896 660.979,902.62 610.25,844.186 602.221,834.733 \n",
       "  546.357,766.846 542.363,761.78 493.984,698.959 474.476,672.849 \n",
       "  \"/>\n",
       "<polyline clip-path=\"url(#clip482)\" style=\"stroke:#32095d; stroke-linecap:butt; stroke-linejoin:round; stroke-width:4; stroke-opacity:1; fill:none\" points=\"\n",
       "  474.476,555.642 479.257,563.185 526.036,631.072 542.363,653.701 575.866,698.959 610.25,743.833 628.353,766.846 678.137,828.056 683.717,834.733 742.672,902.62 \n",
       "  746.024,906.34 805.318,970.507 813.911,979.558 871.218,1038.39 881.798,1048.97 940.633,1106.28 949.685,1114.87 1013.85,1174.17 1017.57,1177.52 1085.46,1236.48 \n",
       "  1092.14,1242.05 1153.35,1291.84 1176.36,1309.94 1221.23,1344.33 1266.49,1377.83 1289.12,1394.16 1357.01,1440.93 1364.55,1445.72 \n",
       "  \"/>\n",
       "<polyline clip-path=\"url(#clip482)\" style=\"stroke:#1a0b40; stroke-linecap:butt; stroke-linejoin:round; stroke-width:4; stroke-opacity:1; fill:none\" points=\"\n",
       "  1560.67,1445.72 1560.67,1445.72 1492.78,1414.86 1424.89,1381.06 1419.39,1377.83 1357.01,1339.99 1310.01,1309.94 1289.12,1296.13 1221.23,1248.13 1213.25,1242.05 \n",
       "  1153.35,1195.06 1127.73,1174.17 1085.46,1138.61 1048.43,1106.28 1017.57,1078.46 974.696,1038.39 949.685,1014.23 905.961,970.507 881.798,945.496 841.734,902.62 \n",
       "  813.911,871.762 781.584,834.733 746.024,792.464 725.136,766.846 678.137,706.946 672.058,698.959 624.058,631.072 610.25,610.184 580.202,563.185 542.363,500.802 \n",
       "  539.131,495.298 505.334,427.411 474.476,359.524 \n",
       "  \"/>\n",
       "<polyline clip-path=\"url(#clip482)\" style=\"stroke:#1a0b40; stroke-linecap:butt; stroke-linejoin:round; stroke-width:4; stroke-opacity:1; fill:none\" points=\"\n",
       "  474.476,87.9763 474.476,87.9763 \n",
       "  \"/>\n",
       "<polyline clip-path=\"url(#clip482)\" style=\"stroke:#1a0b40; stroke-linecap:butt; stroke-linejoin:round; stroke-width:4; stroke-opacity:1; fill:none\" points=\"\n",
       "  746.024,87.9763 746.024,87.9763 813.911,118.834 881.798,152.631 887.302,155.863 949.685,193.702 996.684,223.75 1017.57,237.558 1085.46,285.558 1093.45,291.637 \n",
       "  1153.35,338.636 1178.96,359.524 1221.23,395.084 1258.26,427.411 1289.12,455.234 1332,495.298 1357.01,519.461 1400.73,563.185 1424.89,588.196 1464.96,631.072 \n",
       "  1492.78,661.93 1525.11,698.959 1560.67,741.228 1581.56,766.846 1628.55,826.746 1634.63,834.733 1682.63,902.62 1696.44,923.508 1726.49,970.507 1764.33,1032.89 \n",
       "  1767.56,1038.39 1801.36,1106.28 1832.22,1174.17 \n",
       "  \"/>\n",
       "<polyline clip-path=\"url(#clip482)\" style=\"stroke:#32095d; stroke-linecap:butt; stroke-linejoin:round; stroke-width:4; stroke-opacity:1; fill:none\" points=\"\n",
       "  1832.22,978.05 1827.43,970.507 1780.66,902.62 1764.33,879.991 1730.83,834.733 1696.44,789.859 1678.34,766.846 1628.55,705.636 1622.97,698.959 1564.02,631.072 \n",
       "  1560.67,627.352 1501.37,563.185 1492.78,554.133 1435.47,495.298 1424.89,484.718 1366.06,427.411 1357.01,418.818 1292.84,359.524 1289.12,356.172 1221.23,297.217 \n",
       "  1214.56,291.637 1153.35,241.853 1130.33,223.75 1085.46,189.366 1040.2,155.863 1017.57,139.536 949.685,92.757 942.142,87.9763 \n",
       "  \"/>\n",
       "<polyline clip-path=\"url(#clip482)\" style=\"stroke:#4a0b6a; stroke-linecap:butt; stroke-linejoin:round; stroke-width:4; stroke-opacity:1; fill:none\" points=\"\n",
       "  1059.35,87.9763 1085.46,107.484 1148.28,155.863 1153.35,159.857 1221.23,215.721 1230.69,223.75 1289.12,274.479 1308.4,291.637 1357.01,335.878 1382.36,359.524 \n",
       "  1424.89,400.1 1452.85,427.411 1492.78,467.345 1520.09,495.298 1560.67,537.83 1584.31,563.185 1628.55,611.795 1645.71,631.072 1696.44,689.506 1704.47,698.959 \n",
       "  1760.34,766.846 1764.33,771.912 1812.71,834.733 1832.22,860.843 \n",
       "  \"/>\n",
       "<polyline clip-path=\"url(#clip482)\" style=\"stroke:#60136e; stroke-linecap:butt; stroke-linejoin:round; stroke-width:4; stroke-opacity:1; fill:none\" points=\"\n",
       "  1832.22,766.846 1832.22,766.846 1776.19,698.959 1764.33,684.913 1717.95,631.072 1696.44,606.663 1657.36,563.185 1628.55,531.853 1594.26,495.298 1560.67,460.26 \n",
       "  1528.51,427.411 1492.78,391.681 1459.93,359.524 1424.89,325.931 1388.34,291.637 1357.01,262.837 1313.53,223.75 1289.12,202.241 1235.28,155.863 1221.23,144 \n",
       "  1153.35,87.9763 \n",
       "  \"/>\n",
       "<polyline clip-path=\"url(#clip482)\" style=\"stroke:#781c6d; stroke-linecap:butt; stroke-linejoin:round; stroke-width:4; stroke-opacity:1; fill:none\" points=\"\n",
       "  1231.95,87.9763 1289.12,136.904 1310.82,155.863 1357.01,196.969 1386.49,223.75 1424.89,259.28 1459.17,291.637 1492.78,323.964 1529.03,359.524 1560.67,391.161 \n",
       "  1596.23,427.411 1628.55,461.019 1660.91,495.298 1696.44,533.699 1723.22,563.185 1764.33,609.376 1783.29,631.072 1832.22,688.24 \n",
       "  \"/>\n",
       "<polyline clip-path=\"url(#clip482)\" style=\"stroke:#8e2468; stroke-linecap:butt; stroke-linejoin:round; stroke-width:4; stroke-opacity:1; fill:none\" points=\"\n",
       "  1832.22,618.141 1783.72,563.185 1764.33,541.614 1721.97,495.298 1696.44,467.894 1658.07,427.411 1628.55,396.831 1591.91,359.524 1560.67,328.284 1523.36,291.637 \n",
       "  1492.78,262.121 1452.3,223.75 1424.89,198.22 1378.58,155.863 1357.01,136.467 1302.05,87.9763 \n",
       "  \"/>\n",
       "<polyline clip-path=\"url(#clip482)\" style=\"stroke:#a42c60; stroke-linecap:butt; stroke-linejoin:round; stroke-width:4; stroke-opacity:1; fill:none\" points=\"\n",
       "  1365.86,87.9763 1424.89,141.431 1440.56,155.863 1492.78,204.742 1512.75,223.75 1560.67,270.112 1582.55,291.637 1628.55,337.643 1650.08,359.524 1696.44,407.444 \n",
       "  1715.45,427.411 1764.33,479.632 1778.76,495.298 1832.22,554.33 \n",
       "  \"/>\n",
       "<polyline clip-path=\"url(#clip482)\" style=\"stroke:#ba3655; stroke-linecap:butt; stroke-linejoin:round; stroke-width:4; stroke-opacity:1; fill:none\" points=\"\n",
       "  1832.22,495.298 1832.22,495.298 1769.36,427.411 1764.33,422.066 1704.61,359.524 1696.44,351.104 1637.88,291.637 1628.55,282.309 1569.09,223.75 1560.67,215.583 \n",
       "  1498.13,155.863 1492.78,150.835 1424.89,87.9763 \n",
       "  \"/>\n",
       "<polyline clip-path=\"url(#clip482)\" style=\"stroke:#cd4247; stroke-linecap:butt; stroke-linejoin:round; stroke-width:4; stroke-opacity:1; fill:none\" points=\"\n",
       "  1479.2,87.9763 1492.78,100.548 1551.58,155.863 1560.67,164.541 1621.71,223.75 1628.55,230.487 1689.7,291.637 1696.44,298.479 1755.65,359.524 1764.33,368.611 \n",
       "  1819.64,427.411 1832.22,440.989 \n",
       "  \"/>\n",
       "<polyline clip-path=\"url(#clip482)\" style=\"stroke:#1a0b40; stroke-linecap:butt; stroke-linejoin:round; stroke-width:4; stroke-opacity:1; fill:none\" points=\"\n",
       "  1832.22,1445.72 1832.22,1445.72 \n",
       "  \"/>\n",
       "<polyline clip-path=\"url(#clip482)\" style=\"stroke:#08061f; stroke-linecap:butt; stroke-linejoin:round; stroke-width:4; stroke-opacity:1; fill:none\" points=\"\n",
       "  1635.7,1242.05 1628.55,1249.2 1560.67,1269.71 1492.78,1261.45 1431.07,1242.05 1424.89,1240 1357.01,1205.63 1300.93,1174.17 1289.12,1167.21 1221.23,1120.72 \n",
       "  1201.84,1106.28 1153.35,1068.57 1116.65,1038.39 1085.46,1011.55 1040.2,970.507 1017.57,948.982 971.21,902.62 949.685,879.991 908.637,834.733 881.798,803.542 \n",
       "  851.626,766.846 813.911,718.355 799.467,698.959 752.987,631.072 746.024,619.266 714.564,563.185 680.194,495.298 678.137,489.127 658.741,427.411 650.48,359.524 \n",
       "  670.991,291.637 678.137,284.491 746.024,263.98 813.911,272.241 875.627,291.637 881.798,293.694 949.685,328.064 1005.77,359.524 1017.57,366.487 1085.46,412.967 \n",
       "  1104.86,427.411 1153.35,465.126 1190.04,495.298 1221.23,522.137 1266.49,563.185 1289.12,584.71 1335.48,631.072 1357.01,653.701 1398.05,698.959 1424.89,730.15 \n",
       "  1455.07,766.846 1492.78,815.337 1507.22,834.733 1553.71,902.62 1560.67,914.426 1592.13,970.507 1626.5,1038.39 1628.55,1044.57 1647.95,1106.28 1656.21,1174.17 \n",
       "  1635.7,1242.05 \n",
       "  \"/>\n",
       "<polyline clip-path=\"url(#clip482)\" style=\"stroke:#e26f46; stroke-linecap:butt; stroke-linejoin:round; stroke-width:4; stroke-opacity:1; fill:none\" points=\"\n",
       "  1153.35,766.846 673.313,286.813 \n",
       "  \"/>\n",
       "<polyline clip-path=\"url(#clip482)\" style=\"stroke:#3da44d; stroke-linecap:butt; stroke-linejoin:round; stroke-width:4; stroke-opacity:1; fill:none\" points=\"\n",
       "  1153.35,766.846 1313.36,606.835 \n",
       "  \"/>\n",
       "<defs>\n",
       "  <clipPath id=\"clip483\">\n",
       "    <rect x=\"1920\" y=\"47\" width=\"73\" height=\"1440\"/>\n",
       "  </clipPath>\n",
       "</defs>\n",
       "<polyline clip-path=\"url(#clip483)\" style=\"stroke:#08061f; stroke-linecap:butt; stroke-linejoin:round; stroke-width:4; stroke-opacity:1; fill:none\" points=\"\n",
       "  1920.95,1406.49 1992.95,1406.49 \n",
       "  \"/>\n",
       "<polyline clip-path=\"url(#clip483)\" style=\"stroke:#1a0b40; stroke-linecap:butt; stroke-linejoin:round; stroke-width:4; stroke-opacity:1; fill:none\" points=\"\n",
       "  1920.95,1326.54 1992.95,1326.54 \n",
       "  \"/>\n",
       "<polyline clip-path=\"url(#clip483)\" style=\"stroke:#32095d; stroke-linecap:butt; stroke-linejoin:round; stroke-width:4; stroke-opacity:1; fill:none\" points=\"\n",
       "  1920.95,1246.58 1992.95,1246.58 \n",
       "  \"/>\n",
       "<polyline clip-path=\"url(#clip483)\" style=\"stroke:#4b0c6b; stroke-linecap:butt; stroke-linejoin:round; stroke-width:4; stroke-opacity:1; fill:none\" points=\"\n",
       "  1920.95,1166.62 1992.95,1166.62 \n",
       "  \"/>\n",
       "<polyline clip-path=\"url(#clip483)\" style=\"stroke:#62146e; stroke-linecap:butt; stroke-linejoin:round; stroke-width:4; stroke-opacity:1; fill:none\" points=\"\n",
       "  1920.95,1086.67 1992.95,1086.67 \n",
       "  \"/>\n",
       "<polyline clip-path=\"url(#clip483)\" style=\"stroke:#781c6d; stroke-linecap:butt; stroke-linejoin:round; stroke-width:4; stroke-opacity:1; fill:none\" points=\"\n",
       "  1920.95,1006.71 1992.95,1006.71 \n",
       "  \"/>\n",
       "<polyline clip-path=\"url(#clip483)\" style=\"stroke:#8e2468; stroke-linecap:butt; stroke-linejoin:round; stroke-width:4; stroke-opacity:1; fill:none\" points=\"\n",
       "  1920.95,926.758 1992.95,926.758 \n",
       "  \"/>\n",
       "<polyline clip-path=\"url(#clip483)\" style=\"stroke:#a42c60; stroke-linecap:butt; stroke-linejoin:round; stroke-width:4; stroke-opacity:1; fill:none\" points=\"\n",
       "  1920.95,846.802 1992.95,846.802 \n",
       "  \"/>\n",
       "<polyline clip-path=\"url(#clip483)\" style=\"stroke:#bb3754; stroke-linecap:butt; stroke-linejoin:round; stroke-width:4; stroke-opacity:1; fill:none\" points=\"\n",
       "  1920.95,766.846 1992.95,766.846 \n",
       "  \"/>\n",
       "<polyline clip-path=\"url(#clip483)\" style=\"stroke:#cf4446; stroke-linecap:butt; stroke-linejoin:round; stroke-width:4; stroke-opacity:1; fill:none\" points=\"\n",
       "  1920.95,686.89 1992.95,686.89 \n",
       "  \"/>\n",
       "<path clip-path=\"url(#clip480)\" d=\"M2040.89 1468.62 Q2037.28 1468.62 2035.45 1472.18 Q2033.65 1475.72 2033.65 1482.85 Q2033.65 1489.96 2035.45 1493.53 Q2037.28 1497.07 2040.89 1497.07 Q2044.53 1497.07 2046.33 1493.53 Q2048.16 1489.96 2048.16 1482.85 Q2048.16 1475.72 2046.33 1472.18 Q2044.53 1468.62 2040.89 1468.62 M2040.89 1464.91 Q2046.7 1464.91 2049.76 1469.52 Q2052.84 1474.1 2052.84 1482.85 Q2052.84 1491.58 2049.76 1496.19 Q2046.7 1500.77 2040.89 1500.77 Q2035.08 1500.77 2032 1496.19 Q2028.95 1491.58 2028.95 1482.85 Q2028.95 1474.1 2032 1469.52 Q2035.08 1464.91 2040.89 1464.91 Z\" fill=\"#000000\" fill-rule=\"evenodd\" fill-opacity=\"1\" /><path clip-path=\"url(#clip480)\" d=\"M2034.57 1296.27 L2050.89 1296.27 L2050.89 1300.21 L2028.95 1300.21 L2028.95 1296.27 Q2031.61 1293.52 2036.19 1288.89 Q2040.8 1284.24 2041.98 1282.89 Q2044.23 1280.37 2045.11 1278.64 Q2046.01 1276.88 2046.01 1275.19 Q2046.01 1272.43 2044.06 1270.7 Q2042.14 1268.96 2039.04 1268.96 Q2036.84 1268.96 2034.39 1269.72 Q2031.96 1270.49 2029.18 1272.04 L2029.18 1267.32 Q2032 1266.18 2034.46 1265.6 Q2036.91 1265.02 2038.95 1265.02 Q2044.32 1265.02 2047.51 1267.71 Q2050.71 1270.4 2050.71 1274.89 Q2050.71 1277.02 2049.9 1278.94 Q2049.11 1280.83 2047 1283.43 Q2046.42 1284.1 2043.32 1287.32 Q2040.22 1290.51 2034.57 1296.27 Z\" fill=\"#000000\" fill-rule=\"evenodd\" fill-opacity=\"1\" /><path clip-path=\"url(#clip480)\" d=\"M2060.71 1294.33 L2065.59 1294.33 L2065.59 1300.21 L2060.71 1300.21 L2060.71 1294.33 Z\" fill=\"#000000\" fill-rule=\"evenodd\" fill-opacity=\"1\" /><path clip-path=\"url(#clip480)\" d=\"M2075.82 1265.65 L2094.18 1265.65 L2094.18 1269.58 L2080.1 1269.58 L2080.1 1278.06 Q2081.12 1277.71 2082.14 1277.55 Q2083.16 1277.36 2084.18 1277.36 Q2089.97 1277.36 2093.35 1280.53 Q2096.73 1283.71 2096.73 1289.12 Q2096.73 1294.7 2093.25 1297.8 Q2089.78 1300.88 2083.46 1300.88 Q2081.29 1300.88 2079.02 1300.51 Q2076.77 1300.14 2074.36 1299.4 L2074.36 1294.7 Q2076.45 1295.83 2078.67 1296.39 Q2080.89 1296.95 2083.37 1296.95 Q2087.37 1296.95 2089.71 1294.84 Q2092.05 1292.73 2092.05 1289.12 Q2092.05 1285.51 2089.71 1283.4 Q2087.37 1281.3 2083.37 1281.3 Q2081.49 1281.3 2079.62 1281.71 Q2077.77 1282.13 2075.82 1283.01 L2075.82 1265.65 Z\" fill=\"#000000\" fill-rule=\"evenodd\" fill-opacity=\"1\" /><path clip-path=\"url(#clip480)\" d=\"M2030.41 1065.76 L2048.76 1065.76 L2048.76 1069.7 L2034.69 1069.7 L2034.69 1078.17 Q2035.71 1077.82 2036.73 1077.66 Q2037.74 1077.47 2038.76 1077.47 Q2044.55 1077.47 2047.93 1080.64 Q2051.31 1083.82 2051.31 1089.23 Q2051.31 1094.81 2047.84 1097.91 Q2044.36 1100.99 2038.05 1100.99 Q2035.87 1100.99 2033.6 1100.62 Q2031.36 1100.25 2028.95 1099.51 L2028.95 1094.81 Q2031.03 1095.95 2033.25 1096.5 Q2035.48 1097.06 2037.95 1097.06 Q2041.96 1097.06 2044.29 1094.95 Q2046.63 1092.84 2046.63 1089.23 Q2046.63 1085.62 2044.29 1083.51 Q2041.96 1081.41 2037.95 1081.41 Q2036.08 1081.41 2034.2 1081.82 Q2032.35 1082.24 2030.41 1083.12 L2030.41 1065.76 Z\" fill=\"#000000\" fill-rule=\"evenodd\" fill-opacity=\"1\" /><path clip-path=\"url(#clip480)\" d=\"M2060.52 1094.44 L2065.41 1094.44 L2065.41 1100.32 L2060.52 1100.32 L2060.52 1094.44 Z\" fill=\"#000000\" fill-rule=\"evenodd\" fill-opacity=\"1\" /><path clip-path=\"url(#clip480)\" d=\"M2085.59 1068.84 Q2081.98 1068.84 2080.15 1072.4 Q2078.35 1075.95 2078.35 1083.07 Q2078.35 1090.18 2080.15 1093.75 Q2081.98 1097.29 2085.59 1097.29 Q2089.23 1097.29 2091.03 1093.75 Q2092.86 1090.18 2092.86 1083.07 Q2092.86 1075.95 2091.03 1072.4 Q2089.23 1068.84 2085.59 1068.84 M2085.59 1065.14 Q2091.4 1065.14 2094.46 1069.74 Q2097.54 1074.33 2097.54 1083.07 Q2097.54 1091.8 2094.46 1096.41 Q2091.4 1100.99 2085.59 1100.99 Q2079.78 1100.99 2076.7 1096.41 Q2073.65 1091.8 2073.65 1083.07 Q2073.65 1074.33 2076.7 1069.74 Q2079.78 1065.14 2085.59 1065.14 Z\" fill=\"#000000\" fill-rule=\"evenodd\" fill-opacity=\"1\" /><path clip-path=\"url(#clip480)\" d=\"M2028.95 865.871 L2051.17 865.871 L2051.17 867.862 L2038.62 900.431 L2033.74 900.431 L2045.54 869.806 L2028.95 869.806 L2028.95 865.871 Z\" fill=\"#000000\" fill-rule=\"evenodd\" fill-opacity=\"1\" /><path clip-path=\"url(#clip480)\" d=\"M2060.29 894.551 L2065.17 894.551 L2065.17 900.431 L2060.29 900.431 L2060.29 894.551 Z\" fill=\"#000000\" fill-rule=\"evenodd\" fill-opacity=\"1\" /><path clip-path=\"url(#clip480)\" d=\"M2075.41 865.871 L2093.76 865.871 L2093.76 869.806 L2079.69 869.806 L2079.69 878.278 Q2080.71 877.931 2081.73 877.769 Q2082.74 877.584 2083.76 877.584 Q2089.55 877.584 2092.93 880.755 Q2096.31 883.926 2096.31 889.343 Q2096.31 894.922 2092.84 898.023 Q2089.36 901.102 2083.04 901.102 Q2080.87 901.102 2078.6 900.732 Q2076.35 900.361 2073.95 899.621 L2073.95 894.922 Q2076.03 896.056 2078.25 896.611 Q2080.48 897.167 2082.95 897.167 Q2086.96 897.167 2089.29 895.06 Q2091.63 892.954 2091.63 889.343 Q2091.63 885.732 2089.29 883.625 Q2086.96 881.519 2082.95 881.519 Q2081.08 881.519 2079.2 881.936 Q2077.35 882.352 2075.41 883.232 L2075.41 865.871 Z\" fill=\"#000000\" fill-rule=\"evenodd\" fill-opacity=\"1\" /><path clip-path=\"url(#clip480)\" d=\"M2029.62 696.606 L2037.26 696.606 L2037.26 670.241 L2028.95 671.907 L2028.95 667.648 L2037.21 665.981 L2041.89 665.981 L2041.89 696.606 L2049.53 696.606 L2049.53 700.541 L2029.62 700.541 L2029.62 696.606 Z\" fill=\"#000000\" fill-rule=\"evenodd\" fill-opacity=\"1\" /><path clip-path=\"url(#clip480)\" d=\"M2068.97 669.06 Q2065.36 669.06 2063.53 672.625 Q2061.73 676.167 2061.73 683.296 Q2061.73 690.403 2063.53 693.967 Q2065.36 697.509 2068.97 697.509 Q2072.61 697.509 2074.41 693.967 Q2076.24 690.403 2076.24 683.296 Q2076.24 676.167 2074.41 672.625 Q2072.61 669.06 2068.97 669.06 M2068.97 665.356 Q2074.78 665.356 2077.84 669.963 Q2080.92 674.546 2080.92 683.296 Q2080.92 692.023 2077.84 696.629 Q2074.78 701.213 2068.97 701.213 Q2063.16 701.213 2060.08 696.629 Q2057.03 692.023 2057.03 683.296 Q2057.03 674.546 2060.08 669.963 Q2063.16 665.356 2068.97 665.356 Z\" fill=\"#000000\" fill-rule=\"evenodd\" fill-opacity=\"1\" /><path clip-path=\"url(#clip480)\" d=\"M2089.13 694.662 L2094.02 694.662 L2094.02 700.541 L2089.13 700.541 L2089.13 694.662 Z\" fill=\"#000000\" fill-rule=\"evenodd\" fill-opacity=\"1\" /><path clip-path=\"url(#clip480)\" d=\"M2114.2 669.06 Q2110.59 669.06 2108.76 672.625 Q2106.96 676.167 2106.96 683.296 Q2106.96 690.403 2108.76 693.967 Q2110.59 697.509 2114.2 697.509 Q2117.84 697.509 2119.64 693.967 Q2121.47 690.403 2121.47 683.296 Q2121.47 676.167 2119.64 672.625 Q2117.84 669.06 2114.2 669.06 M2114.2 665.356 Q2120.01 665.356 2123.07 669.963 Q2126.15 674.546 2126.15 683.296 Q2126.15 692.023 2123.07 696.629 Q2120.01 701.213 2114.2 701.213 Q2108.39 701.213 2105.31 696.629 Q2102.26 692.023 2102.26 683.296 Q2102.26 674.546 2105.31 669.963 Q2108.39 665.356 2114.2 665.356 Z\" fill=\"#000000\" fill-rule=\"evenodd\" fill-opacity=\"1\" /><path clip-path=\"url(#clip480)\" d=\"M2029.62 496.717 L2037.26 496.717 L2037.26 470.351 L2028.95 472.018 L2028.95 467.759 L2037.21 466.092 L2041.89 466.092 L2041.89 496.717 L2049.53 496.717 L2049.53 500.652 L2029.62 500.652 L2029.62 496.717 Z\" fill=\"#000000\" fill-rule=\"evenodd\" fill-opacity=\"1\" /><path clip-path=\"url(#clip480)\" d=\"M2063 496.717 L2079.32 496.717 L2079.32 500.652 L2057.37 500.652 L2057.37 496.717 Q2060.04 493.962 2064.62 489.333 Q2069.23 484.68 2070.41 483.337 Q2072.65 480.814 2073.53 479.078 Q2074.43 477.319 2074.43 475.629 Q2074.43 472.874 2072.49 471.138 Q2070.57 469.402 2067.47 469.402 Q2065.27 469.402 2062.81 470.166 Q2060.38 470.93 2057.61 472.481 L2057.61 467.759 Q2060.43 466.624 2062.88 466.046 Q2065.34 465.467 2067.37 465.467 Q2072.74 465.467 2075.94 468.152 Q2079.13 470.837 2079.13 475.328 Q2079.13 477.458 2078.32 479.379 Q2077.54 481.277 2075.43 483.87 Q2074.85 484.541 2071.75 487.759 Q2068.65 490.953 2063 496.717 Z\" fill=\"#000000\" fill-rule=\"evenodd\" fill-opacity=\"1\" /><path clip-path=\"url(#clip480)\" d=\"M2089.13 494.772 L2094.02 494.772 L2094.02 500.652 L2089.13 500.652 L2089.13 494.772 Z\" fill=\"#000000\" fill-rule=\"evenodd\" fill-opacity=\"1\" /><path clip-path=\"url(#clip480)\" d=\"M2104.25 466.092 L2122.6 466.092 L2122.6 470.027 L2108.53 470.027 L2108.53 478.499 Q2109.55 478.152 2110.57 477.99 Q2111.59 477.805 2112.6 477.805 Q2118.39 477.805 2121.77 480.976 Q2125.15 484.147 2125.15 489.564 Q2125.15 495.143 2121.68 498.245 Q2118.21 501.323 2111.89 501.323 Q2109.71 501.323 2107.44 500.953 Q2105.2 500.583 2102.79 499.842 L2102.79 495.143 Q2104.87 496.277 2107.1 496.833 Q2109.32 497.388 2111.79 497.388 Q2115.8 497.388 2118.14 495.282 Q2120.48 493.175 2120.48 489.564 Q2120.48 485.953 2118.14 483.847 Q2115.8 481.74 2111.79 481.74 Q2109.92 481.74 2108.04 482.157 Q2106.19 482.573 2104.25 483.453 L2104.25 466.092 Z\" fill=\"#000000\" fill-rule=\"evenodd\" fill-opacity=\"1\" /><path clip-path=\"url(#clip480)\" d=\"M2029.62 296.827 L2037.26 296.827 L2037.26 270.462 L2028.95 272.128 L2028.95 267.869 L2037.21 266.203 L2041.89 266.203 L2041.89 296.827 L2049.53 296.827 L2049.53 300.763 L2029.62 300.763 L2029.62 296.827 Z\" fill=\"#000000\" fill-rule=\"evenodd\" fill-opacity=\"1\" /><path clip-path=\"url(#clip480)\" d=\"M2059.02 266.203 L2077.37 266.203 L2077.37 270.138 L2063.3 270.138 L2063.3 278.61 Q2064.32 278.263 2065.34 278.101 Q2066.36 277.915 2067.37 277.915 Q2073.16 277.915 2076.54 281.087 Q2079.92 284.258 2079.92 289.675 Q2079.92 295.253 2076.45 298.355 Q2072.98 301.434 2066.66 301.434 Q2064.48 301.434 2062.21 301.064 Q2059.97 300.693 2057.56 299.952 L2057.56 295.253 Q2059.64 296.388 2061.86 296.943 Q2064.09 297.499 2066.56 297.499 Q2070.57 297.499 2072.91 295.392 Q2075.24 293.286 2075.24 289.675 Q2075.24 286.064 2072.91 283.957 Q2070.57 281.851 2066.56 281.851 Q2064.69 281.851 2062.81 282.267 Q2060.96 282.684 2059.02 283.564 L2059.02 266.203 Z\" fill=\"#000000\" fill-rule=\"evenodd\" fill-opacity=\"1\" /><path clip-path=\"url(#clip480)\" d=\"M2089.13 294.883 L2094.02 294.883 L2094.02 300.763 L2089.13 300.763 L2089.13 294.883 Z\" fill=\"#000000\" fill-rule=\"evenodd\" fill-opacity=\"1\" /><path clip-path=\"url(#clip480)\" d=\"M2114.2 269.281 Q2110.59 269.281 2108.76 272.846 Q2106.96 276.388 2106.96 283.517 Q2106.96 290.624 2108.76 294.189 Q2110.59 297.73 2114.2 297.73 Q2117.84 297.73 2119.64 294.189 Q2121.47 290.624 2121.47 283.517 Q2121.47 276.388 2119.64 272.846 Q2117.84 269.281 2114.2 269.281 M2114.2 265.578 Q2120.01 265.578 2123.07 270.184 Q2126.15 274.767 2126.15 283.517 Q2126.15 292.244 2123.07 296.851 Q2120.01 301.434 2114.2 301.434 Q2108.39 301.434 2105.31 296.851 Q2102.26 292.244 2102.26 283.517 Q2102.26 274.767 2105.31 270.184 Q2108.39 265.578 2114.2 265.578 Z\" fill=\"#000000\" fill-rule=\"evenodd\" fill-opacity=\"1\" /><path clip-path=\"url(#clip480)\" d=\"M2029.62 96.938 L2037.26 96.938 L2037.26 70.5724 L2028.95 72.2391 L2028.95 67.9798 L2037.21 66.3132 L2041.89 66.3132 L2041.89 96.938 L2049.53 96.938 L2049.53 100.873 L2029.62 100.873 L2029.62 96.938 Z\" fill=\"#000000\" fill-rule=\"evenodd\" fill-opacity=\"1\" /><path clip-path=\"url(#clip480)\" d=\"M2057.79 66.3132 L2080.01 66.3132 L2080.01 68.3039 L2067.47 100.873 L2062.58 100.873 L2074.39 70.2483 L2057.79 70.2483 L2057.79 66.3132 Z\" fill=\"#000000\" fill-rule=\"evenodd\" fill-opacity=\"1\" /><path clip-path=\"url(#clip480)\" d=\"M2089.13 94.9936 L2094.02 94.9936 L2094.02 100.873 L2089.13 100.873 L2089.13 94.9936 Z\" fill=\"#000000\" fill-rule=\"evenodd\" fill-opacity=\"1\" /><path clip-path=\"url(#clip480)\" d=\"M2104.25 66.3132 L2122.6 66.3132 L2122.6 70.2483 L2108.53 70.2483 L2108.53 78.7205 Q2109.55 78.3733 2110.57 78.2113 Q2111.59 78.0261 2112.6 78.0261 Q2118.39 78.0261 2121.77 81.1974 Q2125.15 84.3686 2125.15 89.7853 Q2125.15 95.3639 2121.68 98.4658 Q2118.21 101.544 2111.89 101.544 Q2109.71 101.544 2107.44 101.174 Q2105.2 100.804 2102.79 100.063 L2102.79 95.3639 Q2104.87 96.4982 2107.1 97.0538 Q2109.32 97.6093 2111.79 97.6093 Q2115.8 97.6093 2118.14 95.5028 Q2120.48 93.3964 2120.48 89.7853 Q2120.48 86.1742 2118.14 84.0677 Q2115.8 81.9612 2111.79 81.9612 Q2109.92 81.9612 2108.04 82.3779 Q2106.19 82.7946 2104.25 83.6742 L2104.25 66.3132 Z\" fill=\"#000000\" fill-rule=\"evenodd\" fill-opacity=\"1\" /><polyline clip-path=\"url(#clip480)\" style=\"stroke:#000000; stroke-linecap:butt; stroke-linejoin:round; stroke-width:4; stroke-opacity:1; fill:none\" points=\"\n",
       "  1992.95,1486.45 1992.95,1486.45 2016.95,1486.45 1992.95,1486.45 1992.95,1286.56 2016.95,1286.56 1992.95,1286.56 1992.95,1086.67 2016.95,1086.67 1992.95,1086.67 \n",
       "  1992.95,886.78 2016.95,886.78 1992.95,886.78 1992.95,686.89 2016.95,686.89 1992.95,686.89 1992.95,487.001 2016.95,487.001 1992.95,487.001 1992.95,287.111 \n",
       "  2016.95,287.111 1992.95,287.111 1992.95,87.222 2016.95,87.222 1992.95,87.222 1992.95,47.2441 \n",
       "  \"/>\n",
       "</svg>\n"
      ]
     },
     "execution_count": 14,
     "metadata": {},
     "output_type": "execute_result"
    }
   ],
   "source": [
    "plot!(plt, [0, evec1[1]], [0, evec1[2]], label = nothing)\n",
    "plot!(plt, [0, evec2[1]], [0, evec2[2]], label = nothing)"
   ]
  }
 ],
 "metadata": {
  "@webio": {
   "lastCommId": null,
   "lastKernelId": null
  },
  "hide_input": false,
  "kernelspec": {
   "display_name": "Julia 1.6.0",
   "language": "julia",
   "name": "julia-1.6"
  },
  "language_info": {
   "file_extension": ".jl",
   "mimetype": "application/julia",
   "name": "julia",
   "version": "1.6.0"
  },
  "toc": {
   "colors": {
    "hover_highlight": "#DAA520",
    "running_highlight": "#FF0000",
    "selected_highlight": "#FFD700"
   },
   "moveMenuLeft": true,
   "nav_menu": {
    "height": "171px",
    "width": "252px"
   },
   "navigate_menu": true,
   "number_sections": true,
   "sideBar": true,
   "skip_h1_title": true,
   "threshold": 4,
   "toc_cell": true,
   "toc_section_display": "block",
   "toc_window_display": true,
   "widenNotebook": false
  },
  "toc-autonumbering": true
 },
 "nbformat": 4,
 "nbformat_minor": 2
}
