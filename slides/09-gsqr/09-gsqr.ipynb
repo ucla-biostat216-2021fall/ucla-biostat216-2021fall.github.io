{
 "cells": [
  {
   "cell_type": "markdown",
   "metadata": {},
   "source": [
    "# Gram-Schmidt and QR Decomposition\n",
    "\n",
    "In this lecture we (1) review the Gram-Schmidt (GS) algorithm to orthonormalize a set of vectors (or obtain an orthonormal basis of a column space), and (2) show that GS leads to the QR decomposition $\\mathbf{A} = \\mathbf{Q} \\mathbf{R}$ of a rectangular matrix $\\mathbf{A}$.\n",
    "\n",
    "<img src=\"https://upload.wikimedia.org/wikipedia/commons/e/e7/Jørgen_Pedersen_Gram_by_Johannes_Hauerslev.jpg\" width=\"150\" align=\"center\"/>\n",
    "\n",
    "<img src=\"https://upload.wikimedia.org/wikipedia/commons/thumb/1/16/Erhard_Schmidt.jpg/220px-Erhard_Schmidt.jpg\" width=\"150\" align=\"center\"/>"
   ]
  },
  {
   "cell_type": "markdown",
   "metadata": {},
   "source": [
    "## Example\n",
    "\n",
    "- Given\n",
    "$$\n",
    "\\mathbf{A} = \\begin{pmatrix}\n",
    "1 & 2 \\\\\n",
    "1 & 2 \\\\\n",
    "0 & 3\n",
    "\\end{pmatrix},\n",
    "$$\n",
    "how to find an orthonormal basis of $\\mathcal{C}(\\mathbf{A})$?\n",
    "\n",
    "    **Step 1**: Normalize $\\mathbf{x}_1$:\n",
    "$$\n",
    "\\mathbf{q}_1 = \\frac{\\mathbf{x}_1}{\\|\\mathbf{x}_1\\|} = \\begin{pmatrix} \\frac{1}{\\sqrt 2} \\\\ \\frac{1}{\\sqrt 2} \\\\ 0 \\end{pmatrix}.\n",
    "$$\n",
    "\n",
    "    **Step 2**: Project $\\mathbf{x}_2$ to $\\mathcal{C}(\\{\\mathbf{q}_1\\})^\\perp$\n",
    "\\begin{eqnarray*}\n",
    "    & & (\\mathbf{I} - \\mathbf{P}_{\\{\\mathbf{q}_1\\}}) \\mathbf{x}_2 \\\\\n",
    "    &=& \\mathbf{x}_2 - \\mathbf{P}_{\\{\\mathbf{q}_1\\}} \\mathbf{x}_2 \\\\\n",
    "    &=& \\mathbf{x}_2 - \\langle \\mathbf{q}_1, \\mathbf{x}_2 \\rangle \\mathbf{q}_1 \\\\\n",
    "    &=& \\begin{pmatrix} 2 \\\\ 2 \\\\ 3 \\end{pmatrix} - 2 \\sqrt 2 \\begin{pmatrix} \\frac{1}{\\sqrt 2} \\\\ \\frac{1}{\\sqrt 2} \\\\ 0 \\end{pmatrix} \\\\\n",
    "    &=& \\begin{pmatrix} 0 \\\\ 0 \\\\ 3 \\end{pmatrix}.\n",
    "\\end{eqnarray*}\n",
    "and normalize\n",
    "$$\n",
    "    \\mathbf{q}_2 = \\frac{1}{3} \\begin{pmatrix} 0 \\\\ 0 \\\\ 3 \\end{pmatrix} = \\begin{pmatrix} 0 \\\\ 0 \\\\ 1 \\end{pmatrix}.\n",
    "$$\n",
    "\n",
    "    Therefore an orthonormal basis of $\\mathcal{C}(\\mathbf{A})$ is given by columns of \n",
    "$$\n",
    "\\mathbf{Q} = \\begin{pmatrix} \\frac{1}{\\sqrt 2} & 0 \\\\ \\frac{1}{\\sqrt 2} & 0 \\\\ 0 & 1 \\end{pmatrix}.\n",
    "$$\n",
    "If we collect the inner products $\\langle \\mathbf{q}_i, \\mathbf{x}_j \\rangle$, $j \\ge i$, into a matrix $\\mathbf{R}$\n",
    "$$\n",
    "\\mathbf{R} = \\begin{pmatrix} \\sqrt 2 & 2 \\sqrt 2 \\\\ 0 & 3 \\end{pmatrix},\n",
    "$$\n",
    "then we have $\\mathbf{A} = \\mathbf{Q} \\mathbf{R}$."
   ]
  },
  {
   "cell_type": "markdown",
   "metadata": {},
   "source": [
    "## Gram-Schmidt (GS) procedure and QR decomposition\n",
    "\n",
    "<img src=\"http://www.sharetechnote.com/image/EngMath_Matrix_QRDecomposition_02.png\" width=\"450\" align=\"center\"/>"
   ]
  },
  {
   "cell_type": "markdown",
   "metadata": {},
   "source": [
    "- **Gram-Schmidt algorithm** orthonormalizes a set of non-zero, *linearly independent* vectors $\\mathbf{a}_1,\\ldots,\\mathbf{a}_n \\in \\mathbb{R}^m$. \n",
    "\n",
    "    0. Initialize $\\mathbf{q}_1 = \\frac{\\mathbf{a}_1}{\\|\\mathbf{a}_1\\|_2}$\n",
    "    0. For $k=2, \\ldots, n$, \n",
    "$$\n",
    "\\begin{eqnarray*}\n",
    "\t\\mathbf{v}_k &=& \\mathbf{a}_k - \\mathbf{P}_{{\\cal C}\\{\\mathbf{q}_1,\\ldots,\\mathbf{q}_{k-1}\\}} \\mathbf{a}_k = \\mathbf{a}_k -  \\sum_{j=1}^{k-1} \\langle \\mathbf{a}_k, \\mathbf{q}_j \\rangle \\cdot \\mathbf{q}_j \\\\\n",
    "\t\\mathbf{q}_k &=& \\frac{\\mathbf{v}_k}{\\|\\mathbf{v}_k\\|_2}\n",
    "\\end{eqnarray*}\n",
    "$$\n",
    "\n",
    "- Collectively we have $\\mathbf{A} = \\mathbf{Q} \\mathbf{R}$. \n",
    "    - $\\mathbf{Q} \\in \\mathbb{R}^{m \\times n}$ has orthonormal columns $\\mathbf{q}_k$ thus $\\mathbf{Q}^T \\mathbf{Q} = \\mathbf{I}_m$  \n",
    "    - Where is $\\mathbf{R}$? $\\mathbf{R} = \\mathbf{Q}^T \\mathbf{X}$ has entries $r_{jk} = \\langle \\mathbf{q}_j, \\mathbf{x}_k \\rangle$, which are computed during the Gram-Schmidt process. Note $r_{jk} = 0$ for $j > k$, so $\\mathbf{R}$ is upper triangular.\n",
    "    \n",
    "- Computer actually performs QR on a column-permuted version of $\\mathbf{A}$, that is \n",
    "$$\n",
    "\\mathbf{A} \\mathbf{P} = \\mathbf{Q} \\mathbf{R},\n",
    "$$\n",
    "where $\\mathbf{P}$ is a permutation matrix. "
   ]
  },
  {
   "cell_type": "code",
   "execution_count": 1,
   "metadata": {},
   "outputs": [
    {
     "data": {
      "text/plain": [
       "3×2 Array{Float64,2}:\n",
       " 1.0  2.0\n",
       " 1.0  2.0\n",
       " 0.0  3.0"
      ]
     },
     "execution_count": 1,
     "metadata": {},
     "output_type": "execute_result"
    }
   ],
   "source": [
    "using LinearAlgebra\n",
    "\n",
    "A = [1.0 2.0; 1.0 2.0; 0.0 3.0]"
   ]
  },
  {
   "cell_type": "code",
   "execution_count": 2,
   "metadata": {},
   "outputs": [
    {
     "data": {
      "text/plain": [
       "LinearAlgebra.QRCompactWY{Float64,Array{Float64,2}}\n",
       "Q factor:\n",
       "3×3 LinearAlgebra.QRCompactWYQ{Float64,Array{Float64,2}}:\n",
       " -0.707107   0.0   0.707107\n",
       " -0.707107   0.0  -0.707107\n",
       "  0.0       -1.0   0.0     \n",
       "R factor:\n",
       "2×2 Array{Float64,2}:\n",
       " -1.41421  -2.82843\n",
       "  0.0      -3.0    "
      ]
     },
     "execution_count": 2,
     "metadata": {},
     "output_type": "execute_result"
    }
   ],
   "source": [
    "Aqr = qr(A)"
   ]
  },
  {
   "cell_type": "markdown",
   "metadata": {},
   "source": [
    "## Application to least squares problem\n",
    "\n",
    "- Recall that method of least squares minimizes\n",
    "$$\n",
    "    \\|\\mathbf{y} - \\mathbf{X} \\boldsymbol{\\beta}\\|^2\n",
    "$$\n",
    "to find the optimal vector in $\\mathcal{C}(\\mathbf{X})$ that approximates $\\mathbf{y}$ best.\n",
    "\n",
    "- We showed that the least squares solution satisfies the **normal equation**\n",
    "$$\n",
    "    \\mathbf{X}' \\mathbf{X} \\boldsymbol{\\beta} = \\mathbf{X}' \\mathbf{y}.\n",
    "$$\n",
    "\n",
    "- If we are given the QR decomposition $\\mathbf{X} = \\mathbf{Q} \\mathbf{R}$, then the normal equation becomes\n",
    "$$\n",
    "    \\mathbf{R}' \\mathbf{R} \\boldsymbol{\\beta} = \\mathbf{X}' \\mathbf{y},\n",
    "$$\n",
    "which is solved by two triangular solves.\n",
    "\n",
    "- This is how statistical software R solves the least squares or linear regression problem."
   ]
  }
 ],
 "metadata": {
  "kernelspec": {
   "display_name": "Julia 1.2.0",
   "language": "julia",
   "name": "julia-1.2"
  },
  "language_info": {
   "file_extension": ".jl",
   "mimetype": "application/julia",
   "name": "julia",
   "version": "1.2.0"
  }
 },
 "nbformat": 4,
 "nbformat_minor": 2
}
