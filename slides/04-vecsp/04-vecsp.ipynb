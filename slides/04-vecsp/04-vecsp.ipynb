{
 "cells": [
  {
   "cell_type": "markdown",
   "metadata": {
    "toc": "true"
   },
   "source": [
    "# Table of Contents\n",
    " <p><div class=\"lev1 toc-item\"><a href=\"#Vector-space\" data-toc-modified-id=\"Vector-space-1\"><span class=\"toc-item-num\">1&nbsp;&nbsp;</span>Vector space</a></div><div class=\"lev2 toc-item\"><a href=\"#Vector-space\" data-toc-modified-id=\"Vector-space-11\"><span class=\"toc-item-num\">1.1&nbsp;&nbsp;</span>Vector space</a></div><div class=\"lev2 toc-item\"><a href=\"#Span\" data-toc-modified-id=\"Span-12\"><span class=\"toc-item-num\">1.2&nbsp;&nbsp;</span>Span</a></div><div class=\"lev2 toc-item\"><a href=\"#Four-fundamental-subspaces\" data-toc-modified-id=\"Four-fundamental-subspaces-13\"><span class=\"toc-item-num\">1.3&nbsp;&nbsp;</span>Four fundamental subspaces</a></div><div class=\"lev2 toc-item\"><a href=\"#Effects-of-matrix-multiplication-on-column/row-space\" data-toc-modified-id=\"Effects-of-matrix-multiplication-on-column/row-space-14\"><span class=\"toc-item-num\">1.4&nbsp;&nbsp;</span>Effects of matrix multiplication on column/row space</a></div><div class=\"lev2 toc-item\"><a href=\"#Essential-disjointness-of-four-fundamental-subspaces\" data-toc-modified-id=\"Essential-disjointness-of-four-fundamental-subspaces-15\"><span class=\"toc-item-num\">1.5&nbsp;&nbsp;</span>Essential disjointness of four fundamental subspaces</a></div><div class=\"lev2 toc-item\"><a href=\"#Basis-of-a-subspace\" data-toc-modified-id=\"Basis-of-a-subspace-16\"><span class=\"toc-item-num\">1.6&nbsp;&nbsp;</span>Basis of a subspace</a></div>"
   ]
  },
  {
   "cell_type": "markdown",
   "metadata": {},
   "source": [
    "# Vector space"
   ]
  },
  {
   "cell_type": "markdown",
   "metadata": {},
   "source": [
    "## Vector space\n",
    "\n",
    "- A **vector space** or **linear space** or **linear subspace** or **subspace** $\\mathcal{S} \\subseteq \\mathbb{R}^n$ is a set of vectors in $\\mathbb{R}^n$ that are closed under addition and scalar multiplication. In other words, $\\mathcal{S}$ must satisfy  \n",
    "    1. If $\\mathbf{x}, \\mathbf{y} \\in \\mathcal{S}$, then $\\mathbf{x} + \\mathbf{y} \\in \\mathcal{S}$.  \n",
    "    2. If $\\mathbf{x} \\in \\mathcal{S}$, then $\\alpha \\mathbf{x} \\in \\mathcal{S}$ for any $\\alpha \\in \\mathbb{R}$.    \n",
    "    Or equivalently the set is closed under _axpy_ operation. $\\alpha \\mathbf{x} + \\mathbf{y} \\in \\mathcal{S}$ for all $\\mathbf{x}, \\mathbf{y} \\in \\mathcal{S}$ and $\\alpha \\in \\mathbb{R}$."
   ]
  },
  {
   "cell_type": "markdown",
   "metadata": {},
   "source": [
    "- Any vector space must contain the zero vector $\\mathbf{0}$ (why?).\n",
    "\n",
    "- Examples of vector space:  \n",
    "    - Origin: $\\{\\mathbf{0}\\}$.  \n",
    "    - Line passing origin: $\\{\\alpha \\mathbf{x}: \\alpha \\in \\mathbb{R}\\}$ for a fixed vector $\\mathbf{x} \\in \\mathbb{R}^n$.  \n",
    "    - Plane passing origin: $\\{\\alpha_1 \\mathbf{x}_1 + \\alpha_2 \\mathbf{x}_2: \\alpha_1, \\alpha_2 \\in \\mathbb{R}\\}$ for two fixed vectors $\\mathbf{x}_1, \\mathbf{x}_2 \\in \\mathbb{R}^n$.\n",
    "    - Euclidean space: $\\mathbb{R}^n$.\n",
    "\n",
    "* Order and dimension. The **order** of a vector space is simply the length of the vectors in that space. Not to be confused with the **dimension** of a vector space, which we later define as the maximum number of linearly independent vectors in that space.\n",
    "\n",
    "* Two vector spaces $\\mathcal{S}_1$ and $\\mathcal{S}_2$ are **essentially disjoint** or **virtually disjoint** if the only element in $\\mathcal{S}_1 \\cap \\mathcal{S}_2$ is the zero vector $\\mathbf{0}$."
   ]
  },
  {
   "cell_type": "markdown",
   "metadata": {
    "toc-hr-collapsed": true
   },
   "source": [
    "## Span\n",
    "\n",
    "- The **span** of a set of $\\mathbf{x}_1,\\ldots,\\mathbf{x}_k \\in \\mathbb{R}^n$, defined as the set of all possible linear combinations of $\\mathbf{x}_i$s\n",
    "$$\n",
    "    \\text{span} \\{\\mathbf{x}_1,\\ldots,\\mathbf{x}_k\\} = \\left\\{\\sum_{i=1}^k \\alpha_i \\mathbf{x}_i: \\alpha_i \\in \\mathbb{R} \\right\\},\n",
    "$$\n",
    "is a vector space in $\\mathbb{R}^n$.\n",
    "\n",
    "    Proof: TODO"
   ]
  },
  {
   "cell_type": "markdown",
   "metadata": {},
   "source": [
    "## Four fundamental subspaces\n",
    "\n",
    "<img src=\"./four_fundamental_subspaces.png\" width=400 align=\"center\"/>\n",
    "\n",
    "Let $\\mathbf{A}$ be an $m \\times n$ matrix\n",
    "\\begin{eqnarray*}\n",
    "    \\mathbf{A} = \\begin{pmatrix}\n",
    "    \\mid & & \\mid \\\\\n",
    "    \\mathbf{a}_1 & \\ldots & \\mathbf{a}_n \\\\\n",
    "    \\mid & & \\mid    \n",
    "    \\end{pmatrix}.\n",
    "\\end{eqnarray*}\n",
    "\n",
    "1. The **column space** of $\\mathbf{A}$ is\n",
    "\\begin{eqnarray*}\n",
    "    \\mathcal{C}(\\mathbf{A}) &=& \\{ \\mathbf{y} \\in \\mathbb{R}^m: \\mathbf{y} = \\mathbf{A} \\mathbf{x} \\text{ for some } \\mathbf{x} \\in \\mathbb{R}^n \\} \\\\\n",
    "    &=& \\text{span}\\{\\mathbf{a}_1, \\ldots, \\mathbf{a}_n\\}.\n",
    "\\end{eqnarray*}\n",
    "Sometimes it is also called the **image** or **range** or **manifold** of $\\mathbf{A}$.\n",
    "\n",
    "2. The **row space** of $\\mathbf{A}$ is\n",
    "\\begin{eqnarray*}\n",
    "    \\mathcal{R}(\\mathbf{A}) &=& \\mathcal{C}(\\mathbf{A}') \\\\\n",
    "    &=& \\{ \\mathbf{y} \\in \\mathbb{R}^n: \\mathbf{y} = \\mathbf{A}' \\mathbf{x} \\text{ for some } \\mathbf{x} \\in \\mathbb{R}^m \\}.\n",
    "\\end{eqnarray*}\n",
    "\n",
    "3. The **null space** or **kernel** of $\\mathbf{A}$ is\n",
    "\\begin{eqnarray*}\n",
    "    \\mathcal{N}(\\mathbf{A}) = \\{\\mathbf{x} \\in \\mathbb{R}^n: \\mathbf{A} \\mathbf{x} = \\mathbf{0}\\}.\n",
    "\\end{eqnarray*}\n",
    "\n",
    "4. The **left null space** $\\mathbf{A}$ is\n",
    "\\begin{eqnarray*}\n",
    "    \\mathcal{N}(\\mathbf{A}') = \\{\\mathbf{x} \\in \\mathbb{R}^m: \\mathbf{A}' \\mathbf{x} = \\mathbf{0}\\}.\n",
    "\\end{eqnarray*}\n",
    "\n",
    "TODO: show these 4 sets are vector spaces.\n",
    "\n",
    "* Example: Draw the four subspaces of matrix $\\mathbf{A} = \\begin{pmatrix} 1 & -2 & -2 \\\\ 3 & -6 & -6 \\end{pmatrix}$. TODO\n",
    "\n",
    "* Example: Interpret the four subspaces of the incidence matrix of a directed graph. TODO"
   ]
  },
  {
   "cell_type": "markdown",
   "metadata": {},
   "source": [
    "## Effects of matrix multiplication on column/row space\n",
    "\n",
    "- $\\mathcal{C}(\\mathbf{C}) \\subseteq \\mathcal{C}(\\mathbf{A})$ if and only if $\\mathbf{C} = \\mathbf{A} \\mathbf{B}$ for some matrix $\\mathbf{B}$.\n",
    "\n",
    "    Proof: The _if_ part is easily verified since each column of $\\mathbf{C}$ is a linear combination of columns of $\\mathbf{A}$. For the _only if_ part, assuming $\\mathcal{C}(\\mathbf{C}) \\subseteq \\mathcal{C}(\\mathbf{A})$, each column of $\\mathbf{C}$ is a linear combination of columns of $\\mathbf{A}$. In other words $\\mathbf{c}_j = \\mathbf{A} \\mathbf{b}_j$ for some $\\mathbf{b}_j$. Therefore $\\mathbf{C} = \\mathbf{A} \\mathbf{B}$, where $\\mathbf{B}$ has columns $\\mathbf{b}_j$.\n",
    "    \n",
    "- $\\mathcal{R}(\\mathbf{C}) \\subseteq \\mathcal{C}(\\mathbf{A})$ if and only if $\\mathbf{C} = \\mathbf{B} \\mathbf{A}$ for some matrix $\\mathbf{B}$.\n",
    "\n",
    "    Proof is similar to above.\n",
    "    \n",
    "- $\\mathcal{N}(\\mathbf{B}) \\subseteq \\mathcal{N}(\\mathbf{A} \\mathbf{B})$.\n",
    "\n",
    "    Proof. For any $\\mathbf{x} \\in \\mathcal{N}(\\mathbf{B})$, $\\mathbf{A} \\mathbf{B} \\mathbf{x} = \\mathbf{A} (\\mathbf{B} \\mathbf{x}) = \\mathbf{A} \\mathbf{0} = \\mathbf{0}$. Thus $\\mathbf{x} \\in \\mathcal{N}(\\mathbf{A} \\mathbf{B})$.    "
   ]
  },
  {
   "cell_type": "markdown",
   "metadata": {},
   "source": [
    "## Essential disjointness of four fundamental subspaces\n",
    "\n",
    "- **Row space and null space of a matrix are essentially disjoint.** For any matrix $\\mathbf{A} \\in \\mathbb{R}^{m \\times n}$,\n",
    "$$\n",
    "\\mathcal{R}(\\mathbf{A}) \\cap \\mathcal{N}(\\mathbf{A}) = \\{\\mathbf{0}_n\\}.\n",
    "$$\n",
    "\n",
    "    Proof: If $\\mathbf{x} \\in \\mathcal{R}(\\mathbf{A}) \\cap \\mathcal{N}(\\mathbf{A})$, then $\\mathbf{x} = \\mathbf{A}' \\mathbf{u}$ for some $\\mathbf{u}$ and $\\mathbf{A} \\mathbf{x} = \\mathbf{0}$. Thus $\\mathbf{x}' \\mathbf{x} = \\mathbf{u}' \\mathbf{A} \\mathbf{x} = \\mathbf{u}' \\mathbf{0} = 0$, which implies $\\mathbf{x} = \\mathbf{0}$. This shows $\\mathcal{R}(\\mathbf{A}) \\cap \\mathcal{N}(\\mathbf{A}) \\subseteq \\{\\mathbf{0}\\}$. The other direction is trivial.\n",
    "\n",
    "- **Column space and left null space of a matrix are essentially disjoint.** For any matrix $\\mathbf{A} \\in \\mathbb{R}^n$,\n",
    "$$\n",
    "\\mathcal{C}(\\mathbf{A}) \\cap \\mathcal{N}(\\mathbf{A}') = \\{\\mathbf{0}_n\\}.\n",
    "$$\n",
    "\n",
    "    Proof: Apply above result to $\\mathbf{A}'$.  \n",
    "\n",
    "- Null space of Gram matrix.\n",
    "\\begin{eqnarray*}\n",
    "    \\mathcal{N}(\\mathbf{A}'\\mathbf{A}) &=& \\mathcal{N}(\\mathbf{A}) \\\\\n",
    "    \\mathcal{N}(\\mathbf{A}\\mathbf{A}') &=& \\mathcal{N}(\\mathbf{A}').\n",
    "\\end{eqnarray*}\n",
    "\n",
    "    Proof: For the first equation, we note\n",
    "\\begin{eqnarray*}\n",
    "    & & \\mathbf{x} \\in \\mathcal{N}(\\mathbf{A}) \\\\\n",
    "    &\\Rightarrow& \\mathbf{A} \\mathbf{x} = \\mathbf{0} \\\\\n",
    "    &\\Rightarrow& \\mathbf{A}'\\mathbf{A} \\mathbf{x} = \\mathbf{0} \\\\\n",
    "    &\\Rightarrow& \\mathbf{x} \\in \\mathcal{N}(\\mathbf{A}'\\mathbf{A}).\n",
    "\\end{eqnarray*}\n",
    "This shows $\\mathcal{N}(\\mathbf{A}) \\subseteq \\mathcal{N}(\\mathbf{A}'\\mathbf{A})$. To show the other direction $\\mathcal{N}(\\mathbf{A}) \\supseteq \\mathcal{N}(\\mathbf{A}'\\mathbf{A})$, we note\n",
    "\\begin{eqnarray*}\n",
    "    & & \\mathbf{x} \\in \\mathcal{N}(\\mathbf{A}'\\mathbf{A}) \\\\\n",
    "    &\\Rightarrow& \\mathbf{A}'\\mathbf{A} \\mathbf{x} = \\mathbf{0} \\\\\n",
    "    &\\Rightarrow& \\mathbf{x}' \\mathbf{A}' \\mathbf{A} \\mathbf{x} = 0 \\\\\n",
    "    &\\Rightarrow& \\|\\mathbf{A} \\mathbf{x}\\|^2 = 0 \\\\\n",
    "    &\\Rightarrow& \\mathbf{A} \\mathbf{x} = \\mathbf{0} \\\\\n",
    "    &\\Rightarrow& \\mathbf{x} \\in \\mathcal{N}(\\mathbf{A}).\n",
    "\\end{eqnarray*} \n",
    "\n",
    "    For the second equation, we apply the first equation to $\\mathbf{B} = \\mathbf{A}'$. "
   ]
  },
  {
   "cell_type": "markdown",
   "metadata": {
    "toc-hr-collapsed": false
   },
   "source": [
    "## Basis of a subspace\n",
    "\n",
    "- A set of linearly independent vectors that span a vector space $\\mathcal{S}$ is called a **basis** of ${\\cal S}$.\n",
    "\n",
    "- Let $\\mathcal{A} = \\{\\mathbf{a}_1, \\ldots, \\mathbf{a}_k\\}$ be a basis of a vector space $\\mathcal{S}$. Then any vector $\\mathbf{x} \\in \\mathcal{S}$ can be expressed **uniquely** as a linear combination of vectors in $\\mathcal{A}$.\n",
    "\n",
    "    Proof: Suppose $\\mathbf{x}$ can be expressed by two linear combinations\n",
    "$$\n",
    "    \\mathbf{x} = \\alpha_1 \\mathbf{a}_1 + \\cdots + \\alpha_k \\mathbf{a}_k = \\beta_1 \\mathbf{a}_1 + \\cdots + \\beta_k \\mathbf{a}_k.\n",
    "$$\n",
    "Then $(\\alpha_1 - \\beta_1) \\mathbf{a}_1 + \\cdots (\\alpha_k - \\beta_k) \\mathbf{a}_k = \\mathbf{0}$. Since $\\mathbf{a}_i$ are linearly independent, we have $\\alpha_i = \\beta_i$ for all $i$.\n",
    "\n",
    "- Let $\\mathcal{A}=\\{\\mathbf{a}_1, \\ldots, \\mathbf{a}_k\\}$ and $\\mathcal{B}=\\{\\mathbf{b}_1, \\ldots, \\mathbf{b}_l\\}$ be two basis of a vector space $\\mathcal{S} \\subset \\mathbb{R}^n$. Then $k = l$.\n",
    "\n",
    "    Proof. Define two matrices\n",
    "$$\n",
    "    \\mathbf{A} = \\begin{pmatrix}\n",
    "    \\mid & & \\mid \\\\\n",
    "    \\mathbf{a}_1 & \\ldots & \\mathbf{a}_k \\\\\n",
    "    \\mid & & \\mid    \n",
    "    \\end{pmatrix} \\in \\mathbb{R}^{n \\times k}, \\quad \\mathbf{B} = \\begin{pmatrix}\n",
    "    \\mid & & \\mid \\\\\n",
    "    \\mathbf{b}_1 & \\ldots & \\mathbf{b}_l \\\\\n",
    "    \\mid & & \\mid    \n",
    "    \\end{pmatrix} \\in \\mathbb{R}^{n \\times l}.\n",
    "$$\n",
    "Since $\\mathcal{B}$ spans $\\mathcal{S}$, $\\mathbf{a}_i = \\mathbf{B} \\mathbf{c}_i$ for some vector $\\mathbf{c}_i \\in \\mathbb{R}^l$ for $i=1,\\ldots,k$. Let\n",
    "$$\n",
    "    \\mathbf{C} = \\begin{pmatrix}\n",
    "    \\mid & & \\mid \\\\\n",
    "    \\mathbf{c}_1 & \\ldots & \\mathbf{c}_k \\\\\n",
    "    \\mid & & \\mid    \n",
    "    \\end{pmatrix} \\in \\mathbb{R}^{l \\times k}.\n",
    "$$\n",
    "Then $\\mathbf{A} = \\mathbf{B} \\mathbf{C}$. Since\n",
    "$$\n",
    "    \\mathcal{N}(\\mathbf{C}) \\subseteq \\mathcal{N}(\\mathbf{A}) = \\{\\mathbf{0}_n\\}.\n",
    "$$\n",
    "The only solution to $\\mathbf{C} \\mathbf{x} = \\mathbf{0}_l$ is $\\mathbf{0}_k$. In other words, the columns of $\\mathbf{C}$ are linearly independent. Thus, by the independence-dimension inequality, $\\mathbf{C}$ has at least as many rows as columns. That is $k \\le l$. Lastly we reverse the role of $\\mathbf{A}$ and $\\mathbf{B}$ to obtain $l \\le k$.\n",
    "    \n",
    "- The **dimension** of a vector space $\\mathcal{S}$, denoted by $\\text{dim}(\\mathcal{S})$, is defined as \n",
    "    1. the number of vectors in _any_ basis of $\\mathcal{S}$, **or** \n",
    "    2. the maximmal number of linearly independent vectors in $\\mathcal{S}$, **or**\n",
    "    3. the minimal number of vectors that span $\\mathcal{S}$. \n",
    "\n",
    "- **Monotonicity of dimension**. If $\\mathcal{S}_1 \\subseteq \\mathcal{S}_2 \\subseteq \\mathbb{R}^n$ are two vector spaces of same order, then $\\text{dim}(\\mathcal{S}_1) \\le \\text{dim}(\\mathcal{S}_2)$.\n",
    "\n",
    "    Proof: Any independent set of vectors in $\\mathcal{S}_1$ also live in $\\mathcal{S}_2$. Thus the maximal number of independent vectors in $\\mathcal{S}_2$ can only be larger or equal to the maximal number of indepedent vectors in $\\mathcal{S}_1$."
   ]
  }
 ],
 "metadata": {
  "@webio": {
   "lastCommId": null,
   "lastKernelId": null
  },
  "hide_input": false,
  "kernelspec": {
   "display_name": "Julia 1.6.0",
   "language": "julia",
   "name": "julia-1.6"
  },
  "language_info": {
   "file_extension": ".jl",
   "mimetype": "application/julia",
   "name": "julia",
   "version": "1.6.0"
  },
  "toc": {
   "colors": {
    "hover_highlight": "#DAA520",
    "running_highlight": "#FF0000",
    "selected_highlight": "#FFD700"
   },
   "moveMenuLeft": true,
   "nav_menu": {
    "height": "179.062px",
    "width": "252px"
   },
   "navigate_menu": true,
   "number_sections": true,
   "sideBar": true,
   "skip_h1_title": true,
   "threshold": 4,
   "toc_cell": true,
   "toc_section_display": "block",
   "toc_window_display": true,
   "widenNotebook": false
  },
  "toc-autonumbering": true
 },
 "nbformat": 4,
 "nbformat_minor": 2
}
