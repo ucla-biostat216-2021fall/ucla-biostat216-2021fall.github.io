{
 "cells": [
  {
   "cell_type": "markdown",
   "metadata": {},
   "source": [
    "# Rank and nullity (BR Chapter 5)\n",
    "\n",
    "**Highlights**: In this lecture we will show some most important results on the rank of a matrix:  \n",
    "1. column rank = row rank.  \n",
    "2. Matrix multiplication can only decrease the rank:  \n",
    "$\\text{rank}(\\mathbf{A} \\mathbf{B}) \\le \\text{rank}(\\mathbf{A})$  \n",
    "    $\\text{rank}(\\mathbf{A} \\mathbf{B}) \\le \\text{rank}(\\mathbf{B})$.  \n",
    "    Two special cases: (1) $\\text{rank}(\\mathbf{A} \\mathbf{B}) = \\text{rank}(\\mathbf{A})$ if $\\mathbf{B}$ has full row rank. (2) $\\text{rank}(\\mathbf{A}' \\mathbf{A}) = \\text{rank}(\\mathbf{A})$ for any $\\mathbf{A}$.  \n",
    "3. $\\text{rank}(\\mathbf{A} + \\mathbf{B}) \\le \\text{rank}(\\mathbf{B}) + \\text{rank}(\\mathbf{B})$.  \n",
    "4. Rank-nullity theorem: For any $\\mathbf{A} \\in \\mathbb{R}^{m \\times n}$, $\\text{rank}(\\mathbf{A}) + \\text{nullity}(\\mathbf{A}) = n$.  \n",
    "5. Fundamental theorem of ranks: $\\text{rank}(\\mathbf{A}) = \\text{rank}(\\mathbf{A}') = \\text{rank}(\\mathbf{A}'\\mathbf{A}) = \\text{rank}(\\mathbf{A}\\mathbf{A}')$.\n",
    "\n",
    "<img src=\"../02-vecsp/four_fundamental_subspaces.png\" width=400 align=\"center\"/>"
   ]
  },
  {
   "cell_type": "code",
   "execution_count": 9,
   "metadata": {},
   "outputs": [],
   "source": [
    "using LinearAlgebra, RDatasets, StatsModels"
   ]
  },
  {
   "cell_type": "code",
   "execution_count": 10,
   "metadata": {},
   "outputs": [
    {
     "data": {
      "text/html": [
       "<table class=\"data-frame\"><thead><tr><th></th><th>SepalLength</th><th>SepalWidth</th><th>PetalLength</th><th>PetalWidth</th><th>Species</th></tr><tr><th></th><th>Float64</th><th>Float64</th><th>Float64</th><th>Float64</th><th>Categorical…</th></tr></thead><tbody><p>150 rows × 5 columns</p><tr><th>1</th><td>5.1</td><td>3.5</td><td>1.4</td><td>0.2</td><td>setosa</td></tr><tr><th>2</th><td>4.9</td><td>3.0</td><td>1.4</td><td>0.2</td><td>setosa</td></tr><tr><th>3</th><td>4.7</td><td>3.2</td><td>1.3</td><td>0.2</td><td>setosa</td></tr><tr><th>4</th><td>4.6</td><td>3.1</td><td>1.5</td><td>0.2</td><td>setosa</td></tr><tr><th>5</th><td>5.0</td><td>3.6</td><td>1.4</td><td>0.2</td><td>setosa</td></tr><tr><th>6</th><td>5.4</td><td>3.9</td><td>1.7</td><td>0.4</td><td>setosa</td></tr><tr><th>7</th><td>4.6</td><td>3.4</td><td>1.4</td><td>0.3</td><td>setosa</td></tr><tr><th>8</th><td>5.0</td><td>3.4</td><td>1.5</td><td>0.2</td><td>setosa</td></tr><tr><th>9</th><td>4.4</td><td>2.9</td><td>1.4</td><td>0.2</td><td>setosa</td></tr><tr><th>10</th><td>4.9</td><td>3.1</td><td>1.5</td><td>0.1</td><td>setosa</td></tr><tr><th>11</th><td>5.4</td><td>3.7</td><td>1.5</td><td>0.2</td><td>setosa</td></tr><tr><th>12</th><td>4.8</td><td>3.4</td><td>1.6</td><td>0.2</td><td>setosa</td></tr><tr><th>13</th><td>4.8</td><td>3.0</td><td>1.4</td><td>0.1</td><td>setosa</td></tr><tr><th>14</th><td>4.3</td><td>3.0</td><td>1.1</td><td>0.1</td><td>setosa</td></tr><tr><th>15</th><td>5.8</td><td>4.0</td><td>1.2</td><td>0.2</td><td>setosa</td></tr><tr><th>16</th><td>5.7</td><td>4.4</td><td>1.5</td><td>0.4</td><td>setosa</td></tr><tr><th>17</th><td>5.4</td><td>3.9</td><td>1.3</td><td>0.4</td><td>setosa</td></tr><tr><th>18</th><td>5.1</td><td>3.5</td><td>1.4</td><td>0.3</td><td>setosa</td></tr><tr><th>19</th><td>5.7</td><td>3.8</td><td>1.7</td><td>0.3</td><td>setosa</td></tr><tr><th>20</th><td>5.1</td><td>3.8</td><td>1.5</td><td>0.3</td><td>setosa</td></tr><tr><th>21</th><td>5.4</td><td>3.4</td><td>1.7</td><td>0.2</td><td>setosa</td></tr><tr><th>22</th><td>5.1</td><td>3.7</td><td>1.5</td><td>0.4</td><td>setosa</td></tr><tr><th>23</th><td>4.6</td><td>3.6</td><td>1.0</td><td>0.2</td><td>setosa</td></tr><tr><th>24</th><td>5.1</td><td>3.3</td><td>1.7</td><td>0.5</td><td>setosa</td></tr><tr><th>25</th><td>4.8</td><td>3.4</td><td>1.9</td><td>0.2</td><td>setosa</td></tr><tr><th>26</th><td>5.0</td><td>3.0</td><td>1.6</td><td>0.2</td><td>setosa</td></tr><tr><th>27</th><td>5.0</td><td>3.4</td><td>1.6</td><td>0.4</td><td>setosa</td></tr><tr><th>28</th><td>5.2</td><td>3.5</td><td>1.5</td><td>0.2</td><td>setosa</td></tr><tr><th>29</th><td>5.2</td><td>3.4</td><td>1.4</td><td>0.2</td><td>setosa</td></tr><tr><th>30</th><td>4.7</td><td>3.2</td><td>1.6</td><td>0.2</td><td>setosa</td></tr><tr><th>&vellip;</th><td>&vellip;</td><td>&vellip;</td><td>&vellip;</td><td>&vellip;</td><td>&vellip;</td></tr></tbody></table>"
      ],
      "text/latex": [
       "\\begin{tabular}{r|ccccc}\n",
       "\t& SepalLength & SepalWidth & PetalLength & PetalWidth & Species\\\\\n",
       "\t\\hline\n",
       "\t& Float64 & Float64 & Float64 & Float64 & Categorical…\\\\\n",
       "\t\\hline\n",
       "\t1 & 5.1 & 3.5 & 1.4 & 0.2 & setosa \\\\\n",
       "\t2 & 4.9 & 3.0 & 1.4 & 0.2 & setosa \\\\\n",
       "\t3 & 4.7 & 3.2 & 1.3 & 0.2 & setosa \\\\\n",
       "\t4 & 4.6 & 3.1 & 1.5 & 0.2 & setosa \\\\\n",
       "\t5 & 5.0 & 3.6 & 1.4 & 0.2 & setosa \\\\\n",
       "\t6 & 5.4 & 3.9 & 1.7 & 0.4 & setosa \\\\\n",
       "\t7 & 4.6 & 3.4 & 1.4 & 0.3 & setosa \\\\\n",
       "\t8 & 5.0 & 3.4 & 1.5 & 0.2 & setosa \\\\\n",
       "\t9 & 4.4 & 2.9 & 1.4 & 0.2 & setosa \\\\\n",
       "\t10 & 4.9 & 3.1 & 1.5 & 0.1 & setosa \\\\\n",
       "\t11 & 5.4 & 3.7 & 1.5 & 0.2 & setosa \\\\\n",
       "\t12 & 4.8 & 3.4 & 1.6 & 0.2 & setosa \\\\\n",
       "\t13 & 4.8 & 3.0 & 1.4 & 0.1 & setosa \\\\\n",
       "\t14 & 4.3 & 3.0 & 1.1 & 0.1 & setosa \\\\\n",
       "\t15 & 5.8 & 4.0 & 1.2 & 0.2 & setosa \\\\\n",
       "\t16 & 5.7 & 4.4 & 1.5 & 0.4 & setosa \\\\\n",
       "\t17 & 5.4 & 3.9 & 1.3 & 0.4 & setosa \\\\\n",
       "\t18 & 5.1 & 3.5 & 1.4 & 0.3 & setosa \\\\\n",
       "\t19 & 5.7 & 3.8 & 1.7 & 0.3 & setosa \\\\\n",
       "\t20 & 5.1 & 3.8 & 1.5 & 0.3 & setosa \\\\\n",
       "\t21 & 5.4 & 3.4 & 1.7 & 0.2 & setosa \\\\\n",
       "\t22 & 5.1 & 3.7 & 1.5 & 0.4 & setosa \\\\\n",
       "\t23 & 4.6 & 3.6 & 1.0 & 0.2 & setosa \\\\\n",
       "\t24 & 5.1 & 3.3 & 1.7 & 0.5 & setosa \\\\\n",
       "\t25 & 4.8 & 3.4 & 1.9 & 0.2 & setosa \\\\\n",
       "\t26 & 5.0 & 3.0 & 1.6 & 0.2 & setosa \\\\\n",
       "\t27 & 5.0 & 3.4 & 1.6 & 0.4 & setosa \\\\\n",
       "\t28 & 5.2 & 3.5 & 1.5 & 0.2 & setosa \\\\\n",
       "\t29 & 5.2 & 3.4 & 1.4 & 0.2 & setosa \\\\\n",
       "\t30 & 4.7 & 3.2 & 1.6 & 0.2 & setosa \\\\\n",
       "\t$\\dots$ & $\\dots$ & $\\dots$ & $\\dots$ & $\\dots$ & $\\dots$ \\\\\n",
       "\\end{tabular}\n"
      ],
      "text/plain": [
       "150×5 DataFrame\n",
       "│ Row │ SepalLength │ SepalWidth │ PetalLength │ PetalWidth │ Species      │\n",
       "│     │ \u001b[90mFloat64\u001b[39m     │ \u001b[90mFloat64\u001b[39m    │ \u001b[90mFloat64\u001b[39m     │ \u001b[90mFloat64\u001b[39m    │ \u001b[90mCategorical…\u001b[39m │\n",
       "├─────┼─────────────┼────────────┼─────────────┼────────────┼──────────────┤\n",
       "│ 1   │ 5.1         │ 3.5        │ 1.4         │ 0.2        │ setosa       │\n",
       "│ 2   │ 4.9         │ 3.0        │ 1.4         │ 0.2        │ setosa       │\n",
       "│ 3   │ 4.7         │ 3.2        │ 1.3         │ 0.2        │ setosa       │\n",
       "│ 4   │ 4.6         │ 3.1        │ 1.5         │ 0.2        │ setosa       │\n",
       "│ 5   │ 5.0         │ 3.6        │ 1.4         │ 0.2        │ setosa       │\n",
       "│ 6   │ 5.4         │ 3.9        │ 1.7         │ 0.4        │ setosa       │\n",
       "│ 7   │ 4.6         │ 3.4        │ 1.4         │ 0.3        │ setosa       │\n",
       "│ 8   │ 5.0         │ 3.4        │ 1.5         │ 0.2        │ setosa       │\n",
       "│ 9   │ 4.4         │ 2.9        │ 1.4         │ 0.2        │ setosa       │\n",
       "│ 10  │ 4.9         │ 3.1        │ 1.5         │ 0.1        │ setosa       │\n",
       "⋮\n",
       "│ 140 │ 6.9         │ 3.1        │ 5.4         │ 2.1        │ virginica    │\n",
       "│ 141 │ 6.7         │ 3.1        │ 5.6         │ 2.4        │ virginica    │\n",
       "│ 142 │ 6.9         │ 3.1        │ 5.1         │ 2.3        │ virginica    │\n",
       "│ 143 │ 5.8         │ 2.7        │ 5.1         │ 1.9        │ virginica    │\n",
       "│ 144 │ 6.8         │ 3.2        │ 5.9         │ 2.3        │ virginica    │\n",
       "│ 145 │ 6.7         │ 3.3        │ 5.7         │ 2.5        │ virginica    │\n",
       "│ 146 │ 6.7         │ 3.0        │ 5.2         │ 2.3        │ virginica    │\n",
       "│ 147 │ 6.3         │ 2.5        │ 5.0         │ 1.9        │ virginica    │\n",
       "│ 148 │ 6.5         │ 3.0        │ 5.2         │ 2.0        │ virginica    │\n",
       "│ 149 │ 6.2         │ 3.4        │ 5.4         │ 2.3        │ virginica    │\n",
       "│ 150 │ 5.9         │ 3.0        │ 5.1         │ 1.8        │ virginica    │"
      ]
     },
     "execution_count": 10,
     "metadata": {},
     "output_type": "execute_result"
    }
   ],
   "source": [
    "# the famous Fisher's Iris data\n",
    "# <https://en.wikipedia.org/wiki/Iris_flower_data_set>\n",
    "iris = dataset(\"datasets\", \"iris\")"
   ]
  },
  {
   "cell_type": "code",
   "execution_count": 11,
   "metadata": {},
   "outputs": [
    {
     "data": {
      "text/plain": [
       "150×8 Array{Float64,2}:\n",
       " 1.0  5.1  3.5  1.4  0.2  1.0  0.0  0.0\n",
       " 1.0  4.9  3.0  1.4  0.2  1.0  0.0  0.0\n",
       " 1.0  4.7  3.2  1.3  0.2  1.0  0.0  0.0\n",
       " 1.0  4.6  3.1  1.5  0.2  1.0  0.0  0.0\n",
       " 1.0  5.0  3.6  1.4  0.2  1.0  0.0  0.0\n",
       " 1.0  5.4  3.9  1.7  0.4  1.0  0.0  0.0\n",
       " 1.0  4.6  3.4  1.4  0.3  1.0  0.0  0.0\n",
       " 1.0  5.0  3.4  1.5  0.2  1.0  0.0  0.0\n",
       " 1.0  4.4  2.9  1.4  0.2  1.0  0.0  0.0\n",
       " 1.0  4.9  3.1  1.5  0.1  1.0  0.0  0.0\n",
       " 1.0  5.4  3.7  1.5  0.2  1.0  0.0  0.0\n",
       " 1.0  4.8  3.4  1.6  0.2  1.0  0.0  0.0\n",
       " 1.0  4.8  3.0  1.4  0.1  1.0  0.0  0.0\n",
       " ⋮                        ⋮            \n",
       " 1.0  6.0  3.0  4.8  1.8  0.0  0.0  1.0\n",
       " 1.0  6.9  3.1  5.4  2.1  0.0  0.0  1.0\n",
       " 1.0  6.7  3.1  5.6  2.4  0.0  0.0  1.0\n",
       " 1.0  6.9  3.1  5.1  2.3  0.0  0.0  1.0\n",
       " 1.0  5.8  2.7  5.1  1.9  0.0  0.0  1.0\n",
       " 1.0  6.8  3.2  5.9  2.3  0.0  0.0  1.0\n",
       " 1.0  6.7  3.3  5.7  2.5  0.0  0.0  1.0\n",
       " 1.0  6.7  3.0  5.2  2.3  0.0  0.0  1.0\n",
       " 1.0  6.3  2.5  5.0  1.9  0.0  0.0  1.0\n",
       " 1.0  6.5  3.0  5.2  2.0  0.0  0.0  1.0\n",
       " 1.0  6.2  3.4  5.4  2.3  0.0  0.0  1.0\n",
       " 1.0  5.9  3.0  5.1  1.8  0.0  0.0  1.0"
      ]
     },
     "execution_count": 11,
     "metadata": {},
     "output_type": "execute_result"
    }
   ],
   "source": [
    "# use full dummy coding (one-hot coding) for categorical variable Species\n",
    "X = ModelMatrix(ModelFrame(\n",
    "    @formula(1 ~ 1 + SepalLength + SepalWidth + PetalLength + PetalWidth + Species), \n",
    "    iris,\n",
    "    contrasts = Dict(:Species => StatsModels.FullDummyCoding()))).m"
   ]
  },
  {
   "cell_type": "code",
   "execution_count": 12,
   "metadata": {},
   "outputs": [
    {
     "name": "stdout",
     "output_type": "stream",
     "text": [
      "size(X) = (150, 8)\n",
      "rank(X) = 7\n",
      "rank(X') = 7\n",
      "rank(X' * X) = 7\n",
      "rank(X * X') = 7\n"
     ]
    }
   ],
   "source": [
    "@show size(X)\n",
    "@show rank(X)\n",
    "@show rank(X')\n",
    "@show rank(X' * X)\n",
    "@show rank(X * X');"
   ]
  },
  {
   "cell_type": "code",
   "execution_count": 13,
   "metadata": {},
   "outputs": [
    {
     "data": {
      "text/plain": [
       "8×1 Array{Float64,2}:\n",
       " -0.5                   \n",
       " -8.326672684688674e-17 \n",
       " -1.9081958235744878e-16\n",
       "  1.1796119636642288e-16\n",
       "  2.1510571102112408e-16\n",
       "  0.5000000000000002    \n",
       "  0.4999999999999998    \n",
       "  0.49999999999999956   "
      ]
     },
     "execution_count": 13,
     "metadata": {},
     "output_type": "execute_result"
    }
   ],
   "source": [
    "# only one basis vector in N(X)\n",
    "nullspace(X)"
   ]
  },
  {
   "cell_type": "markdown",
   "metadata": {},
   "source": [
    "## Rank\n",
    "\n",
    "Let $\\mathbf{A}$ be an $m \\times n$ matrix\n",
    "\\begin{eqnarray*}\n",
    "    \\mathbf{A} = \\begin{pmatrix}\n",
    "    \\mid & & \\mid \\\\\n",
    "    \\mathbf{a}_1 & \\ldots & \\mathbf{a}_n \\\\\n",
    "    \\mid & & \\mid    \n",
    "    \\end{pmatrix}.\n",
    "\\end{eqnarray*}\n",
    "\n",
    "- The **column rank** of $\\mathbf{A}$ is the maximum number of linearly independent columns of $\\mathbf{A}$. \n",
    "\n",
    "    In other words, column rank of $\\mathbf{A}$ is $\\text{dim}(\\mathcal{C}(\\mathbf{A}))$.\n",
    "\n",
    "- The **row rank** of $\\mathbf{A}$ is the maximum number of linearly independent rows of $\\mathbf{A}$.  \n",
    "\n",
    "    In other words, row rank of $\\mathbf{A}$ is $\\text{dim}(\\mathcal{R}(\\mathbf{A})) = \\text{dim}(\\mathcal{C}(\\mathbf{A}'))$.\n",
    "\n",
    "- BR Theorem 4.17. For any $m \\times n$ matrix $\\mathbf{A}$, its column rank is equal to the row rank, which we shall call the **rank** of $\\mathbf{A}$.\n",
    "\n",
    "    Our text book BR uses notation $\\rho(\\mathbf{A})$ to denote the rank of a matrix $\\mathbf{A}$. \n",
    "\n",
    "    Proof: Let $r$ be the row rank of $\\mathbf{A}$ and $c$ be the column rank of $\\mathbf{A}$. We show $r=c$ by showing $c \\le r$ and $c \\ge r$.  \n",
    "    Since $\\mathbf{A}$ has row rank $r$, we can permute the rows of $\\mathbf{A}$ to be  \n",
    "$$\n",
    "    \\begin{pmatrix} \\mathbf{A}_1 \\\\ \\mathbf{A}_2 \\end{pmatrix} = \\begin{pmatrix} \\mathbf{A}_1 \\\\ \\mathbf{B} \\mathbf{A}_1 \\end{pmatrix},\n",
    "$$\n",
    "    where $\\mathbf{A}_1 \\in \\mathbb{R}^{r \\times n}$ has $r$ independent rows and $\\mathbf{A}_2 = \\mathbf{B} \\mathbf{A}_1 \\in \\mathbb{R}^{(m-r) \\times n}$ for some matrix $\\mathbf{B}$. Note row permutation does not change the row rank or column rank. Then\n",
    "\\begin{eqnarray*}\n",
    "    & & \\begin{pmatrix} \\mathbf{A}_1 \\\\ \\mathbf{B} \\mathbf{A}_1 \\end{pmatrix} \\mathbf{x} = \\mathbf{0}_m \\\\\n",
    "    &\\Leftrightarrow& \\begin{pmatrix} \\mathbf{A}_1 \\mathbf{x} \\\\ \\mathbf{B} \\mathbf{A}_1 \\mathbf{x} \\end{pmatrix} = \\mathbf{0}_m \\\\\n",
    "    &\\Leftrightarrow& \\mathbf{A}_1 \\mathbf{x} = \\mathbf{0}_r.\n",
    "\\end{eqnarray*}\n",
    "This says that take any set of linearly independent columns in $\\mathbf{A}$, the corresponding columns in $\\mathbf{A}_1$ are linearly independent as well. Therefore the column rank $c$ of $\\mathbf{A}$ is less than or equal to the maximum number of linearly independent columns of $\\mathbf{A}_1$, which is less than or equal to $r$ by the independence-dimensionality inequality. This way we have shown $c \\le r$.  \n",
    "    To show the other direction $c \\ge r$, we apply above result to the transpose $\\mathbf{A}'$.\n",
    "    \n",
    "- For any $\\mathbf{A} \\in \\mathbb{R}^{m \\times n}$, $\\text{rank}(\\mathbf{A}) \\le \\min \\{m, n\\}$."
   ]
  },
  {
   "cell_type": "code",
   "execution_count": 14,
   "metadata": {},
   "outputs": [
    {
     "name": "stdout",
     "output_type": "stream",
     "text": [
      "size(X) = (150, 8)\n",
      "rank(X) = 7\n"
     ]
    },
    {
     "data": {
      "text/plain": [
       "7"
      ]
     },
     "execution_count": 14,
     "metadata": {},
     "output_type": "execute_result"
    }
   ],
   "source": [
    "@show size(X)\n",
    "@show rank(X)"
   ]
  },
  {
   "cell_type": "markdown",
   "metadata": {},
   "source": [
    "- For $\\mathbf{A} \\in \\mathbb{R}^{m \\times n}$, we say $\\mathbf{A}$ is **full rank** if $\\text{rank}(\\mathbf{A}) = \\min \\{m, n\\}$. \n",
    "\n",
    "    It is **full row rank** if $\\text{rank}(\\mathbf{A}) = m$. \n",
    "    \n",
    "    It is **full column rank** if $\\text{rank}(\\mathbf{A}) = n$.\n",
    "\n",
    "- A square matrix $\\mathbf{A} \\in \\mathbb{R}^{n \\times n}$ is **singular** if $\\text{rank}(\\mathbf{A}) < n$ and **non-singular** or **invertible** if $\\text{rank}(\\mathbf{A}) = n$.\n",
    "\n",
    "- Example: The identity matrix\n",
    "$$\n",
    "    \\mathbf{I} = \\begin{pmatrix}\n",
    "    1 & \\cdots & 0 \\\\\n",
    "    \\vdots & \\ddots & \\vdots \\\\\n",
    "    0 & \\cdots & 1\n",
    "    \\end{pmatrix}\n",
    "$$\n",
    "is full rank. "
   ]
  },
  {
   "cell_type": "markdown",
   "metadata": {},
   "source": [
    "## Effects of matrix multiplication on rank\n",
    "\n",
    "- BR Lemma 5.1. $\\text{rank}(\\mathbf{A}\\mathbf{B}) \\le \\min \\{\\text{rank}(\\mathbf{A}), \\text{rank}(\\mathbf{B})\\}$. In words, **matrix multiplication can only decrease the rank**.\n",
    "\n",
    "    Proof: Because $\\mathcal{C}(\\mathbf{A}\\mathbf{B}) \\subseteq \\mathcal{C}(\\mathbf{A})$ (why?), we have $\\text{rank}(\\mathbf{A}\\mathbf{B}) \\le \\text{rank}(\\mathbf{A})$ by monotonicity of dimension. Similary, because the row space of $\\mathbf{A}\\mathbf{B}$ is a subset of the row space of  $\\mathbf{A}$, we have $\\text{rank}(\\mathbf{A}\\mathbf{B}) \\le \\text{rank}(\\mathbf{B})$.\n",
    "    \n",
    "- Indeed, the loss in rank due to multiplication can be quantified as\n",
    "$$\n",
    "    \\text{rank}(\\mathbf{A} \\mathbf{B}) = \\text{rank}(\\mathbf{B}) - \\text{dim}(\\mathcal{N}(\\mathbf{A}) \\cap \\mathcal{C}(\\mathbf{B})).\n",
    "$$\n",
    "See BR Theorem 5.4 (p136) for proof.\n",
    "\n",
    "- BR Lemma 5.3. $\\text{rank}(\\mathbf{A}\\mathbf{B}) = \\text{rank}(\\mathbf{A})$ if $\\mathbf{B}$ is square and of full rank. More general, **left-multiplying by a matrix with full column rank or right-multiplying by a matrix of full row rank does not change rank**.\n",
    "\n",
    "    Proof: We show the more general statement. Assume $\\mathbf{B} \\in \\mathbb{R}^{m \\times n}$ has full row rank, we want to show $\\text{rank}(\\mathbf{A}) = \\text{rank}(\\mathbf{A}\\mathbf{B})$. Since $\\mathbf{B} \\in \\mathbb{R}^{m \\times n}$ has full row rank, there exists a permutation matrix $\\mathbf{P} \\in \\{0,1\\}^{n \\times n}$ such that\n",
    "$$\n",
    "    \\mathbf{B} \\mathbf{P} = \\begin{pmatrix} \\mathbf{B}_1 : \\mathbf{B}_2 \\end{pmatrix},\n",
    "$$\n",
    "where $\\mathbf{B}_1 \\in \\mathbb{R}^{m \\times m}$ is non-singular and $\\mathbf{B} \\in \\mathbb{R}^{m \\times (n-m)}$. Then\n",
    "$$\n",
    "    \\text{rank}(\\mathbf{A}) \\ge \\text{rank}(\\mathbf{A}\\mathbf{B}) = \\text{rank}(\\mathbf{A} \\begin{pmatrix} \\mathbf{B}_1 : \\mathbf{B}_2 \\end{pmatrix} \\mathbf{P}') \\ge \\text{rank} \\left( \\mathbf{A} \\begin{pmatrix} \\mathbf{B}_1 : \\mathbf{B}_2 \\end{pmatrix} \\mathbf{P}' \\mathbf{P} \\begin{pmatrix} \\mathbf{B}_1^{-1} \\\\ \\mathbf{O} \\end{pmatrix} \\right) = \\text{rank} (\\mathbf{A} \\mathbf{I}_n) = \\text{rank} (\\mathbf{A}).\n",
    "$$\n",
    "Thus $\\text{rank}(\\mathbf{A}) = \\text{rank} (\\mathbf{A} \\mathbf{B})$. Proof for the other half of the statement follows the same argument.\n",
    "    \n",
    "- Example: 2019 qual. exam Q1.     "
   ]
  },
  {
   "cell_type": "markdown",
   "metadata": {},
   "source": [
    "## Nullity\n",
    "\n",
    "- The nullity of a matrix $\\mathbf{A}$ is the dimension of its null space \n",
    "$$\n",
    "\\text{nullity}(\\mathbf{A}) = \\text{dim}(\\mathcal{N}(\\mathbf{A})).\n",
    "$$\n",
    "\n",
    "- If $\\mathcal{N}(\\mathbf{A}) \\subseteq \\mathcal{N}(\\mathbf{B})$, then $\\text{rank}(\\mathbf{A}) \\ge \\text{rank}(\\mathbf{B})$.\n",
    "\n",
    "    Proof: If $\\mathbf{A} \\mathbf{x} = \\mathbf{0}$, then $\\mathbf{B} \\mathbf{x} = \\mathbf{0}$. Then for any set of linearly independent columns in $\\mathbf{B}$, the corresponding columns in $\\mathbf{A}$ are linearly independent as well. Thus the maximum number of linearly independent columns in $\\mathbf{A}$ is at least as many as that of $\\mathbf{B}$.\n",
    "    \n",
    "- BR Lemma 5.1. $\\text{nullity}(\\mathbf{A}) \\le \\text{nullity}(\\mathbf{B} \\mathbf{A})$. **(Left) matrix multiplication can only inreases the nullity.**\n",
    "\n",
    "    Proof: Since $\\mathcal{N}(\\mathbf{A}) \\subseteq \\mathcal{N}(\\mathbf{B} \\mathbf{A})$ (why?), we have $\\text{nullity}(\\mathbf{A}) \\le \\text{nullity}(\\mathbf{B} \\mathbf{A})$. "
   ]
  },
  {
   "cell_type": "markdown",
   "metadata": {},
   "source": [
    "## Rank-nullity theorem\n",
    "\n",
    "- BR Theorem 5.1. Let $\\mathbf{A} \\in \\mathbb{R}^{m \\times n}$, then\n",
    "$$\n",
    "    \\text{rank}(\\mathbf{A}) + \\text{nullity}(\\mathbf{A}) = n.\n",
    "$$\n",
    "\n",
    "    Proof: Denote $\\nu = \\text{nullity}(\\mathbf{A}) = \\text{dim}(\\mathcal{N}(\\mathbf{A}))$. Let $\\mathbf{X} \\in \\mathbb{R}^{n \\times n}$ be\n",
    "$$\n",
    "    \\mathbf{X} = \\begin{pmatrix} \\mathbf{X}_1 : \\mathbf{X}_2 \\end{pmatrix},\n",
    "$$\n",
    "where columns of $\\mathbf{X}_1 \\in \\mathbb{R}^{n \\times \\nu}$ form a basis of $\\mathcal{N}(\\mathbf{A})$ and columns of $\\mathbf{X}_2 \\in \\mathbb{R}^{n \\times (n - \\nu)}$ extend those in $\\mathbf{X}_1$ to be a basis of $\\mathbb{R}^n$. We show columns of $\\mathbf{A} \\mathbf{X}_2$ form a basis of $\\mathcal{C}(\\mathbf{A})$. Thus $\\text{rank}(\\mathbf{A}) = \\text{dim}(\\mathcal{C}(\\mathbf{A})) = n - \\nu$.  \n",
    "    (1) To show that columns of $\\mathbf{A} \\mathbf{X}_2$ are linearly independent. Assume $\\mathbf{A} \\mathbf{X}_2 \\mathbf{v} = \\mathbf{0}$. Then $\\mathbf{X}_2 \\mathbf{v} \\in \\mathcal{N}(\\mathbf{A}) = \\mathcal{C}(\\mathbf{X}_1)$. Thus $\\mathbf{X}_2 \\mathbf{v} = \\mathbf{X}_1 \\mathbf{u}$ for some $\\mathbf{u}$, or equivalently,\n",
    "$$\n",
    "    \\begin{pmatrix} \\mathbf{X}_1 : \\mathbf{X}_2 \\end{pmatrix} \\begin{pmatrix} -\\mathbf{u} \\\\ \\mathbf{v} \\end{pmatrix} = \\mathbf{0}_n.\n",
    "$$\n",
    "Since the matrix $\\begin{pmatrix} \\mathbf{X}_1 : \\mathbf{X}_2 \\end{pmatrix}$ is non-singular, we must have $\\mathbf{u}=\\mathbf{0}$ and $\\mathbf{v}=\\mathbf{0}$. This shows that $\\mathbf{v}=\\mathbf{0}$ whenever $\\mathbf{A} \\mathbf{X}_2 \\mathbf{v} = \\mathbf{0}$. So the columns of $\\mathbf{A} \\mathbf{X}_2$ is linearly independent.  \n",
    "    (2) Next we show the columns of $\\mathbf{A} \\mathbf{X}_2$ span $\\mathcal{C}(\\mathbf{A})$ by showing $\\mathcal{C}(\\mathbf{A} \\mathbf{X}_2) \\subseteq \\mathcal{C}(\\mathbf{A})$ and $\\mathcal{C}(\\mathbf{A} \\mathbf{X}_2) \\supseteq \\mathcal{C}(\\mathbf{A})$. One direction $\\mathcal{C}(\\mathbf{A} \\mathbf{X}_2) \\subseteq \\mathcal{C}(\\mathbf{A})$ is easy. To show the other direction $\\mathcal{C}(\\mathbf{A}) \\subseteq \\mathcal{C}(\\mathbf{A} \\mathbf{X}_2)$, let $\\mathbf{w} \\in \\mathcal{C}(\\mathbf{A})$. Then $\\mathbf{w} = \\mathbf{A} \\mathbf{y}$ for some vector $\\mathbf{y}$. Because $\\mathbf{y} \\in \\mathbb{R}^n$, which is spanned by columns of $\\mathbf{X}$, we can write $\\mathbf{y} = \\mathbf{X}_1 \\mathbf{z}_1 + \\mathbf{X}_2 \\mathbf{z}_2$ for some vectors $\\mathbf{z}_1$ and $\\mathbf{z}_2$. Thus $\\mathbf{w} = \\mathbf{A} \\mathbf{X}_1 \\mathbf{z}_1 + \\mathbf{A} \\mathbf{X}_2 \\mathbf{z}_2 = \\mathbf{A} \\mathbf{X}_2 \\mathbf{z}_2 \\in \\mathcal{C}(\\mathbf{A} \\mathbf{X}_2)$. This proves $\\mathcal{C}(\\mathbf{A}) \\subseteq \\mathcal{C}(\\mathbf{A} \\mathbf{X}_2)$."
   ]
  },
  {
   "cell_type": "markdown",
   "metadata": {},
   "source": [
    "## Fundamental theorem of ranks\n",
    "\n",
    "- BR Theorem 5.2. $\\text{rank}(\\mathbf{A}) = \\text{rank}(\\mathbf{A}') = \\text{rank}(\\mathbf{A}'\\mathbf{A}) = \\text{rank}(\\mathbf{A}\\mathbf{A}')$.\n",
    "\n",
    "    Proof: $\\text{rank}(\\mathbf{A}) = \\text{rank}(\\mathbf{A}')$ by definition of rank (row rank = column rank = rank). Early on we showed $\\mathcal{N}(\\mathbf{A}'\\mathbf{A}) = \\mathcal{N}(\\mathbf{A})$. Thus $\\text{nullity}(\\mathbf{A}) = \\text{nullity}(\\mathbf{A}'\\mathbf{A})$. Then by the rank-nullity theorem, $\\text{rank}(\\mathbf{A}'\\mathbf{A}) = \\text{rank}(\\mathbf{A})$.\n",
    "    \n",
    "- Matrices of form $\\mathbf{A}'\\mathbf{A}$ or $\\mathbf{A}\\mathbf{A}'$ are called the **Gram matrix** or **Gramian matrix**."
   ]
  },
  {
   "cell_type": "markdown",
   "metadata": {},
   "source": [
    "## Rank factorization\n",
    "\n",
    "- Let $\\mathbf{A} \\in \\mathbb{R}^{m \\times n}$ with rank $r \\ge 1$. The product $\\mathbf{A} = \\mathbf{C} \\mathbf{R}$, where $\\mathbf{C} \\in \\mathbb{R}^{m \\times r}$ and $\\mathbf{R} \\in \\mathbb{R}^{r \\times n}$ is called a **rank decomposition** or **rank factorization** of $\\mathbf{A}$.\n",
    "\n",
    "- Visualize: TODO.\n",
    "\n",
    "- **Existence of rank factorization.** Any non-null matrix has a rank decomposition. To construct one, let columns of\n",
    "\\begin{eqnarray*}\n",
    "    \\mathbf{C} = \\begin{pmatrix}\n",
    "    \\mid & & \\mid \\\\\n",
    "    \\mathbf{c}_1 & \\cdots & \\mathbf{c}_r \\\\\n",
    "    \\mid & & \\mid\n",
    "    \\end{pmatrix}\n",
    "\\end{eqnarray*}\n",
    "be a basis of $\\mathcal{C}(\\mathbf{A})$. Then $\\mathcal{C}(\\mathbf{A}) \\subseteq \\mathcal{C}(\\mathbf{C})$. Thus there exists $\\mathbf{R}$ such that $\\mathbf{A} = \\mathbf{C} \\mathbf{R}$.\n",
    "\n",
    "- Is rank factorization unique? $\\mathbf{A} = \\mathbf{C} \\mathbf{R} = (\\mathbf{C} \\mathbf{M}) (\\mathbf{M}^{-1} \\mathbf{R})$ for any non-singular matrix $\\mathbf{M}^{r \\times r}$. \n",
    "\n",
    "- (Skip) Given a rank factorization $\\mathbf{A} = \\mathbf{C} \\mathbf{R}$,\n",
    "$$\n",
    "    \\text{rank}(\\mathbf{A}') = \\text{rank}(\\mathbf{R}' \\mathbf{C}') \\le \\text{rank}(\\mathbf{R}') \\le r = \\text{rank}(\\mathbf{A}).\n",
    "$$\n",
    "Now apply the same argument to rank factorization $\\mathbf{A}' = \\mathbf{R}' \\mathbf{C}'$, we get the other direction\n",
    "$$\n",
    "    \\text{rank}(\\mathbf{A}) \\le \\text{rank}(\\mathbf{A}').\n",
    "$$\n",
    "Thus we have an alternative proof of the result $\\text{rank}(\\mathbf{A}) = \\text{rank}(\\mathbf{A}')$.\n",
    "\n",
    "- If $\\mathbf{A} \\in \\mathbb{R}^{m \\times n}$ with rank $r$ can be factorized as $\\mathbf{A} = \\mathbf{U} \\mathbf{V}$, where $\\mathbf{U} \\in \\mathbb{R}^{m \\times k}$ and $\\mathbf{V} \\in \\mathbb{R}^{k \\times n}$, then $k \\ge r$. \n",
    "\n",
    "    Proof: Since $\\mathcal{C}(\\mathbf{A}) = \\mathcal{C}(\\mathbf{U}\\mathbf{V}) \\subseteq \\mathcal{C}(\\mathbf{U})$, $r = \\text{rank}(\\mathbf{A}) \\le \\text{rank}(\\mathbf{U}) \\le k$.  \n",
    "    \n",
    "- Let $\\text{rank}(\\mathbf{A}) = r$ and $\\mathbf{A} = \\mathbf{C} \\mathbf{R}$ be a rank factorization. Then  \n",
    "    1. $\\text{rank}(\\mathbf{C}) = \\text{rank}(\\mathbf{R}) = r$,\n",
    "    2. $\\mathcal{C}(\\mathbf{A}) = \\mathcal{C}(\\mathbf{C})$, $\\mathcal{C}(\\mathbf{A}') = \\mathcal{C}(\\mathbf{R}')$ and $\\mathcal{N}(\\mathbf{A}) = \\mathcal{N}(\\mathbf{R})$.\n",
    "    \n",
    "    Proof of 1: $r = \\text{rank}(\\mathbf{A}) = \\text{rank}(\\mathbf{C}\\mathbf{R}) \\le \\text{rank}(\\mathbf{C}) \\le r$. Thus $\\text{rank}(\\mathbf{C}) = r$. Similarly $\\text{rank}(\\mathbf{R}) = r$.  \n",
    "    Proof of 2: $\\mathcal{C}(\\mathbf{A}) \\subseteq \\mathcal{C}(\\mathbf{C})$ is trivial. Suppose $\\mathcal{C}(\\mathbf{C})$ is strictly larger than $\\mathcal{C}(\\mathbf{A})$. Then there exists vector $\\mathbf{v} \\in \\mathcal{C}(\\mathbf{C})$ that is not a linear combination of columns of $\\mathbf{A}$. Let $\\mathbf{u}_1, \\ldots, \\mathbf{u}_r$ be a basis of $\\mathcal{C}(\\mathbf{A})$. Then the $r+1$ vectors $\\mathbf{u}_1, \\ldots, \\mathbf{u}_r, \\mathbf{v}$ is an independent set in $\\mathcal{C}(\\mathbf{C})$, contadicting the fact $\\text{rank}(\\mathbf{C}) = r$. Therefore we must have $\\mathcal{C}(\\mathbf{A}) = \\mathcal{C}(\\mathbf{C})$. Similar argument shows $\\mathcal{C}(\\mathbf{A}') = \\mathcal{C}(\\mathbf{R}')$.  \n",
    "    To show $\\mathcal{N}(\\mathbf{A}) = \\mathcal{N}(\\mathbf{R})$, one direction $\\mathcal{N}(\\mathbf{A}) \\supseteq \\mathcal{N}(\\mathbf{R})$ is trivial (why?). To show the other direction,\n",
    "\\begin{eqnarray*}\n",
    "    & & \\mathbf{x} \\in \\mathcal{N}(\\mathbf{A}) \\\\\n",
    "    &\\Rightarrow& \\mathbf{A} \\mathbf{x} = \\mathbf{0} \\\\\n",
    "    &\\Rightarrow& \\mathbf{C} \\mathbf{R} \\mathbf{x} = \\mathbf{0} \\\\\n",
    "    &\\Rightarrow& \\mathbf{R} \\mathbf{x} \\in \\mathcal{N}(\\mathbf{C}).\n",
    "\\end{eqnarray*}\n",
    "But by the rank-nullity theorem, $\\text{nullity}(\\mathbf{C}) = r - \\text{rank}(\\mathbf{C}) = 0$. Thus $\\mathbf{R} \\mathbf{x} = \\mathbf{0}$, that is $\\mathbf{x} \\in \\mathcal{N}(\\mathbf{R})$. We have shown $\\mathcal{N}(\\mathbf{A}) \\subseteq \\mathcal{N}(\\mathbf{R})$."
   ]
  },
  {
   "cell_type": "markdown",
   "metadata": {},
   "source": [
    "## Rank of a partitioned matrix\n",
    "\n",
    "- BR Theorem 5.11. \n",
    "$$\n",
    "    \\text{rank} \\begin{pmatrix}\n",
    "    \\mathbf{A}_{11} & \\mathbf{0} \\\\\n",
    "    \\mathbf{0} & \\mathbf{A}_{22}\n",
    "    \\end{pmatrix} = \\text{rank}(\\mathbf{A}_{11}) + \\text{rank}(\\mathbf{A}_{22}).\n",
    "$$\n",
    "\n",
    "    Proof: It is easy to see for any independent columns in $\\begin{pmatrix}\n",
    "    \\mathbf{A}_{11} & \\mathbf{0} \\\\\n",
    "    \\mathbf{0} & \\mathbf{A}_{22}\n",
    "    \\end{pmatrix}$, the corresponding columns in first $n_1$ and second $n_2$ positions are independent as well. \n",
    "    \n",
    "- BR Theorem 5.12. Let\n",
    "$$\n",
    "    \\mathbf{A} = \\begin{pmatrix}\n",
    "    \\mathbf{A}_{11} & \\mathbf{A}_{12} \\\\\n",
    "    \\mathbf{A}_{21} & \\mathbf{A}_{22}\n",
    "    \\end{pmatrix}\n",
    "$$\n",
    "be a $2 \\times 2$ partitioned matrix.  \n",
    "    1. If $\\mathbf{A}_{11}$ is non-singular, then\n",
    "$$\n",
    "    \\text{rank}(\\mathbf{A}) = \\text{rank}(\\mathbf{A}_{11}) + \\text{rank}(\\mathbf{A}_{22} - \\mathbf{A}_{21} \\mathbf{A}_{11}^{-1} \\mathbf{A}_{12}).\n",
    "$$\n",
    "    2. If $\\mathbf{A}_{22}$ is non-singular, then\n",
    "$$\n",
    "    \\text{rank}(\\mathbf{A}) = \\text{rank}(\\mathbf{A}_{22}) + \\text{rank}(\\mathbf{A}_{11} - \\mathbf{A}_{12} \\mathbf{A}_{22}^{-1} \\mathbf{A}_{21}).\n",
    "$$    \n",
    "\n",
    "    Proof: The key is the identity\n",
    "$$\n",
    "    \\begin{pmatrix}\n",
    "    \\mathbf{A}_{11} & \\mathbf{A}_{12} \\\\\n",
    "    \\mathbf{A}_{21} & \\mathbf{A}_{22}\n",
    "    \\end{pmatrix} = \\begin{pmatrix}\n",
    "    \\mathbf{I}_{n_1} & \\mathbf{0} \\\\\n",
    "    \\mathbf{A}_{21} \\mathbf{A}_{11}^{-1} & \\mathbf{I}_{n_2}\n",
    "    \\end{pmatrix} \\begin{pmatrix}\n",
    "    \\mathbf{A}_{11} & \\mathbf{0} \\\\\n",
    "    \\mathbf{0} & \\mathbf{A}_{22} - \\mathbf{A}_{21} \\mathbf{A}_{11}^{-1} \\mathbf{A}_{12}\n",
    "    \\end{pmatrix} \\begin{pmatrix}\n",
    "    \\mathbf{I}_{n_1} & \\mathbf{A}_{11}^{-1} \\mathbf{A}_{12} \\\\\n",
    "    \\mathbf{0} & \\mathbf{I}_{n_2}\n",
    "    \\end{pmatrix},\n",
    "$$\n",
    "which is direclty verified by multiplying the matrices on the right hand side. Since pre- and post-multiplying by a nonsingular matrix does not change rank, we have\n",
    "$$\n",
    "    \\text{rank}(\\mathbf{A}) = \\text{rank} \\begin{pmatrix}\n",
    "    \\mathbf{A}_{11} & \\mathbf{0} \\\\\n",
    "    \\mathbf{0} & \\mathbf{A}_{22} - \\mathbf{A}_{21} \\mathbf{A}_{11}^{-1} \\mathbf{A}_{12}\n",
    "    \\end{pmatrix} = \\text{rank}(\\mathbf{A}_{11}) + \\text{rank}(\\mathbf{A}_{22} - \\mathbf{A}_{21} \\mathbf{A}_{11}^{-1} \\mathbf{A}_{12}).\n",
    "$$\n",
    "The second part is proved in a similar way."
   ]
  }
 ],
 "metadata": {
  "kernelspec": {
   "display_name": "Julia 1.2.0",
   "language": "julia",
   "name": "julia-1.2"
  },
  "language_info": {
   "file_extension": ".jl",
   "mimetype": "application/julia",
   "name": "julia",
   "version": "1.2.0"
  },
  "toc-autonumbering": true
 },
 "nbformat": 4,
 "nbformat_minor": 2
}
