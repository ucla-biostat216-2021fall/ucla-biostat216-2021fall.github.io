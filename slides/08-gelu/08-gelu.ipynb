{
 "cells": [
  {
   "cell_type": "markdown",
   "metadata": {},
   "source": [
    "# Gaussian Elimination and LU Decomposition (BR Chapters 2 and 3)\n",
    "\n",
    "In this lecture, we (1) review the Gaussian elimination (GE) for solving linear equations  $\\mathbf{A} \\mathbf{x} = \\mathbf{b}$, and then (2) show that GE leads to a useful decomposition \n",
    "$$\n",
    "\\mathbf{A} = \\mathbf{L} \\mathbf{U}.\n",
    "$$"
   ]
  },
  {
   "cell_type": "markdown",
   "metadata": {},
   "source": [
    "## Gaussian elimination (GE)\n",
    "\n",
    "Let's review (from any undergraduate linear algebra textbook) how to solve a linear system\n",
    "$$\n",
    "\\begin{pmatrix}\n",
    "2 & 1 & -1 \\\\\n",
    "-3 & -1 & 2 \\\\\n",
    "-2 & 1 & 2\n",
    "\\end{pmatrix} \\begin{pmatrix} x_1 \\\\ x_2 \\\\ x_3 \\end{pmatrix} = \n",
    "\\begin{pmatrix}\n",
    "8 \\\\ -11 \\\\ -3\n",
    "\\end{pmatrix}.\n",
    "$$"
   ]
  },
  {
   "cell_type": "markdown",
   "metadata": {},
   "source": [
    "**Stage 1**: Let's eliminate variable $x_1$ from equations (2) and (3).\n",
    "\n",
    "Multiplying equation (1) by $\\ell_{21} = 3/2$ and adds to equation (2) leads to\n",
    "$$\n",
    "\\begin{pmatrix}\n",
    "2 & 1 & -1 \\\\\n",
    "0 & 1/2 & 1/2 \\\\\n",
    "-2 & 1 & 2\n",
    "\\end{pmatrix} \\begin{pmatrix} x_1 \\\\ x_2 \\\\ x_3 \\end{pmatrix} = \n",
    "\\begin{pmatrix}\n",
    "8 \\\\ 1 \\\\ -3\n",
    "\\end{pmatrix}.\n",
    "$$\n",
    "\n",
    "Multiplying equation (1) by $\\ell_{31} = 1$ and adds to equation (3) leads to\n",
    "$$\n",
    "\\begin{pmatrix}\n",
    "2 & 1 & -1 \\\\\n",
    "0 & 1/2 & 1/2 \\\\\n",
    "0 & 2 & 1\n",
    "\\end{pmatrix} \\begin{pmatrix} x_1 \\\\ x_2 \\\\ x_3 \\end{pmatrix} = \n",
    "\\begin{pmatrix}\n",
    "8 \\\\ 1 \\\\ 5\n",
    "\\end{pmatrix}.\n",
    "$$"
   ]
  },
  {
   "cell_type": "markdown",
   "metadata": {},
   "source": [
    "**Stage 2**: Let's eliminate variable $x_2$ from equation (3).\n",
    "\n",
    "Multiplying equation (2) by $\\ell_{32} = -4$ and adds to equation (3) leads to\n",
    "$$\n",
    "\\begin{pmatrix}\n",
    "2 & 1 & -1 \\\\\n",
    "0 & 1/2 & 1/2 \\\\\n",
    "0 & 0 & -1\n",
    "\\end{pmatrix} \\begin{pmatrix} x_1 \\\\ x_2 \\\\ x_3 \\end{pmatrix} = \n",
    "\\begin{pmatrix}\n",
    "8 \\\\ 1 \\\\ 1\n",
    "\\end{pmatrix}.\n",
    "$$"
   ]
  },
  {
   "cell_type": "markdown",
   "metadata": {},
   "source": [
    "**Stage 3**: Now we can collect results by **back-solve** or **back-substitution**.\n",
    "\n",
    "From the equation (3), $x_3 = 1$.  \n",
    "\n",
    "Substituting $x_3 = 1$ to equation (2) and solve for $x_2 = 3$.\n",
    "\n",
    "Substituting $x_2=3$ and $x_3 = 1$ to equation (1) and solve for $x_2 = 2$."
   ]
  },
  {
   "cell_type": "markdown",
   "metadata": {},
   "source": [
    "This is essentially how computer solves linear equation:"
   ]
  },
  {
   "cell_type": "code",
   "execution_count": 1,
   "metadata": {},
   "outputs": [
    {
     "data": {
      "text/plain": [
       "3×3 Array{Float64,2}:\n",
       "  2.0   1.0  -1.0\n",
       " -3.0  -1.0   2.0\n",
       " -2.0   1.0   2.0"
      ]
     },
     "execution_count": 1,
     "metadata": {},
     "output_type": "execute_result"
    }
   ],
   "source": [
    "using LinearAlgebra\n",
    "\n",
    "A = [2.0 1.0 -1.0; -3.0 -1.0 2.0; -2.0 1.0 2.0]"
   ]
  },
  {
   "cell_type": "code",
   "execution_count": 2,
   "metadata": {},
   "outputs": [
    {
     "data": {
      "text/plain": [
       "3-element Array{Float64,1}:\n",
       "   8.0\n",
       " -11.0\n",
       "  -3.0"
      ]
     },
     "execution_count": 2,
     "metadata": {},
     "output_type": "execute_result"
    }
   ],
   "source": [
    "b = [8.0, -11.0, -3.0]"
   ]
  },
  {
   "cell_type": "code",
   "execution_count": 3,
   "metadata": {},
   "outputs": [
    {
     "data": {
      "text/plain": [
       "3-element Array{Float64,1}:\n",
       "  2.0000000000000004\n",
       "  2.9999999999999996\n",
       " -0.9999999999999994"
      ]
     },
     "execution_count": 3,
     "metadata": {},
     "output_type": "execute_result"
    }
   ],
   "source": [
    "# Julia way to solve linear equation\n",
    "# equivalent to `solve(A, b)` in R\n",
    "A \\ b"
   ]
  },
  {
   "cell_type": "markdown",
   "metadata": {},
   "source": [
    "## LU decomposition\n",
    "\n",
    "Let's collect those multipliers $-\\ell_{ij}$ into a unit lower triangular matrix $\\mathbf{L}$"
   ]
  },
  {
   "cell_type": "code",
   "execution_count": 4,
   "metadata": {},
   "outputs": [
    {
     "data": {
      "text/plain": [
       "3×3 Array{Float64,2}:\n",
       "  1.0  0.0  0.0\n",
       " -1.5  1.0  0.0\n",
       " -1.0  4.0  1.0"
      ]
     },
     "execution_count": 4,
     "metadata": {},
     "output_type": "execute_result"
    }
   ],
   "source": [
    "L = [1.0 0.0 0.0; -1.5 1.0 0.0; -1.0 4.0 1.0]"
   ]
  },
  {
   "cell_type": "markdown",
   "metadata": {},
   "source": [
    "and save the resultant upper triangular matrix after GE into $\\mathbf{U}$"
   ]
  },
  {
   "cell_type": "code",
   "execution_count": 5,
   "metadata": {},
   "outputs": [
    {
     "data": {
      "text/plain": [
       "3×3 Array{Float64,2}:\n",
       " 2.0  1.0  -1.0\n",
       " 0.0  0.5   0.5\n",
       " 0.0  0.0  -1.0"
      ]
     },
     "execution_count": 5,
     "metadata": {},
     "output_type": "execute_result"
    }
   ],
   "source": [
    "U = [2.0 1.0 -1.0; 0.0 0.5 0.5; 0.0 0.0 -1.0]"
   ]
  },
  {
   "cell_type": "markdown",
   "metadata": {},
   "source": [
    "Surprisingly, we find that $\\mathbf{A} = \\mathbf{L} \\mathbf{U}$!"
   ]
  },
  {
   "cell_type": "code",
   "execution_count": 6,
   "metadata": {},
   "outputs": [
    {
     "data": {
      "text/plain": [
       "true"
      ]
     },
     "execution_count": 6,
     "metadata": {},
     "output_type": "execute_result"
    }
   ],
   "source": [
    "A ≈ L * U"
   ]
  },
  {
   "cell_type": "markdown",
   "metadata": {},
   "source": [
    "- Theorem: For any nonsingular $\\mathbf{A} \\in \\mathbb{R}^{n \\times n}$, there exists a unique unit lower triangular matrix $\\mathbf{L}$ and upper triangular matrix $\\mathbf{U}$ such that\n",
    "$$\n",
    "\\mathbf{A} = \\mathbf{L} \\mathbf{U}.\n",
    "$$\n",
    "\n",
    "- Given LU decomposition $\\mathbf{A} = \\mathbf{L} \\mathbf{U}$, for a new right hand side $\\mathbf{b}$, the solution to $\\mathbf{A} \\mathbf{x} = \\mathbf{b}$ is readily given by two triangular solves:\n",
    "\\begin{eqnarray*}\n",
    "    \\mathbf{L} \\mathbf{y} &=& \\mathbf{b} \\\\\n",
    "    \\mathbf{U} \\mathbf{x} &=& \\mathbf{y}.\n",
    "\\end{eqnarray*}\n",
    "\n",
    "- Indeed, computer performs GE/LU on a row-permuted version of $\\mathbf{A}$ (pivoting) for numerical stability. That is \n",
    "$$\n",
    "\\mathbf{P} \\mathbf{A} = \\mathbf{L} \\mathbf{U},\n",
    "$$\n",
    "where $\\mathbf{P}$ is a permutation matrix. All multipliers $\\ell_{ij}$ in $\\mathbf{L}$ has magnitude $\\le 1$."
   ]
  },
  {
   "cell_type": "code",
   "execution_count": 7,
   "metadata": {},
   "outputs": [
    {
     "data": {
      "text/plain": [
       "3×3 Array{Float64,2}:\n",
       "  2.0   1.0  -1.0\n",
       " -3.0  -1.0   2.0\n",
       " -2.0   1.0   2.0"
      ]
     },
     "execution_count": 7,
     "metadata": {},
     "output_type": "execute_result"
    }
   ],
   "source": [
    "A"
   ]
  },
  {
   "cell_type": "code",
   "execution_count": 8,
   "metadata": {},
   "outputs": [
    {
     "data": {
      "text/plain": [
       "LU{Float64,Array{Float64,2}}\n",
       "L factor:\n",
       "3×3 Array{Float64,2}:\n",
       "  1.0       0.0  0.0\n",
       "  0.666667  1.0  0.0\n",
       " -0.666667  0.2  1.0\n",
       "U factor:\n",
       "3×3 Array{Float64,2}:\n",
       " -3.0  -1.0      2.0     \n",
       "  0.0   1.66667  0.666667\n",
       "  0.0   0.0      0.2     "
      ]
     },
     "execution_count": 8,
     "metadata": {},
     "output_type": "execute_result"
    }
   ],
   "source": [
    "Alu = lu(A)"
   ]
  },
  {
   "cell_type": "code",
   "execution_count": 9,
   "metadata": {},
   "outputs": [
    {
     "data": {
      "text/plain": [
       "3-element Array{Int64,1}:\n",
       " 2\n",
       " 3\n",
       " 1"
      ]
     },
     "execution_count": 9,
     "metadata": {},
     "output_type": "execute_result"
    }
   ],
   "source": [
    "Alu.p"
   ]
  },
  {
   "cell_type": "code",
   "execution_count": 10,
   "metadata": {},
   "outputs": [
    {
     "data": {
      "text/plain": [
       "true"
      ]
     },
     "execution_count": 10,
     "metadata": {},
     "output_type": "execute_result"
    }
   ],
   "source": [
    "A[Alu.p, :] ≈ Alu.L * Alu.U"
   ]
  },
  {
   "cell_type": "markdown",
   "metadata": {},
   "source": [
    "## Determinant from LU\n",
    "\n",
    "Given LU decomposition $\\mathbf{A} = \\mathbf{L} \\mathbf{U}$,\n",
    "$$\n",
    "\\text{det}(\\mathbf{A}) = \\text{det}(\\mathbf{L}) \\text{det}(\\mathbf{U}) = \\prod_{i=1}^n u_{ii}.\n",
    "$$"
   ]
  },
  {
   "cell_type": "code",
   "execution_count": 11,
   "metadata": {},
   "outputs": [
    {
     "data": {
      "text/plain": [
       "-0.9999999999999998"
      ]
     },
     "execution_count": 11,
     "metadata": {},
     "output_type": "execute_result"
    }
   ],
   "source": [
    "det(Alu)"
   ]
  }
 ],
 "metadata": {
  "kernelspec": {
   "display_name": "Julia 1.2.0",
   "language": "julia",
   "name": "julia-1.2"
  },
  "language_info": {
   "file_extension": ".jl",
   "mimetype": "application/julia",
   "name": "julia",
   "version": "1.2.0"
  },
  "toc-autonumbering": true
 },
 "nbformat": 4,
 "nbformat_minor": 2
}
