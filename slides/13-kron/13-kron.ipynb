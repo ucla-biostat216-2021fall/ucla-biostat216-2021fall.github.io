{
 "cells": [
  {
   "cell_type": "markdown",
   "metadata": {},
   "source": [
    "# Kronecker Product and Other Special Matrices"
   ]
  },
  {
   "cell_type": "markdown",
   "metadata": {},
   "source": [
    "## Kronecker product\n",
    "\n",
    "- Let $\\mathbf{A} \\in \\mathbb{R}^{m \\times n}$ and $\\mathbf{B} \\in \\mathbb{R}^{p \\times q}$. The $mp \\times nq$ matrix defined by\n",
    "$$\n",
    "\\mathbf{A} \\otimes \\mathbf{B} = \\begin{pmatrix}\n",
    "a_{11} \\mathbf{B} & \\cdots & a_{1n} \\mathbf{B} \\\\\n",
    "\\vdots & & \\vdots \\\\\n",
    "a_{m1} \\mathbf{B} & \\cdots & a_{mn} \\mathbf{B}\n",
    "\\end{pmatrix}\n",
    "$$\n",
    "is called the **Kronecker product** of $\\mathbf{A}$ and $\\mathbf{B}$.\n",
    "\n",
    "    Note Kronecker product is defined for any pair of matices of general shape.\n",
    "    \n",
    "- Following facts are easy to verify.\n",
    "    1. \n",
    "$$\n",
    "\\mathbf{A} \\otimes \\mathbf{B} \\otimes \\mathbf{C} = (\\mathbf{A} \\otimes \\mathbf{B}) \\otimes \\mathbf{C} = \\mathbf{A} \\otimes (\\mathbf{B} \\otimes \\mathbf{C}).\n",
    "$$\n",
    "    2. \n",
    "$$\n",
    "    (\\mathbf{A} + \\mathbf{B}) \\otimes (\\mathbf{C} + \\mathbf{D}) = \\mathbf{A} \\otimes \\mathbf{C} + \\mathbf{A} \\otimes \\mathbf{D} + \\mathbf{B} \\otimes \\mathbf{C} + \\mathbf{B} \\otimes \\mathbf{D}\n",
    "$$ \n",
    "if $\\mathbf{A} + \\mathbf{B}$ and $\\mathbf{C} + \\mathbf{D}$ exist.  \n",
    "    3. \n",
    "$$\n",
    "(\\mathbf{A} \\otimes \\mathbf{B})(\\mathbf{C} \\otimes \\mathbf{D}) = \\mathbf{A} \\mathbf{C} \\otimes \\mathbf{B} \\mathbf{D}\n",
    "$$ \n",
    "if $\\mathbf{A} \\mathbf{C}$ and $\\mathbf{B} \\mathbf{D}$ exist.  \n",
    "    4. \n",
    "$$\n",
    "(\\mathbf{A} \\otimes \\mathbf{B})' = \\mathbf{A}' \\otimes \\mathbf{B}'.\n",
    "$$\n",
    "    5. For square matrices $\\mathbf{A}$ and $\\mathbf{B}$,\n",
    "$$\n",
    "\\text{tr}(\\mathbf{A} \\otimes \\mathbf{B}) = \\text{tr}(\\mathbf{A}) \\text{tr}(\\mathbf{B}).\n",
    "$$\n",
    "    6. If $\\mathbf{A}$ and $\\mathbf{B}$ are non-singular, then\n",
    "$$\n",
    "(\\mathbf{A} \\otimes \\mathbf{B})^{-1} = \\mathbf{A}^{-1} \\otimes \\mathbf{B}^{-1}.\n",
    "$$\n",
    "Same identity holds for generalized inverses as well.\n",
    "\n",
    "    These formulas are useful for reducing computations on Kronecker product to those on original (much smaller) matrices.\n",
    "    \n",
    "- **Eigenvalues of Kronecker product.** Let $\\mathbf{A}$ be an $m \\times m$ matrix with eigenvalues $\\lambda_1,\\ldots, \\lambda_m$, and $\\mathbf{B}$ a $p \\times p$ matrix with eigenvalues $\\mu_1, \\ldots, \\mu_p$. Then the $mp$ eigenvalues of $\\mathbf{A} \\otimes \\mathbf{B}$ are $\\lambda_i \\mu_j$, $i=1,\\ldots,m$, $j=1,\\ldots,p$."
   ]
  },
  {
   "cell_type": "code",
   "execution_count": 1,
   "metadata": {},
   "outputs": [
    {
     "data": {
      "text/plain": [
       "15×15 Array{Float64,2}:\n",
       " -1.17678    -0.539279   -0.577007   …  -0.0854543  -0.0442409  -0.24452  \n",
       " -0.539279   -1.09005     0.112559       0.0166698   0.0760435  -0.1132   \n",
       " -0.577007    0.112559    1.87634        0.277885    0.0118849   0.184425 \n",
       " -0.298725    0.513463    0.0802494      0.0118849  -0.203365    0.0558072\n",
       " -1.65106    -0.764354    1.24528        0.184425    0.0558072  -0.241604 \n",
       " -0.81132    -0.371801   -0.397812   …  -0.188355   -0.0975142  -0.538963 \n",
       " -0.371801   -0.751521    0.0776023      0.0367431   0.167612   -0.249512 \n",
       " -0.397812    0.0776023   1.29363        0.612504    0.0261962   0.406504 \n",
       " -0.205952    0.354002    0.0553271      0.0261962  -0.44825     0.123008 \n",
       " -1.1383     -0.526976    0.858547       0.406504    0.123008   -0.532535 \n",
       " -0.174281   -0.0798669  -0.0854543  …  -1.0033     -0.51942    -2.87084  \n",
       " -0.0798669  -0.161435    0.0166698      0.195716    0.892805   -1.32905  \n",
       " -0.0854543   0.0166698   0.277885       3.26257     0.139537    2.16529  \n",
       " -0.0442409   0.0760435   0.0118849      0.139537   -2.38765     0.655217 \n",
       " -0.24452    -0.1132      0.184425       2.16529     0.655217   -2.83661  "
      ]
     },
     "execution_count": 1,
     "metadata": {},
     "output_type": "execute_result"
    }
   ],
   "source": [
    "using LinearAlgebra, Random\n",
    "\n",
    "Random.seed!(216)\n",
    "m, p = 3, 5\n",
    "# two symmetric matrices\n",
    "A = randn(m, m); A = (A + A') / 2\n",
    "B = randn(p, p); B = (B + B') / 2\n",
    "AkronB = kron(A, B)"
   ]
  },
  {
   "cell_type": "code",
   "execution_count": 2,
   "metadata": {},
   "outputs": [
    {
     "data": {
      "text/plain": [
       "Eigen{Float64,Float64,Array{Float64,2},Array{Float64,1}}\n",
       "eigenvalues:\n",
       "3-element Array{Float64,1}:\n",
       " -2.3628974441499135\n",
       " -1.4183402387758672\n",
       "  2.1240378985254527\n",
       "eigenvectors:\n",
       "3×3 Array{Float64,2}:\n",
       " 0.294179   0.923448   0.246377 \n",
       " 0.155313   0.208168  -0.965683 \n",
       " 0.943046  -0.32235    0.0821851"
      ]
     },
     "execution_count": 2,
     "metadata": {},
     "output_type": "execute_result"
    }
   ],
   "source": [
    "Aeig = eigen(A)"
   ]
  },
  {
   "cell_type": "code",
   "execution_count": 3,
   "metadata": {},
   "outputs": [
    {
     "data": {
      "text/plain": [
       "Eigen{Float64,Float64,Array{Float64,2},Array{Float64,1}}\n",
       "eigenvalues:\n",
       "5-element Array{Float64,1}:\n",
       " -2.0431527398771667\n",
       "  0.1881453152888417\n",
       "  0.4336962375445035\n",
       "  1.3050654590574953\n",
       "  2.7581708443189585\n",
       "eigenvectors:\n",
       "5×5 Array{Float64,2}:\n",
       "  0.303014     0.670194  -0.130404   0.378069    0.546883\n",
       " -0.00301878  -0.277426  -0.815987  -0.336317    0.379581\n",
       " -0.87123      0.428099  -0.208816   0.0324859  -0.114152\n",
       " -0.0761851   -0.394763  -0.283267   0.859999   -0.136089\n",
       " -0.378588    -0.367108   0.439677   0.0574597   0.724766"
      ]
     },
     "execution_count": 3,
     "metadata": {},
     "output_type": "execute_result"
    }
   ],
   "source": [
    "Beig = eigen(B)"
   ]
  },
  {
   "cell_type": "code",
   "execution_count": 4,
   "metadata": {},
   "outputs": [
    {
     "data": {
      "text/plain": [
       "Eigen{Float64,Float64,Array{Float64,2},Array{Float64,1}}\n",
       "eigenvalues:\n",
       "15-element Array{Float64,1}:\n",
       " -6.517274838570046  \n",
       " -4.33973385197522   \n",
       " -3.912024693915976  \n",
       " -3.083735837655283  \n",
       " -1.851026854817742  \n",
       " -1.024779731231333  \n",
       " -0.6151288251150611 \n",
       " -0.44456808462477326\n",
       " -0.26685407141133055\n",
       "  0.3996277801035184 \n",
       "  0.9211872449924243 \n",
       "  2.772008495094637  \n",
       "  2.8978857449329496 \n",
       "  4.827760387063657  \n",
       "  5.858459403941414  \n",
       "eigenvectors:\n",
       "15×15 Array{Float64,2}:\n",
       "  0.160882    0.0746556    -0.505018   …  -0.0891403     0.13474   \n",
       "  0.111665   -0.00074376   -0.350523       0.000888064   0.0935201 \n",
       " -0.0335811  -0.214651      0.105413       0.256298     -0.0281244 \n",
       " -0.0400346  -0.0187703     0.125671       0.0224121    -0.0335293 \n",
       "  0.213211   -0.0932754    -0.669284       0.111373      0.178566  \n",
       "  0.0849383  -0.292615     -0.113844   …  -0.047062     -0.528116  \n",
       "  0.058954    0.00291519   -0.0790166      0.000468857  -0.366555  \n",
       " -0.0177293   0.841332      0.0237627      0.135314      0.110234  \n",
       " -0.0211365   0.0735707     0.0283294      0.0118326     0.131419  \n",
       "  0.112566    0.365596     -0.150873       0.0587997    -0.699894  \n",
       "  0.515736    0.0249032     0.176288   …  -0.285756      0.0449457 \n",
       "  0.357962   -0.000248099   0.122358       0.00284685    0.0311959 \n",
       " -0.10765    -0.0716021    -0.0367968      0.82161      -0.00938157\n",
       " -0.128338   -0.00626128   -0.0438683      0.0718461    -0.0111845 \n",
       "  0.683488   -0.0311143     0.233628       0.357026      0.059565  "
      ]
     },
     "execution_count": 4,
     "metadata": {},
     "output_type": "execute_result"
    }
   ],
   "source": [
    "eigen(AkronB)"
   ]
  },
  {
   "cell_type": "code",
   "execution_count": 5,
   "metadata": {},
   "outputs": [
    {
     "data": {
      "text/plain": [
       "3×5 Array{Float64,2}:\n",
       "  4.82776  -0.444568  -1.02478   -3.08374  -6.51727\n",
       "  2.89789  -0.266854  -0.615129  -1.85103  -3.91202\n",
       " -4.33973   0.399628   0.921187   2.77201   5.85846"
      ]
     },
     "execution_count": 5,
     "metadata": {},
     "output_type": "execute_result"
    }
   ],
   "source": [
    "[Aeig.values[i] * Beig.values[j] for i in 1:3, j in 1:5]"
   ]
  },
  {
   "cell_type": "markdown",
   "metadata": {},
   "source": [
    "- If $\\mathbf{x}_1$ is an eigenvector of $\\mathbf{A}$ and $\\mathbf{x}_2$ an eigenvector of $\\mathbf{B}$, then $\\mathbf{x}_1 \\otimes \\mathbf{x}_2$ is an eigenvector of $\\mathbf{A} \\otimes \\mathbf{B}$.\n",
    "    It is not generally true that every eigenvector of $\\mathbf{A} \\otimes \\mathbf{B}$ is the Kronecker product of an eigenvector of $\\mathbf{A}$ and an eigenvector of $\\mathbf{B}$.\n",
    "    \n",
    "    Example:\n",
    "$$\n",
    "\\mathbf{A} = \\mathbf{B} = \\begin{pmatrix} 0 & 1 \\\\ 0 & 0 \\end{pmatrix}, \\quad \\mathbf{e}_1 = \\begin{pmatrix} 1 \\\\ 0 \\end{pmatrix}, \\quad \\mathbf{e}_2 = \\begin{pmatrix} 0 \\\\ 1 \\end{pmatrix}.\n",
    "$$  \n",
    "$\\mathbf{e}_1$ is the only eigenvector of $\\mathbf{A}$ and $\\mathbf{B}$. But the eigenvector of $\\mathbf{A} \\otimes \\mathbf{B}$ are not just $\\mathbf{e}_1 \\otimes \\mathbf{e}_1$, but also $\\mathbf{e}_1 \\otimes \\mathbf{e}_2$ and $\\mathbf{e}_2 \\times \\mathbf{e}_1$.  \n",
    "\n",
    "Corollaries:\n",
    "\n",
    "- **Definiteness of Kronecker product.** If $\\mathbf{A}$ and $\\mathbf{B}$ are positive (semi)definite, then $\\mathbf{A} \\otimes \\mathbf{B}$ is positive (semi)definite.  \n",
    "\n",
    "- **Determinnant of Kronecker product.** For $\\mathbf{A} \\in \\mathbb{R}^{m \\times m}$ and $\\mathbf{B} \\in \\mathbb{R}^{p \\times p}$,\n",
    "$$\n",
    "\\text{det}(\\mathbf{A} \\otimes \\mathbf{B}) = \\text{det}(\\mathbf{A})^p \\text{det}(\\mathbf{B})^m.\n",
    "$$\n",
    "\n",
    "- **Rank of Kronecker product.** \n",
    "$$\n",
    "\\text{rank}(\\mathbf{A} \\otimes \\mathbf{B}) = \\text{rank}(\\mathbf{A}) \\text{rank}(\\mathbf{B}).\n",
    "$$"
   ]
  },
  {
   "cell_type": "markdown",
   "metadata": {},
   "source": [
    "## Kronecker sum\n",
    "\n",
    "- Let $\\mathbf{A} \\in \\mathbb{R}^{m \\times m}$ and $\\mathbf{B} \\in \\mathbb{R}^{n \\times n}$. The **Kronecker sum** is defined as the $mn \\times mn$ matrix:\n",
    "$$\n",
    "\\mathbf{A} \\oplus \\mathbf{B} = \\mathbf{A} \\otimes \\mathbf{I}_n + \\mathbf{I}_m \\otimes \\mathbf{B}.\n",
    "$$\n",
    "\n",
    "- The eigenvalues of Kronecker sum $\\mathbf{A} \\oplus \\mathbf{B}$ are $\\lambda_i + \\mu_j$, where $\\lambda_i$ and $\\mu_j$ are eigenvalues of $\\mathbf{A}$ and $\\mathbf{B}$ respectively."
   ]
  },
  {
   "cell_type": "markdown",
   "metadata": {},
   "source": [
    "## Vec and vech operator\n",
    "\n",
    "- The **vec operator** stacks the columns of a matrix into one long vector. For\n",
    "$$\n",
    "\\mathbf{A} = \\begin{pmatrix}\n",
    "\\mid & & \\mid \\\\\n",
    "\\mathbf{a}_1 & \\cdots & \\mathbf{a}_n \\\\\n",
    "\\mid & & \\mid\n",
    "\\end{pmatrix} \\in \\mathbb{R}^{m \\times n},\n",
    "$$\n",
    "we have\n",
    "$$\n",
    "\\text{vec} \\, \\mathbf{A} = \\begin{pmatrix} \\mathbf{a}_1 \\\\ \\vdots \\\\ \\mathbf{a}_n \\end{pmatrix}.\n",
    "$$\n",
    "\n",
    "- Following facts are easy to verify:  \n",
    "$$\n",
    "    \\text{vec} \\, \\mathbf{a} \\mathbf{b}' = \\mathbf{b} \\otimes \\mathbf{a}.\n",
    "$$\n",
    "$$\n",
    "    (\\text{vec} \\, \\mathbf{A})' \\text{vec} \\, \\mathbf{B} = \\text{tr}(\\mathbf{A}' \\mathbf{B}).\n",
    "$$\n",
    "\n",
    "- Let $\\mathbf{A}$, $\\mathbf{B}$ and $\\mathbf{C}$ such that the matrix product $\\mathbf{A} \\mathbf{B} \\mathbf{C}$ is defined. Then\n",
    "$$\n",
    "    \\text{vec} \\, \\mathbf{A} \\mathbf{B} \\mathbf{C} = (\\mathbf{C}' \\otimes \\mathbf{A}) \\text{vec} \\, \\mathbf{B}.\n",
    "$$\n",
    "\n",
    "    Because of the extreme usefulness of this identity, we give it a name: [**Roth’s Kronecker product identity**](https://projecteuclid.org/euclid.bams/1183497463), or **Roth column lemma**, or simply the **vec trick**.\n",
    "\n",
    "- A generalization to the product of 4 matrices:\n",
    "$$\n",
    "\\text{tr} \\, \\mathbf{A} \\mathbf{B} \\mathbf{C} \\mathbf{D} = (\\text{vec} \\, \\mathbf{D}'\n",
    ")' (\\mathbf{C}' \\otimes \\mathbf{A}) (\\text{vec} \\, \\mathbf{B}) = (\\text{vec} \\, \\mathbf{D})' (\\mathbf{A} \\otimes \\mathbf{C}') (\\text{vec} \\, \\mathbf{B}').\n",
    "$$"
   ]
  },
  {
   "cell_type": "markdown",
   "metadata": {},
   "source": [
    "## vech operator\n",
    "\n",
    "- For a symmetric $n \\times n$ matrix\n",
    "$$\n",
    "\\mathbf{A} = \\begin{pmatrix}\n",
    "a_{11} & \\cdots & a_{1n} \\\\\n",
    "\\vdots & \\ddots & \\vdots \\\\\n",
    "a_{n1} & \\cdots & a_{nn}\n",
    "\\end{pmatrix},\n",
    "$$\n",
    "the **vech operator** enumerates the $\\frac{n (n+1)}{2}$ non-redundant entries of $\\mathbf{A}$ in the column-major order\n",
    "$$\n",
    "\\text{vech} \\, \\mathbf{A} = \\begin{pmatrix}\n",
    "a_{11} \\\\ a_{21} \\\\ \\vdots \\\\ a_{n1} \\\\ a_{22} \\\\ a_{32} \\\\ \\vdots \\\\ a_{n2} \\\\ a_{33} \\\\ \\vdots \\\\ a_{nn}\n",
    "\\end{pmatrix}.\n",
    "$$"
   ]
  },
  {
   "cell_type": "code",
   "execution_count": 6,
   "metadata": {},
   "outputs": [
    {
     "data": {
      "text/plain": [
       "3×3 Array{Float64,2}:\n",
       "  0.333068   -0.474861   -0.254432\n",
       "  1.66378     0.0561321  -0.529029\n",
       " -0.0676266   0.0104737  -0.904305"
      ]
     },
     "execution_count": 6,
     "metadata": {},
     "output_type": "execute_result"
    }
   ],
   "source": [
    "using LinearAlgebra, Permutations\n",
    "\n",
    "vech(A) = [A[i, j] for i in 1:size(A, 1), j in 1:size(A, 2) if i ≥ j]\n",
    "A = randn(3, 3)"
   ]
  },
  {
   "cell_type": "code",
   "execution_count": 7,
   "metadata": {},
   "outputs": [
    {
     "data": {
      "text/plain": [
       "6-element Array{Float64,1}:\n",
       "  0.3330681151463122  \n",
       "  1.6637814534906514  \n",
       " -0.06762655185911629 \n",
       "  0.05613206900523923 \n",
       "  0.010473695134034552\n",
       " -0.9043054412667461  "
      ]
     },
     "execution_count": 7,
     "metadata": {},
     "output_type": "execute_result"
    }
   ],
   "source": [
    "vech(A)"
   ]
  },
  {
   "cell_type": "markdown",
   "metadata": {},
   "source": [
    "## Commutation matrix\n",
    "\n",
    "- Let $\\mathbf{A} \\in \\mathbb{R}^{m \\times n}$. $\\text{vec} \\, \\mathbf{A}$ and $\\text{vec} \\, \\mathbf{A}'$ clearly contain the same $mn$ components. There exists a unique $mn \\times mn$ permutation matrix that transforms $\\text{vec} \\, \\mathbf{A}$ to $\\text{vec} \\, \\mathbf{A}'$. We denote it $\\mathbf{K}_{mn}$\n",
    "$$\n",
    "    \\mathbf{K}_{mn} \\text{vec} \\, \\mathbf{A} = \\text{vec} \\mathbf{A}'.\n",
    "$$\n",
    "\n",
    "- Since $\\mathbf{K}_{mn}$ is an $mn \\times mn$ permutation matrix, it is orthogonal, i.e.,\n",
    "$$\n",
    "    \\mathbf{K}_{mn}^{-1} = \\mathbf{K}_{mn}' = \\mathbf{K}_{nm}.\n",
    "$$\n",
    "Also\n",
    "$$\n",
    "    \\mathbf{K}_{n1} = \\mathbf{K}_{1n} = \\mathbf{I}_n.\n",
    "$$"
   ]
  },
  {
   "cell_type": "code",
   "execution_count": 8,
   "metadata": {},
   "outputs": [
    {
     "data": {
      "text/plain": [
       "2×3 Array{Int64,2}:\n",
       " 1  3  5\n",
       " 2  4  6"
      ]
     },
     "execution_count": 8,
     "metadata": {},
     "output_type": "execute_result"
    }
   ],
   "source": [
    "A = [1 3 5; 2 4 6]"
   ]
  },
  {
   "cell_type": "code",
   "execution_count": 9,
   "metadata": {},
   "outputs": [
    {
     "data": {
      "text/plain": [
       "6-element Array{Int64,1}:\n",
       " 1\n",
       " 2\n",
       " 3\n",
       " 4\n",
       " 5\n",
       " 6"
      ]
     },
     "execution_count": 9,
     "metadata": {},
     "output_type": "execute_result"
    }
   ],
   "source": [
    "vec(A)"
   ]
  },
  {
   "cell_type": "code",
   "execution_count": 10,
   "metadata": {},
   "outputs": [
    {
     "data": {
      "text/plain": [
       "6-element reshape(::Adjoint{Int64,Array{Int64,2}}, 6) with eltype Int64:\n",
       " 1\n",
       " 3\n",
       " 5\n",
       " 2\n",
       " 4\n",
       " 6"
      ]
     },
     "execution_count": 10,
     "metadata": {},
     "output_type": "execute_result"
    }
   ],
   "source": [
    "vec(A')"
   ]
  },
  {
   "cell_type": "code",
   "execution_count": 11,
   "metadata": {},
   "outputs": [
    {
     "data": {
      "text/plain": [
       "6×6 Array{Int64,2}:\n",
       " 1  0  0  0  0  0\n",
       " 0  0  1  0  0  0\n",
       " 0  0  0  0  1  0\n",
       " 0  1  0  0  0  0\n",
       " 0  0  0  1  0  0\n",
       " 0  0  0  0  0  1"
      ]
     },
     "execution_count": 11,
     "metadata": {},
     "output_type": "execute_result"
    }
   ],
   "source": [
    "K23 = Matrix(inv(Permutation(vec(A'))))"
   ]
  },
  {
   "cell_type": "code",
   "execution_count": 12,
   "metadata": {},
   "outputs": [
    {
     "data": {
      "text/plain": [
       "true"
      ]
     },
     "execution_count": 12,
     "metadata": {},
     "output_type": "execute_result"
    }
   ],
   "source": [
    "K23 * vec(A) == vec(A')"
   ]
  },
  {
   "cell_type": "code",
   "execution_count": 13,
   "metadata": {},
   "outputs": [
    {
     "data": {
      "text/plain": [
       "6×6 Adjoint{Int64,Array{Int64,2}}:\n",
       " 1  0  0  0  0  0\n",
       " 0  0  1  0  0  0\n",
       " 0  0  0  0  1  0\n",
       " 0  1  0  0  0  0\n",
       " 0  0  0  1  0  0\n",
       " 0  0  0  0  0  1"
      ]
     },
     "execution_count": 13,
     "metadata": {},
     "output_type": "execute_result"
    }
   ],
   "source": [
    "# for general m, n\n",
    "commutation(m, n) = Matrix(Permutation(vec(reshape(1:m*n, m, n)')))'\n",
    "K23 = commutation(2, 3)"
   ]
  },
  {
   "cell_type": "markdown",
   "metadata": {},
   "source": [
    "- **Commutation matrix allows us to exchange the two matrices in a Kronecker product.** Let $\\mathbf{A} \\in \\mathbb{R}^{m \\times n}$, $\\mathbf{B} \\in \\mathbb{R}^{p \\times q}$, and $\\mathbf{b} \\in \\mathbb{R}^{p}$. Then\n",
    "\\begin{eqnarray*}\n",
    "    \\mathbf{K}_{pm} (\\mathbf{A} \\otimes \\mathbf{B}) &=& (\\mathbf{B} \\otimes \\mathbf{A}) \\mathbf{K}_{qn} \\\\\n",
    "    \\mathbf{K}_{pm} (\\mathbf{A} \\otimes \\mathbf{B}) \\mathbf{K}_{nq} &=& \\mathbf{B} \\otimes \\mathbf{A} \\\\\n",
    "    \\mathbf{K}_{pm} (\\mathbf{A} \\otimes \\mathbf{b}) &=& \\mathbf{b} \\otimes \\mathbf{A} \\\\\n",
    "    \\mathbf{K}_{mp} (\\mathbf{b} \\otimes \\mathbf{A}) &=& \\mathbf{A} \\otimes \\mathbf{b}.\n",
    "\\end{eqnarray*}\n",
    "\n",
    "- **Commutation matrix allows us to transform the vec of a Kronecker product to the Kronecker product of the vecs.** Let $\\mathbf{A} \\in \\mathbb{R}^{m \\times n}$ and $\\mathbf{B} \\in \\mathbb{R}^{p \\times q}$. Then\n",
    "$$\n",
    "    \\text{vec} \\, (\\mathbf{A} \\otimes \\mathbf{B}) = (\\mathbf{I}_n \\otimes \\mathbf{K}_{qm} \\otimes \\mathbf{I}_p) (\\text{vec} \\, \\mathbf{A} \\otimes \\text{vec} \\, \\mathbf{B}).\n",
    "$$\n",
    "\n",
    "- Let\n",
    "$$\n",
    "\\mathbf{N}_n = \\frac 12 (\\mathbf{I}_{n^2} + \\mathbf{K}_{nn}).\n",
    "$$\n",
    "Then\n",
    "\\begin{eqnarray*}\n",
    "    \\mathbf{N}_n &=& \\mathbf{N}_n' = \\mathbf{N}_n^2 \\\\\n",
    "    \\text{rank}(\\mathbf{N}_n) &=& \\text{tr}(\\mathbf{N}_n) = \\frac{n(n+1)}{2} \\\\\n",
    "    \\mathbf{N}_n \\mathbf{K}_{nn} &=& \\mathbf{N}_n = \\mathbf{K}_{nn} \\mathbf{N}_n.\n",
    "\\end{eqnarray*}"
   ]
  },
  {
   "cell_type": "markdown",
   "metadata": {},
   "source": [
    "## Duplication matrix\n",
    "\n",
    "- Since the elements of $\\text{vec} \\, \\mathbf{A}$ are those of $\\text{vech} \\, \\mathbf{A}$ with some repetition, there exists an $n^2 \\times \\frac{n(n+1)}{2}$ **duplication matrix** $\\mathbf{D}_n$ that tansforms, for symmetric $\\mathbf{A}$, $\\text{vech} \\, \\mathbf{A}$ to $\\text{vec} \\, \\mathbf{A}$:\n",
    "$$\n",
    "\\mathbf{D}_n \\text{vech} \\, \\mathbf{A} = \\text{vec} \\, \\mathbf{A}. \\quad \\quad \\quad (\\mathbf{A} = \\mathbf{A}').\n",
    "$$\n",
    "\n",
    "- $\\mathbf{D}_n$ has full column rank. Why?\n",
    "\n",
    "- The Moore-Penrose inverse of $\\mathbf{D}_n$ is \n",
    "$$\n",
    "\\mathbf{D}_n^+ = (\\mathbf{D}_n'\\mathbf{D}_n)^{-1} \\mathbf{D}_n'.\n",
    "$$\n",
    "Thus $\\text{vech} \\, \\mathbf{A}$ can be uniquely solved from $\\text{vec} \\, \\mathbf{A}$\n",
    "$$\n",
    "   \\text{vech} \\, \\mathbf{A} = \\mathbf{D}_n^+ \\text{vec} \\, \\mathbf{A}. \\quad \\quad \\quad (\\mathbf{A} = \\mathbf{A}').\n",
    "$$\n",
    "\n",
    "- Some properties of $\\mathbf{D}_n$.\n",
    "\\begin{eqnarray*}\n",
    "    \\mathbf{K}_n \\mathbf{D}_n &=& \\mathbf{D}_n \\\\\n",
    "    \\mathbf{D}_n \\mathbf{D}_n^+ &=& \\frac 12 (\\mathbf{I}_{n^2} + \\mathbf{K}_{nn}) \\\\\n",
    "    \\mathbf{D}_n \\mathbf{D}_n^+ (\\mathbf{b} \\otimes \\mathbf{A}) &=& \\frac 12 (\\mathbf{b} \\otimes \\mathbf{A} + \\mathbf{A} \\otimes \\mathbf{b}).\n",
    "\\end{eqnarray*}\n",
    "\n",
    "- Let $\\mathbf{A} \\in \\mathbb{R}^{n \\times n}$. Then\n",
    "\\begin{eqnarray*}\n",
    "    \\mathbf{D}_n' \\text{vec} \\, \\mathbf{A} &=& \\text{vech}(\\mathbf{A} + \\mathbf{A}' - \\text{diag}(\\mathbf{A})) \\\\\n",
    "    \\text{det}(\\mathbf{D}_n^+ (\\mathbf{A} \\otimes \\mathbf{A}) \\mathbf{D}_n^+) &=& 2^{-n(n-1)/2} \\text{det}(\\mathbf{A})^{n+1}.\n",
    "\\end{eqnarray*}"
   ]
  },
  {
   "cell_type": "code",
   "execution_count": 14,
   "metadata": {},
   "outputs": [
    {
     "data": {
      "text/plain": [
       "3×3 Array{Int64,2}:\n",
       " 1  2  3\n",
       " 2  4  5\n",
       " 3  5  6"
      ]
     },
     "execution_count": 14,
     "metadata": {},
     "output_type": "execute_result"
    }
   ],
   "source": [
    "n = 3\n",
    "A = zeros(Int, n, n)\n",
    "A[tril(trues(n, n))] = 1:6\n",
    "LinearAlgebra.copytri!(A, 'L')\n",
    "A"
   ]
  },
  {
   "cell_type": "code",
   "execution_count": 15,
   "metadata": {},
   "outputs": [
    {
     "data": {
      "text/plain": [
       "6-element Array{Int64,1}:\n",
       " 1\n",
       " 2\n",
       " 3\n",
       " 4\n",
       " 5\n",
       " 6"
      ]
     },
     "execution_count": 15,
     "metadata": {},
     "output_type": "execute_result"
    }
   ],
   "source": [
    "vech(A)"
   ]
  },
  {
   "cell_type": "code",
   "execution_count": 16,
   "metadata": {},
   "outputs": [
    {
     "data": {
      "text/plain": [
       "9-element Array{Int64,1}:\n",
       " 1\n",
       " 2\n",
       " 3\n",
       " 2\n",
       " 4\n",
       " 5\n",
       " 3\n",
       " 5\n",
       " 6"
      ]
     },
     "execution_count": 16,
     "metadata": {},
     "output_type": "execute_result"
    }
   ],
   "source": [
    "vec(A)"
   ]
  },
  {
   "cell_type": "code",
   "execution_count": 17,
   "metadata": {},
   "outputs": [
    {
     "data": {
      "text/plain": [
       "9×6 Array{Int64,2}:\n",
       " 1  0  0  0  0  0\n",
       " 0  1  0  0  0  0\n",
       " 0  0  1  0  0  0\n",
       " 0  1  0  0  0  0\n",
       " 0  0  0  1  0  0\n",
       " 0  0  0  0  1  0\n",
       " 0  0  1  0  0  0\n",
       " 0  0  0  0  1  0\n",
       " 0  0  0  0  0  1"
      ]
     },
     "execution_count": 17,
     "metadata": {},
     "output_type": "execute_result"
    }
   ],
   "source": [
    "function duplication(n)\n",
    "    D = zeros(Int, abs2(n), n * (n + 1) >> 1)\n",
    "    vechidx = 1\n",
    "    for j in 1:n\n",
    "        for i in j:n\n",
    "            D[(j - 1) * n + i, vechidx] = 1\n",
    "            D[(i - 1) * n + j, vechidx] = 1\n",
    "            vechidx += 1\n",
    "        end\n",
    "    end\n",
    "    D\n",
    "end\n",
    "duplication(3)"
   ]
  },
  {
   "cell_type": "markdown",
   "metadata": {},
   "source": [
    "## Image compression by JPEG\n",
    "\n",
    "Example at <https://cs.stanford.edu/people/eroberts/courses/soco/projects/data-compression/lossy/jpeg/dct.htm>.\n",
    "\n",
    "- DCT (discrete cosine transform) matrix \n",
    "$$\n",
    "\\mathbf{C}_n = \\left( \\cos \\left( j + \\frac 12 \\right) \\frac{k \\pi}{8} \\right)_{0 \\le j, k \\le n-1}\n",
    "$$\n",
    "emerge as eigenvector of\n",
    "$$\n",
    "\\mathbf{D}_{\\text{free}} = \\begin{pmatrix}\n",
    "-1 & 1 & & \\\\\n",
    "1 & -2 & 1 & \\\\\n",
    "& & \\ddots & \\\\\n",
    "& & 1 & -1\n",
    "\\end{pmatrix}.\n",
    "$$"
   ]
  },
  {
   "cell_type": "code",
   "execution_count": 18,
   "metadata": {},
   "outputs": [
    {
     "data": {
      "text/plain": [
       "8×8 Array{Float64,2}:\n",
       " 1.0   0.980785   0.92388    0.83147   …   0.55557    0.382683   0.19509 \n",
       " 1.0   0.83147    0.382683  -0.19509      -0.980785  -0.92388   -0.55557 \n",
       " 1.0   0.55557   -0.382683  -0.980785      0.19509    0.92388    0.83147 \n",
       " 1.0   0.19509   -0.92388   -0.55557       0.83147   -0.382683  -0.980785\n",
       " 1.0  -0.19509   -0.92388    0.55557      -0.83147   -0.382683   0.980785\n",
       " 1.0  -0.55557   -0.382683   0.980785  …  -0.19509    0.92388   -0.83147 \n",
       " 1.0  -0.83147    0.382683   0.19509       0.980785  -0.92388    0.55557 \n",
       " 1.0  -0.980785   0.92388   -0.83147      -0.55557    0.382683  -0.19509 "
      ]
     },
     "execution_count": 18,
     "metadata": {},
     "output_type": "execute_result"
    }
   ],
   "source": [
    "n = 8\n",
    "C = [cos((j + 0.5) * k * π / 8) for j in 0:n-1, k in 0:n-1]"
   ]
  },
  {
   "cell_type": "markdown",
   "metadata": {},
   "source": [
    "The columns of DCT matrix $\\mathbf{C}_n$ are orthogonal."
   ]
  },
  {
   "cell_type": "code",
   "execution_count": 19,
   "metadata": {},
   "outputs": [
    {
     "data": {
      "text/plain": [
       "8×8 Array{Float64,2}:\n",
       "  8.0           6.66134e-16  -4.44089e-16  …  -1.05471e-15  -4.996e-16  \n",
       "  6.66134e-16   4.0           2.97753e-16      2.64855e-16   7.98239e-16\n",
       " -4.44089e-16   2.97753e-16   4.0              1.32339e-16  -8.98239e-17\n",
       "  3.33067e-16  -3.0757e-16    3.81368e-16     -2.43375e-16   8.06468e-17\n",
       "  2.22045e-16   8.87903e-17  -9.60906e-16     -8.60757e-16  -3.18502e-16\n",
       "  1.77636e-15  -1.04433e-15   6.98248e-16  …   1.26541e-15  -1.2366e-15 \n",
       " -1.05471e-15   2.64855e-16   1.32339e-16      4.0           8.42704e-16\n",
       " -4.996e-16     7.98239e-16  -8.98239e-17      8.42704e-16   4.0        "
      ]
     },
     "execution_count": 19,
     "metadata": {},
     "output_type": "execute_result"
    }
   ],
   "source": [
    "C'C"
   ]
  },
  {
   "cell_type": "markdown",
   "metadata": {},
   "source": [
    "- JPEG compression:  \n",
    "    - Step 1 (DCT): apply 2D cosine transform $\\mathbf{C}_8 \\otimes \\mathbf{C}_8$ on each $8 \\times 8$ block of the image, producing 64 coefficients $c_{ij}$. Many of these cosine coefficients (in the lower right corner) will be small.  \n",
    "    - Step 2 (Quantization and compression): \n",
    "$$\n",
    "q_{jk} = \\frac{c_{jk}}{j + k + 3} \\text{ rounded to nearest integer}\n",
    "$$\n",
    "and discard those small integers."
   ]
  },
  {
   "cell_type": "markdown",
   "metadata": {},
   "source": [
    "## Spectral clustering\n",
    "\n",
    "- TODO\n",
    "\n",
    "- Example: Fisher iris data."
   ]
  }
 ],
 "metadata": {
  "kernelspec": {
   "display_name": "Julia 1.2.0",
   "language": "julia",
   "name": "julia-1.2"
  },
  "language_info": {
   "file_extension": ".jl",
   "mimetype": "application/julia",
   "name": "julia",
   "version": "1.2.0"
  }
 },
 "nbformat": 4,
 "nbformat_minor": 2
}
