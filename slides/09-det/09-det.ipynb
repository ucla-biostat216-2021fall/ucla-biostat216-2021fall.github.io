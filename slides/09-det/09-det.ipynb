{
 "cells": [
  {
   "cell_type": "markdown",
   "metadata": {},
   "source": [
    "# Determinant\n",
    "\n",
    "We review some basic facts about matrix determinant.\n",
    "\n",
    "- The **determinant** of a square matrix $\\mathbf{A} \\in \\mathbb{R}^{n \\times n}$ is \n",
    "$$\n",
    "    \\det (\\mathbf{A}) = \\sum (-1)^{\\phi(j_1,\\ldots,j_n)} \\prod_{i=1}^n a_{ij_i},\n",
    "$$\n",
    "where the summation is over all permutation $(j_1, \\ldots, j_n)$ of the set of integers $(1,\\ldots,n)$ and $\\phi(j_1,\\ldots,j_n)$ is the number of transposition to change $(1,\\ldots,n)$ to $(j_1,\\ldots,j_n)$.\n",
    "\n",
    "- Example\n",
    "$$\n",
    "    \\det \\begin{pmatrix} a_{11} & a_{12} \\\\ a_{21} & a_{22} \\end{pmatrix} = (-1)^{\\phi(1,2)} a_{11} a_{22} + (-1)^{\\phi(2,1)} a_{12} a_{21} = a_{11} a_{22} - a_{12} a_{21}.\n",
    "$$"
   ]
  },
  {
   "cell_type": "markdown",
   "metadata": {},
   "source": [
    "<img src=\"./determinant.png\" width=400 align=\"center\"/>\n",
    "\n",
    "- Interpretation of the (absolute value of) determinant as the **volume of the parallelom** defined by the columns of the matrix:\n",
    "\\begin{eqnarray*}\n",
    "\t\\text{area} &=& bh = \\|\\mathbf{x}_1\\|\\|\\mathbf{x}_2\\| \\sin(\\theta) \\\\\n",
    "\t&=& \\|\\mathbf{x}_1\\| \\|\\mathbf{x}_2\\| \\sqrt{1 - \\left( \\frac{\\langle \\mathbf{x}_1, \\mathbf{x}_2 \\rangle}{\\|\\mathbf{x}_1\\| \\|\\mathbf{x}_2\\|} \\right)^2} \\\\\n",
    "\t&=& \\sqrt{\\|\\mathbf{x}_1\\|^2 \\|\\mathbf{x}\\|^2 - (\\langle \\mathbf{x}_1, \\mathbf{x}_2\\rangle)^2} \\\\\n",
    "\t&=& \\sqrt{(x_{11}^2 + x_{12}^2)(x_{21}^2+x_{22}^2) - (x_{11}x_{21} - x_{12}x_{22})^2} \\\\\n",
    "\t&=& |x_{11} x_{22} - x_{12} x_{21}| \\\\\n",
    "\t&=& |\\det(\\mathbf{X})|.\n",
    "\\end{eqnarray*}\n",
    "\n",
    "<img src=\"./Determinant_parallelepiped.svg\" width=400 align=\"center\"/>\n",
    "\n",
    "- Another interpretation of the determinant is the volume changing factor when operating on a set in $\\mathbb{R}^n$. $\\text{volume}(f(S)) = |\\det(\\mathbf{A})| \\text{volume}(f(S))$ where $f: \\mathbb{R}^n \\mapsto \\mathbb{R}^n$ is the linear mapping defined by $\\mathbf{A}$.\n",
    "\n",
    "- The determinant of a **lower or upper triangular matrix** $\\mathbf{A}$ is the product of the diagonal elements $\\prod_{i=1}^n a_{ii}$.\n",
    "\n",
    "- Determinant of a singular matrix is 0.\n",
    "\n",
    "- Determinant of an orthogonal matrix is 1 (**rotation**) or -1 (**reflection**).\n",
    "\n",
    "TODO: visualize a rotation matrix and a reflector.\n",
    "\n",
    "-  $\\det(\\mathbf{A}') = \\det(\\mathbf{A})$.\n",
    "\n",
    "- $\\det(\\mathbf{A}^{-1}) = 1/\\det(\\mathbf{A})$.\n",
    "\n",
    "- $\\det(c\\mathbf{A}) = c^n \\det(\\mathbf{A})$.\n",
    "\n",
    "- $\\det(\\mathbf{A} \\mathbf{B}) = \\det(\\mathbf{A}) \\det(\\mathbf{B})$.\n",
    "\n",
    "- For $\\mathbf{A}$ and $\\mathbf{D}$ square and nonsingular, \n",
    "\\begin{eqnarray*}\n",
    "\t\\det \\left( \\begin{pmatrix}\n",
    "\t\\mathbf{A} & \\mathbf{B} \\\\\n",
    "\t\\mathbf{C} & \\mathbf{D}\n",
    "\t\\end{pmatrix} \\right) = \\det (\\mathbf{A}) \\det (\\mathbf{D} - \\mathbf{C} \\mathbf{A}^{-1} \\mathbf{B}) = \\det(\\mathbf{D}) \\det(\\mathbf{A} - \\mathbf{B} \\mathbf{D}^{-1} \\mathbf{C}).\n",
    "\\end{eqnarray*}\n",
    "\n",
    "    Proof: Take determinant on the both sides of the matrix identity\n",
    "\\begin{eqnarray*}\n",
    "\t\\begin{pmatrix}\n",
    "\t\\mathbf{A} & \\mathbf{0} \\\\\n",
    "\t\\mathbf{0} & \\mathbf{D} - \\mathbf{C} \\mathbf{A}^{-1} \\mathbf{B}\n",
    "\t\\end{pmatrix} = \\begin{pmatrix}\n",
    "\t\\mathbf{I} & \\mathbf{0} \\\\ - \\mathbf{C} \\mathbf{A}^{-1} & \\mathbf{I}\n",
    "\t\\end{pmatrix} \\begin{pmatrix}\n",
    "\t\\mathbf{A} & \\mathbf{B} \\\\\n",
    "\t\\mathbf{C} & \\mathbf{D}\n",
    "\t\\end{pmatrix} \\begin{pmatrix}\n",
    "\t\\mathbf{I} & - \\mathbf{A}^{-1} \\mathbf{B} \\\\\n",
    "\t\\mathbf{0} & \\mathbf{I}\n",
    "\t\\end{pmatrix}.\n",
    "\\end{eqnarray*}"
   ]
  }
 ],
 "metadata": {
  "hide_input": false,
  "kernelspec": {
   "display_name": "Julia 1.6.0",
   "language": "julia",
   "name": "julia-1.6"
  },
  "language_info": {
   "file_extension": ".jl",
   "mimetype": "application/julia",
   "name": "julia",
   "version": "1.6.0"
  },
  "toc": {
   "colors": {
    "hover_highlight": "#DAA520",
    "running_highlight": "#FF0000",
    "selected_highlight": "#FFD700"
   },
   "moveMenuLeft": true,
   "nav_menu": {
    "height": "30.1705px",
    "width": "251.989px"
   },
   "navigate_menu": true,
   "number_sections": true,
   "sideBar": true,
   "skip_h1_title": true,
   "threshold": 4,
   "toc_cell": false,
   "toc_section_display": "block",
   "toc_window_display": false,
   "widenNotebook": false
  }
 },
 "nbformat": 4,
 "nbformat_minor": 2
}
