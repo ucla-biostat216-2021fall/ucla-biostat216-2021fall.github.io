{
 "cells": [
  {
   "cell_type": "markdown",
   "metadata": {
    "toc": "true"
   },
   "source": [
    "# Table of Contents\n",
    " <p><div class=\"lev1 toc-item\"><a href=\"#Linear-equations-and-matrix-inverses-(BV-Chapter-11)\" data-toc-modified-id=\"Linear-equations-and-matrix-inverses-(BV-Chapter-11)-1\"><span class=\"toc-item-num\">1&nbsp;&nbsp;</span>Linear equations and matrix inverses (BV Chapter 11)</a></div><div class=\"lev2 toc-item\"><a href=\"#Left-and-right-inverses\" data-toc-modified-id=\"Left-and-right-inverses-11\"><span class=\"toc-item-num\">1.1&nbsp;&nbsp;</span>Left and right inverses</a></div><div class=\"lev2 toc-item\"><a href=\"#When-does-a-matrix-have-a-left-or-right-inverse?\" data-toc-modified-id=\"When-does-a-matrix-have-a-left-or-right-inverse?-12\"><span class=\"toc-item-num\">1.2&nbsp;&nbsp;</span>When does a matrix have a left or right inverse?</a></div><div class=\"lev2 toc-item\"><a href=\"#Linear-equations-and-left/right-inverses\" data-toc-modified-id=\"Linear-equations-and-left/right-inverses-13\"><span class=\"toc-item-num\">1.3&nbsp;&nbsp;</span>Linear equations and left/right inverses</a></div><div class=\"lev2 toc-item\"><a href=\"#Solving-linear-equations\" data-toc-modified-id=\"Solving-linear-equations-14\"><span class=\"toc-item-num\">1.4&nbsp;&nbsp;</span>Solving linear equations</a></div><div class=\"lev2 toc-item\"><a href=\"#Generalized-inverse-and-Moore-Penrose-inverse-(optional)\" data-toc-modified-id=\"Generalized-inverse-and-Moore-Penrose-inverse-(optional)-15\"><span class=\"toc-item-num\">1.5&nbsp;&nbsp;</span>Generalized inverse and Moore-Penrose inverse (optional)</a></div>"
   ]
  },
  {
   "cell_type": "markdown",
   "metadata": {},
   "source": [
    "# Linear equations and matrix inverses (BV Chapter 11)"
   ]
  },
  {
   "cell_type": "code",
   "execution_count": 1,
   "metadata": {},
   "outputs": [
    {
     "name": "stderr",
     "output_type": "stream",
     "text": [
      "\u001b[32m\u001b[1m  Activating\u001b[22m\u001b[39m environment at `~/Documents/github.com/ucla-biostat216-2021fall.github.io/slides/06-matinv/Project.toml`\n"
     ]
    }
   ],
   "source": [
    "using Pkg\n",
    "Pkg.activate(pwd())\n",
    "Pkg.instantiate()"
   ]
  },
  {
   "cell_type": "code",
   "execution_count": 2,
   "metadata": {},
   "outputs": [],
   "source": [
    "using LinearAlgebra"
   ]
  },
  {
   "cell_type": "markdown",
   "metadata": {},
   "source": [
    "## Left and right inverses\n",
    "\n",
    "- A **left inverse** of $\\mathbf{A} \\in \\mathbb{R}^{m \\times n}$ is any matrix $\\mathbf{X} \\in \\mathbb{R}^{n \\times m}$ such that \n",
    "$$\n",
    "\\mathbf{X} \\mathbf{A} = \\mathbf{I}_n.\n",
    "$$\n",
    "$\\mathbf{A}$ is **left invertible** if it has at least one left inverse."
   ]
  },
  {
   "cell_type": "code",
   "execution_count": 3,
   "metadata": {},
   "outputs": [
    {
     "data": {
      "text/plain": [
       "3×2 Matrix{Int64}:\n",
       " -3  -4\n",
       "  4   6\n",
       "  1   1"
      ]
     },
     "execution_count": 3,
     "metadata": {},
     "output_type": "execute_result"
    }
   ],
   "source": [
    "# a 3x2 matrix\n",
    "A = [-3 -4; 4 6; 1 1]"
   ]
  },
  {
   "cell_type": "code",
   "execution_count": 4,
   "metadata": {},
   "outputs": [
    {
     "data": {
      "text/plain": [
       "2×3 Matrix{Rational{Int64}}:\n",
       " -11//9  -10//9   16//9\n",
       "   7//9    8//9  -11//9"
      ]
     },
     "execution_count": 4,
     "metadata": {},
     "output_type": "execute_result"
    }
   ],
   "source": [
    "# X1 is a left inverse of A\n",
    "X1 = [-11//9 -10//9 16//9; 7//9 8//9 -11//9]"
   ]
  },
  {
   "cell_type": "code",
   "execution_count": 5,
   "metadata": {},
   "outputs": [
    {
     "data": {
      "text/plain": [
       "2×2 Matrix{Int64}:\n",
       " 1  0\n",
       " 0  1"
      ]
     },
     "execution_count": 5,
     "metadata": {},
     "output_type": "execute_result"
    }
   ],
   "source": [
    "Int.(X1 * A)"
   ]
  },
  {
   "cell_type": "code",
   "execution_count": 6,
   "metadata": {},
   "outputs": [
    {
     "data": {
      "text/plain": [
       "2×3 Matrix{Rational{Int64}}:\n",
       " 0//1  -1//2   3//1\n",
       " 0//1   1//2  -2//1"
      ]
     },
     "execution_count": 6,
     "metadata": {},
     "output_type": "execute_result"
    }
   ],
   "source": [
    "# B2 is another left inverse of A\n",
    "X2 = [0 -1//2 3; 0 1//2 -2]"
   ]
  },
  {
   "cell_type": "code",
   "execution_count": 7,
   "metadata": {},
   "outputs": [
    {
     "data": {
      "text/plain": [
       "2×2 Matrix{Int64}:\n",
       " 1  0\n",
       " 0  1"
      ]
     },
     "execution_count": 7,
     "metadata": {},
     "output_type": "execute_result"
    }
   ],
   "source": [
    "Int.(X2 * A)"
   ]
  },
  {
   "cell_type": "markdown",
   "metadata": {},
   "source": [
    "- A **right inverse** of $\\mathbf{A} \\in \\mathbb{R}^{m \\times n}$ is any matrix $\\mathbf{X} \\in \\mathbb{R}^{n \\times m}$ such that \n",
    "$$\n",
    "\\mathbf{A} \\mathbf{X} = \\mathbf{I}_m.\n",
    "$$\n",
    "$\\mathbf{A}$ is **right invertible** if it has at least one right inverse."
   ]
  },
  {
   "cell_type": "code",
   "execution_count": 8,
   "metadata": {},
   "outputs": [
    {
     "data": {
      "text/plain": [
       "2×3 Matrix{Int64}:\n",
       " 1  0  1\n",
       " 0  1  1"
      ]
     },
     "execution_count": 8,
     "metadata": {},
     "output_type": "execute_result"
    }
   ],
   "source": [
    "# a 2x3 matrix\n",
    "A = [1 0 1; 0 1 1]"
   ]
  },
  {
   "cell_type": "code",
   "execution_count": 9,
   "metadata": {},
   "outputs": [
    {
     "data": {
      "text/plain": [
       "3×2 Matrix{Rational{Int64}}:\n",
       "  1//2  -1//2\n",
       " -1//2   1//2\n",
       "  1//2   1//2"
      ]
     },
     "execution_count": 9,
     "metadata": {},
     "output_type": "execute_result"
    }
   ],
   "source": [
    "# X1 is a right inverse of A\n",
    "X1 = [1//2 -1//2; -1//2 1//2; 1//2 1//2]"
   ]
  },
  {
   "cell_type": "code",
   "execution_count": 10,
   "metadata": {},
   "outputs": [
    {
     "data": {
      "text/plain": [
       "2×2 Matrix{Int64}:\n",
       " 1  0\n",
       " 0  1"
      ]
     },
     "execution_count": 10,
     "metadata": {},
     "output_type": "execute_result"
    }
   ],
   "source": [
    "Int.(A * X1)"
   ]
  },
  {
   "cell_type": "code",
   "execution_count": 11,
   "metadata": {},
   "outputs": [
    {
     "data": {
      "text/plain": [
       "3×2 Matrix{Int64}:\n",
       " 1  0\n",
       " 0  1\n",
       " 0  0"
      ]
     },
     "execution_count": 11,
     "metadata": {},
     "output_type": "execute_result"
    }
   ],
   "source": [
    "# X2 is anoter right inverse of A\n",
    "X2 = [1 0; 0 1; 0 0]"
   ]
  },
  {
   "cell_type": "code",
   "execution_count": 12,
   "metadata": {},
   "outputs": [
    {
     "data": {
      "text/plain": [
       "2×2 Matrix{Int64}:\n",
       " 1  0\n",
       " 0  1"
      ]
     },
     "execution_count": 12,
     "metadata": {},
     "output_type": "execute_result"
    }
   ],
   "source": [
    "Int.(A * X2)"
   ]
  },
  {
   "cell_type": "code",
   "execution_count": 13,
   "metadata": {},
   "outputs": [
    {
     "data": {
      "text/plain": [
       "3×2 Matrix{Int64}:\n",
       " 1  -1\n",
       " 0   0\n",
       " 0   1"
      ]
     },
     "execution_count": 13,
     "metadata": {},
     "output_type": "execute_result"
    }
   ],
   "source": [
    "# X3 is yet anoter right inverse of A\n",
    "X3 = [1 -1; 0 0; 0 1]"
   ]
  },
  {
   "cell_type": "code",
   "execution_count": 14,
   "metadata": {},
   "outputs": [
    {
     "data": {
      "text/plain": [
       "2×2 Matrix{Int64}:\n",
       " 1  0\n",
       " 0  1"
      ]
     },
     "execution_count": 14,
     "metadata": {},
     "output_type": "execute_result"
    }
   ],
   "source": [
    "Int.(A * X3)"
   ]
  },
  {
   "cell_type": "markdown",
   "metadata": {},
   "source": [
    "- $\\mathbf{X}$ is a left inverse of $\\mathbf{A}$ if and only if $\\mathbf{X}'$ is a right inverse of $\\mathbf{A}'$.\n",
    "$$\n",
    "\\mathbf{A}' \\mathbf{X}' = \\mathbf{I} = (\\mathbf{X} \\mathbf{A})'.\n",
    "$$"
   ]
  },
  {
   "cell_type": "markdown",
   "metadata": {},
   "source": [
    "## When does a matrix have a left or right inverse?\n",
    "\n",
    "- For $\\mathbf{A} \\in \\mathbb{R}^{m \\times n}$,  \n",
    "    1. $\\mathbf{A}$ is right invertible if and only if $\\text{rank}(\\mathbf{A}) = m$, or equivalently, $\\mathbf{A}$ has full row rank, or equivalently $\\mathbf{A}$ has independent rows. (Only a square or wide matrix can have right inverses.)  \n",
    "    2. $\\mathbf{A}$ is left invertible if and only if $\\text{rank}(\\mathbf{A}) = n$, or equivalently, $\\mathbf{A}$ has full column rank, or equivalently $\\mathbf{A}$ has independent columns. (Only a square or tall matrix can have left inverses.)  \n",
    "\n",
    "    Proof of (1). For the _if_ part, since column rank equals row rank, the columns of $\\mathbf{A}$ span $\\mathbb{R}^m$. Then for each column $\\mathbf{e}_j$ of $\\mathbf{I}_m$, there exists $\\mathbf{c}_j$ such that $\\mathbf{A} \\mathbf{c}_j = \\mathbf{e}_j$. Collecting $\\mathbf{c}_j$ as columns of $\\mathbf{C}$, we proved $\\mathbf{A} \\mathbf{C} = \\mathbf{I}_m$.  \n",
    "    \n",
    "    For the _only if_ part, since $\\mathbf{A} \\mathbf{C} = \\mathbf{I}_m$, we have $m \\ge \\text{rank}(\\mathbf{A}) \\ge \\text{rank}(\\mathbf{A} \\mathbf{C}) = \\text{rank}(\\mathbf{I}_m) = m$. Thus $\\text{rank}(\\mathbf{A}) = m$.\n",
    "    \n",
    "    Proof of (2). Apply (1) to $\\mathbf{A}'$.  \n",
    "\n",
    "- If $\\mathbf{A} \\in \\mathbb{R}^{m \\times n}$ has a left inverse $\\mathbf{X}$ and a right inverse $\\mathbf{Y}$, then  \n",
    "    1. $\\mathbf{A}$ must be a square, nonsingular matrix, and $\\mathbf{X} = \\mathbf{Y}$.  \n",
    "    2. $\\mathbf{A}$ has a unique left inverse and a unique right inverse, which we call the **inverse** of $\\mathbf{A}$ and denote it by $\\mathbf{A}^{-1}$.\n",
    "            \n",
    "     Proof: From previous theorem, we have $m = \\text{rank}(\\mathbf{A}) = n$. Thus $\\mathbf{A}$ is square, and $\\mathbf{X}$ and $\\mathbf{Y}$ as well. Then\n",
    "$$\n",
    "    \\mathbf{X} = \\mathbf{X} \\mathbf{I}_n = \\mathbf{X} (\\mathbf{A} \\mathbf{Y}) = (\\mathbf{X} \\mathbf{A}) \\mathbf{Y} = \\mathbf{Y}.\n",
    "$$\n",
    "To show the uniqueness of left inverse, suppose $\\mathbf{Z}$ is another left inverse. Then \n",
    "$$\n",
    "    \\mathbf{Z} \\mathbf{A} = \\mathbf{I}_n = \\mathbf{X} \\mathbf{A}.\n",
    "$$\n",
    "Multiplying both sides on the right by right inverse $\\mathbf{Y}$, we obtain $\\mathbf{Z} = \\mathbf{X}$. Thus left inverse is unique. Uniqueness of right inverse is shown in a similar fashion. \n",
    "\n",
    "- **Invertibility conditions**. For a square matrix,\n",
    "\n",
    "    left-invertibility $\\Rightarrow$ column independence $\\Rightarrow$ right-invertibility $\\Rightarrow$ row independence $\\Rightarrow$ left-invertibility\n",
    "    \n",
    "    Therefore, for a square matrix $\\mathbf{A}$, the following are equivalent:  \n",
    "    1. $\\mathbf{A}$ is invertible.  \n",
    "    2. The columns of $\\mathbf{A}$ are linear independent. \n",
    "    3. The rows of $\\mathbf{A}$ are linear independent. \n",
    "    4. $\\mathbf{A}$ has a left inverse. \n",
    "    5. $\\mathbf{A}$ has a right inverse. \n",
    "\n",
    "- Let $\\mathbf{A} \\in \\mathbb{R}^{m \\times n}$. Then\n",
    "\n",
    "    1. $\\mathbf{A}$ has full column rank if and only if $\\mathbf{A}'\\mathbf{A}$ is nonsingular. In this case, $(\\mathbf{A}'\\mathbf{A})^{-1} \\mathbf{A}'$ is a left inverse of $\\mathbf{A}$.  \n",
    "    \n",
    "    2. $\\mathbf{A}$ has full row rank if and only if $\\mathbf{A}\\mathbf{A}'$ is nonsingular. In this case, $\\mathbf{A}'(\\mathbf{A} \\mathbf{A}')^{-1}$ is a right inverse of $\\mathbf{A}$. \n",
    "    \n",
    "    Proof: easy."
   ]
  },
  {
   "cell_type": "code",
   "execution_count": 15,
   "metadata": {},
   "outputs": [
    {
     "data": {
      "text/plain": [
       "3×3 Matrix{Int64}:\n",
       " -1   1  -3\n",
       "  1  -1   1\n",
       "  2   2   2"
      ]
     },
     "execution_count": 15,
     "metadata": {},
     "output_type": "execute_result"
    }
   ],
   "source": [
    "A = [-1 1 -3; 1 -1 1; 2 2 2]"
   ]
  },
  {
   "cell_type": "code",
   "execution_count": 16,
   "metadata": {},
   "outputs": [
    {
     "data": {
      "text/plain": [
       "3×3 Matrix{Float64}:\n",
       "  0.5   1.0  0.25\n",
       " -0.0  -0.5  0.25\n",
       " -0.5  -0.5  0.0"
      ]
     },
     "execution_count": 16,
     "metadata": {},
     "output_type": "execute_result"
    }
   ],
   "source": [
    "A⁻¹ = inv(A)"
   ]
  },
  {
   "cell_type": "code",
   "execution_count": 17,
   "metadata": {},
   "outputs": [
    {
     "data": {
      "text/plain": [
       "3×3 Matrix{Float64}:\n",
       " 1.0  0.0  0.0\n",
       " 0.0  1.0  0.0\n",
       " 0.0  0.0  1.0"
      ]
     },
     "execution_count": 17,
     "metadata": {},
     "output_type": "execute_result"
    }
   ],
   "source": [
    "A⁻¹ * A"
   ]
  },
  {
   "cell_type": "code",
   "execution_count": 18,
   "metadata": {},
   "outputs": [
    {
     "data": {
      "text/plain": [
       "3×3 Matrix{Float64}:\n",
       " 1.0  0.0  0.0\n",
       " 0.0  1.0  0.0\n",
       " 0.0  0.0  1.0"
      ]
     },
     "execution_count": 18,
     "metadata": {},
     "output_type": "execute_result"
    }
   ],
   "source": [
    "A * A⁻¹"
   ]
  },
  {
   "cell_type": "markdown",
   "metadata": {},
   "source": [
    "Examples of matrix inverse:\n",
    "\n",
    "- Identity matrix $\\mathbf{I}_n$ is invertible, with inverse $\\mathbf{I}_n$. \n",
    "\n",
    "- A diagonal matrix is invertible if all diagonal entries are nonzero.\n",
    "$$\n",
    "\\text{diag}(a_{11}, \\ldots, a_{nn})^{-1} = \\text{diag}(a_{11}^{-1}, \\ldots, a_{nn}^{-1}).\n",
    "$$\n",
    "\n",
    "- A $2 \\times 2$ matrix is invertible if and only if $a_{11} a_{22} \\ne a_{12} a_{21}$\n",
    "$$\n",
    "\\begin{pmatrix}\n",
    "a_{11} & a_{12} \\\\\n",
    "a_{21} & a_{22}\n",
    "\\end{pmatrix}^{-1} = \\frac{1}{a_{11} a_{22} - a_{12} a_{21}} \\begin{pmatrix}\n",
    "a_{22} & -a_{12} \\\\\n",
    "-a_{21} & a_{11}\n",
    "\\end{pmatrix}.\n",
    "$$\n",
    "\n",
    "- Inverse of orthogonal matrix. If $\\mathbf{A}$ is square and has orthonormal columns, then\n",
    "$$\n",
    "\\mathbf{A}^{-1} = \\mathbf{A}'.\n",
    "$$\n",
    "\n",
    "- Inverse of matrix transpose. If $\\mathbf{A}$ is invertible, then\n",
    "$$\n",
    "(\\mathbf{A}')^{-1} = (\\mathbf{A}^{-1})'.\n",
    "$$\n",
    "\n",
    "- Inverse of matrix product. If $\\mathbf{A}$ and $\\mathbf{B}$ are invertible, then\n",
    "$$\n",
    "(\\mathbf{A} \\mathbf{B})^{-1} = \\mathbf{B}^{-1} \\mathbf{A}^{-1}.\n",
    "$$"
   ]
  },
  {
   "cell_type": "markdown",
   "metadata": {},
   "source": [
    "## Linear equations and left/right inverses\n",
    "\n",
    "- Solving linear system\n",
    "\\begin{eqnarray*}\n",
    "a_{11} x_1 + \\cdots + a_{1n} x_n &=& b_1 \\\\\n",
    "a_{21} x_1 + \\cdots + a_{2n} x_n &=& b_2 \\\\\n",
    "&\\vdots& \\\\\n",
    "a_{m1} x_1 + \\cdots + a_{mn} x_n &=& b_m\n",
    "\\end{eqnarray*}\n",
    "or\n",
    "$$\n",
    "    \\mathbf{A} \\mathbf{x} = \\mathbf{b},\n",
    "$$\n",
    "where $\\mathbf{A} \\in \\mathbb{R}^{m \\times n}$ (coefficient matrix), $\\mathbf{x} \\in \\mathbb{R}^n$ (solution vector), and $\\mathbf{b} \\in \\mathbb{R}^m$ (right hand side) is a central theme in linear algebra. \n",
    "\n",
    "- **Left-invertible matrix**: If $\\mathbf{X}$ is a left inverse of $\\mathbf{A}$, then\n",
    "$$\n",
    "\\mathbf{A} \\mathbf{x} = \\mathbf{b}\n",
    "$$\n",
    "implies (multiplying both sizes by $\\mathbf{X}$)\n",
    "$$\n",
    "\\mathbf{x} = \\mathbf{X} \\mathbf{b}.\n",
    "$$\n",
    "There is **at most one** solution. If there is a solution, it must be equal to $\\mathbf{X} \\mathbf{b}$. Note there might be no solution! $\\mathbf{X} \\mathbf{b}$ gives us a candidate solution to check. Why there can be at most one solution?  (Recall there can be infinitely many left inverses. Why each left inverse will produce the same solution?)\n",
    "\n",
    "- **Right-invertible matrix**: If $\\mathbf{X}$ is a right inverse of $\\mathbf{A}$, then\n",
    "$$\n",
    "\\mathbf{A} (\\mathbf{X} \\mathbf{b}) = \\mathbf{b}.\n",
    "$$\n",
    "This says there is **at least one** solution $\\mathbf{x} = \\mathbf{X} \\mathbf{b}$.\n",
    "\n",
    "- Invertible matrix: If $\\mathbf{A}$ is invertible, then\n",
    "$$\n",
    "\\mathbf{A} \\mathbf{x} = \\mathbf{b}\n",
    "$$\n",
    "implies (multiplying both sizes of $\\mathbf{A}^{-1}$)\n",
    "$$\n",
    "\\mathbf{x} = \\mathbf{A}^{-1} \\mathbf{b}.\n",
    "$$\n",
    "There is a _unique_ solution.\n",
    "\n",
    "- Example. Consider the 3x2 matrix\n",
    "$$\n",
    "\\mathbf{A} = \\begin{pmatrix} -3 & -4 \\\\ 4 & 6 \\\\ 1 & 1 \\end{pmatrix}.\n",
    "$$"
   ]
  },
  {
   "cell_type": "code",
   "execution_count": 19,
   "metadata": {},
   "outputs": [
    {
     "data": {
      "text/plain": [
       "3×2 Matrix{Int64}:\n",
       " -3  -4\n",
       "  4   6\n",
       "  1   1"
      ]
     },
     "execution_count": 19,
     "metadata": {},
     "output_type": "execute_result"
    }
   ],
   "source": [
    "# a 3x2 matrix\n",
    "A = [-3 -4; 4 6; 1 1]"
   ]
  },
  {
   "cell_type": "markdown",
   "metadata": {},
   "source": [
    "with left inverses"
   ]
  },
  {
   "cell_type": "code",
   "execution_count": 20,
   "metadata": {},
   "outputs": [
    {
     "data": {
      "text/plain": [
       "2×3 Matrix{Rational{Int64}}:\n",
       " -11//9  -10//9   16//9\n",
       "   7//9    8//9  -11//9"
      ]
     },
     "execution_count": 20,
     "metadata": {},
     "output_type": "execute_result"
    }
   ],
   "source": [
    "# X1 is a left inverse of A\n",
    "X1 = [-11//9 -10//9 16//9; 7//9 8//9 -11//9]"
   ]
  },
  {
   "cell_type": "code",
   "execution_count": 21,
   "metadata": {},
   "outputs": [
    {
     "data": {
      "text/plain": [
       "2×3 Matrix{Rational{Int64}}:\n",
       " 0//1  -1//2   3//1\n",
       " 0//1   1//2  -2//1"
      ]
     },
     "execution_count": 21,
     "metadata": {},
     "output_type": "execute_result"
    }
   ],
   "source": [
    "# B2 is another left inverse of A\n",
    "X2 = [0 -1//2 3; 0 1//2 -2]"
   ]
  },
  {
   "cell_type": "markdown",
   "metadata": {},
   "source": [
    "The over-determined linear equations\n",
    "$$\n",
    "\\begin{pmatrix} -3 & -4 \\\\ 4 & 6 \\\\ 1 & 1 \\end{pmatrix} \\mathbf{x} = \\begin{pmatrix} 1 \\\\ -2 \\\\ 0 \\end{pmatrix}\n",
    "$$\n",
    "has a unique solution $\\mathbf{x} = \\begin{pmatrix} 1 \\\\ -1 \\end{pmatrix}$, which can be obtained from either of the left inverses."
   ]
  },
  {
   "cell_type": "code",
   "execution_count": 22,
   "metadata": {},
   "outputs": [
    {
     "data": {
      "text/plain": [
       "2-element Vector{Int64}:\n",
       "  1\n",
       " -1"
      ]
     },
     "execution_count": 22,
     "metadata": {},
     "output_type": "execute_result"
    }
   ],
   "source": [
    "Int.(X1 * [1, -2 , 0])"
   ]
  },
  {
   "cell_type": "code",
   "execution_count": 23,
   "metadata": {},
   "outputs": [
    {
     "data": {
      "text/plain": [
       "2-element Vector{Int64}:\n",
       "  1\n",
       " -1"
      ]
     },
     "execution_count": 23,
     "metadata": {},
     "output_type": "execute_result"
    }
   ],
   "source": [
    "Int.(X2 * [1, -2 , 0])"
   ]
  },
  {
   "cell_type": "markdown",
   "metadata": {},
   "source": [
    "The over-determined linear equations\n",
    "$$\n",
    "\\begin{pmatrix} -3 & -4 \\\\ 4 & 6 \\\\ 1 & 1 \\end{pmatrix} \\mathbf{x} = \\begin{pmatrix} 1 \\\\ -1 \\\\ 0 \\end{pmatrix}\n",
    "$$\n",
    "has no solution since $\\mathbf{x} = \\mathbf{X}_1 \\begin{pmatrix} 1 \\\\ -1 \\\\ 0 \\end{pmatrix} = \\begin{pmatrix} 1/2 \\\\ -1/2 \\end{pmatrix}$ does not satisfy $\\mathbf{A} \\mathbf{x} = \\begin{pmatrix} 1 \\\\ -1 \\\\ 0 \\end{pmatrix}$."
   ]
  },
  {
   "cell_type": "code",
   "execution_count": 24,
   "metadata": {},
   "outputs": [
    {
     "data": {
      "text/plain": [
       "false"
      ]
     },
     "execution_count": 24,
     "metadata": {},
     "output_type": "execute_result"
    }
   ],
   "source": [
    "A * (X1 * [1, -1, 0]) == [1, -1, 0]"
   ]
  },
  {
   "cell_type": "markdown",
   "metadata": {},
   "source": [
    "The under-determined linear equations \n",
    "$$\n",
    "\\mathbf{A}' \\mathbf{y} = \\begin{pmatrix} -3 & 4 & 1 \\\\ -4 & 6 & 1 \\end{pmatrix} \\begin{pmatrix} y_1 \\\\ y_2 \\\\ y_3 \\end{pmatrix} = \\begin{pmatrix} 1 \\\\ 2 \\end{pmatrix}\n",
    "$$\n",
    "has (different) solutions"
   ]
  },
  {
   "cell_type": "code",
   "execution_count": 25,
   "metadata": {},
   "outputs": [
    {
     "data": {
      "text/plain": [
       "3-element Vector{Rational{Int64}}:\n",
       "  1//3\n",
       "  2//3\n",
       " -2//3"
      ]
     },
     "execution_count": 25,
     "metadata": {},
     "output_type": "execute_result"
    }
   ],
   "source": [
    "X1' * [1, 2]"
   ]
  },
  {
   "cell_type": "code",
   "execution_count": 26,
   "metadata": {},
   "outputs": [
    {
     "data": {
      "text/plain": [
       "true"
      ]
     },
     "execution_count": 26,
     "metadata": {},
     "output_type": "execute_result"
    }
   ],
   "source": [
    "# check solution\n",
    "A' * (X1' * [1, 2]) == [1, 2]"
   ]
  },
  {
   "cell_type": "code",
   "execution_count": 27,
   "metadata": {},
   "outputs": [
    {
     "data": {
      "text/plain": [
       "3-element Vector{Rational{Int64}}:\n",
       "  0//1\n",
       "  1//2\n",
       " -1//1"
      ]
     },
     "execution_count": 27,
     "metadata": {},
     "output_type": "execute_result"
    }
   ],
   "source": [
    "X2' * [1, 2]"
   ]
  },
  {
   "cell_type": "code",
   "execution_count": 28,
   "metadata": {},
   "outputs": [
    {
     "data": {
      "text/plain": [
       "true"
      ]
     },
     "execution_count": 28,
     "metadata": {},
     "output_type": "execute_result"
    }
   ],
   "source": [
    "# check solution\n",
    "A' * (X2' * [1, 2]) == [1, 2]"
   ]
  },
  {
   "cell_type": "markdown",
   "metadata": {},
   "source": [
    "Recall that both $\\mathbf{X}_1'$ and $\\mathbf{X}_2'$ are right inverses of $\\mathbf{A}'$."
   ]
  },
  {
   "cell_type": "markdown",
   "metadata": {},
   "source": [
    "## Solving linear equations\n",
    "\n",
    "- To solve $\\mathbf{A} \\mathbf{x} = \\mathbf{b}$, where $\\mathbf{A} \\in \\mathbb{R}^{n \\times n}$ is **lower triangular**\n",
    "$$\n",
    "\\begin{pmatrix}\n",
    "    a_{11} & 0 & \\cdots & 0 \\\\\n",
    "    a_{21} & a_{22} & \\cdots & 0 \\\\\n",
    "    \\vdots & \\vdots & \\ddots & \\vdots \\\\\n",
    "    a_{n1} & a_{n2} & \\cdots & a_{nn}\n",
    "\\end{pmatrix}\n",
    "\\begin{pmatrix}\n",
    "x_1 \\\\ x_2 \\\\ \\vdots \\\\ x_n\n",
    "\\end{pmatrix} = \\begin{pmatrix}\n",
    "b_1 \\\\ b_2 \\\\ \\vdots \\\\ b_n\n",
    "\\end{pmatrix}.\n",
    "$$\n",
    "\n",
    "    **Forward substitution** algorithm: \n",
    "$$\n",
    "\\begin{eqnarray*}\n",
    "    x_1 &=& b_1 / a_{11} \\\\\n",
    "    x_2 &=& (b_2 - a_{21} x_1) / a_{22} \\\\\n",
    "    x_3 &=& (b_3 - a_{31} x_1 - a_{32} x_2) / a_{33} \\\\\n",
    "    &\\vdots& \\\\\n",
    "    x_n &=& (b_n - a_{n1} x_1 - a_{n2} x_2 - \\cdots - a_{n,n-1} x_{n-1}) / a_{nn}.\n",
    "\\end{eqnarray*}\n",
    "$$\n",
    "$1 + 3 + 5 + \\cdots + (2n-1) = n^2$ flops. \n",
    "\n",
    "- To solve $\\mathbf{A} \\mathbf{x} = \\mathbf{b}$, where $\\mathbf{A} \\in \\mathbb{R}^{n \\times n}$ is upper triangular  \n",
    "$$\n",
    "\\begin{pmatrix}\n",
    "    a_{11} & \\cdots & a_{1,n-1} & a_{1n} \\\\\n",
    "    \\vdots & \\ddots & \\vdots & \\vdots \\\\\n",
    "    0 & \\cdots & a_{n-1,n-1} & a_{n-1,n} \\\\\n",
    "    0 & 0 & 0 & a_{nn}\n",
    "\\end{pmatrix}\n",
    "\\begin{pmatrix}\n",
    "x_1 \\\\ \\vdots \\\\ x_{n-1} \\\\ x_n\n",
    "\\end{pmatrix} = \\begin{pmatrix}\n",
    "b_1 \\\\ \\vdots \\\\ b_{n-1} \\\\ b_n\n",
    "\\end{pmatrix}.\n",
    "$$\n",
    "    **Back substitution** algorithm: \n",
    "$$\n",
    "\\begin{eqnarray*}\n",
    "    x_n &=& b_n / a_{nn} \\\\\n",
    "    x_{n-1} &=& (b_{n-1} - a_{n-1,n} x_n) / a_{n-1,n-1} \\\\\n",
    "    x_{n-2} &=& (b_{n-2} - a_{n-2,n-1} x_{n-1} - a_{n-2,n} x_n) / a_{n-2,n-2} \\\\\n",
    "    &\\vdots& \\\\\n",
    "    x_1 &=& (b_1 - a_{12} x_2 - a_{13} x_3 - \\cdots - a_{1,n} x_{n}) / a_{11}.\n",
    "\\end{eqnarray*}\n",
    "$$\n",
    "$n^2$ flops.\n",
    "\n",
    "- For an invertible matrix $\\mathbf{A} \\in \\mathbb{R}^n$ and $\\mathbf{b} \\in \\mathbb{R}^n$, we can solve the linear equation $\\mathbf{A} \\mathbf{x} = \\mathbf{b}$ by following steps.  \n",
    "    - Step 1: Comute QR factorization: $\\mathbf{A} = \\mathbf{Q} \\mathbf{R}$. ??? flops.  \n",
    "    - Step 2: Compute $\\mathbf{Q}^T \\mathbf{b}$. ??? flops.  \n",
    "    - Step 3: Solve the triangular equation $\\mathbf{R} \\mathbf{x} = \\mathbf{Q}' \\mathbf{b}$ by back substitution. ??? flops.   \n",
    "    \n",
    "    The total number of flops is ???. The dominant step is ???\n",
    "    \n",
    "- Factor-solve method with multiple right-hand sides. For multiple right hand sides $\\mathbf{b}$, we only need to do Step ??? once.\n",
    "\n",
    "- Compute the inverse of an invertible matrix $\\mathbf{A} \\in \\mathbb{R}^{n \\times n}$.  \n",
    "    - Step 1. QR factorization $\\mathbf{A} = \\mathbf{Q} \\mathbf{R}$.  \n",
    "    - Step 2. For $i=1,\\ldots,n$, solve the triangular equation $\\mathbf{R} \\mathbf{b}_i = \\tilde{\\mathbf{q}}_i$. \n",
    "    \n",
    "    Total computational cost is ??? flops.  \n",
    "    \n",
    "- Question. Two ways to solve a linear system. `qr(A) \\ b` vs `inv(A) * b`. Which way is better?"
   ]
  },
  {
   "cell_type": "markdown",
   "metadata": {},
   "source": [
    "## Generalized inverse and Moore-Penrose inverse (optional)\n",
    "\n",
    "- Let $\\mathbf{A} \\in \\mathbb{R}^{m \\times n}$. A matrix $\\mathbf{G} \\in \\mathbb{R}^{n \\times m}$ is called the **Moore-Penrose inverse** or **MP inverse** of $\\mathbf{A}$ if it satisifes following four conditions:   \n",
    "    (1) $\\mathbf{A} \\mathbf{G} \\mathbf{A} = \\mathbf{A}$. $\\quad \\quad$ (_generalized inverse_, $g_1$ inverse, or _inner pseudo-inverse_)  \n",
    "    (2) $\\mathbf{G} \\mathbf{A} \\mathbf{G} = \\mathbf{G}$. $\\quad \\quad$ (_outer pseudo-inverse_)  \n",
    "    (3) $(\\mathbf{A} \\mathbf{G})' = \\mathbf{A} \\mathbf{G}$.  \n",
    "    (4) $(\\mathbf{G} \\mathbf{A})' = \\mathbf{G} \\mathbf{A}$.  \n",
    "    We shall denote the **Moore-Penrose inverse** of $\\mathbf{A}$ by $\\mathbf{A}^+$.\n",
    "\n",
    "- Any matrix $\\mathbf{G} \\in \\mathbb{R}^{n \\times m}$ that satisfies (1) is called a **generalized inverse**, or **$g_1$ inverse**, or **inner pseudo-inverse**. Denoted by $\\mathbf{A}^-$ or $\\mathbf{A}^g$.\n",
    "\n",
    "- Any matrix $\\mathbf{G} \\in \\mathbb{R}^{n \\times m}$ that satisfies (1)+(2) is called a **reflective generalized inverse**, or **$g_2$ inverse**, or **outer pseudo-inverse**. Denoted by $\\mathbf{A}^*$.\n",
    "\n",
    "- The **Moore-Penrose inverse** of any matrix $\\mathbf{A}$ exists and is unique. \n",
    "\n",
    "    Proof of uniqueness: Let $\\mathbf{G}_1, \\mathbf{G}_2 \\in \\mathbb{R}^{n \\times m}$ be two matrices satisfying properties (1)-(4). Then  \n",
    "$$\n",
    "    \\mathbf{A} \\mathbf{G}_1 = (\\mathbf{A} \\mathbf{G}_1)' = \\mathbf{G}_1' \\mathbf{A}' = \\mathbf{G}_1' (\\mathbf{A} \\mathbf{G}_2 \\mathbf{A})' = \\mathbf{G}_1' \\mathbf{A}' \\mathbf{G}_2' \\mathbf{A}' = (\\mathbf{A} \\mathbf{G}_1)' (\\mathbf{A} \\mathbf{G}_2)' = \\mathbf{A} \\mathbf{G}_1 \\mathbf{A} \\mathbf{G}_2 = \\mathbf{A} \\mathbf{G}_2.\n",
    "$$\n",
    "Similarly,\n",
    "$$\n",
    "    \\mathbf{G}_1 \\mathbf{A} = (\\mathbf{G}_1 \\mathbf{A})' = \\mathbf{A}' \\mathbf{G}_1' = (\\mathbf{A} \\mathbf{G}_2 \\mathbf{A})' \\mathbf{G}_1' = \\mathbf{A}' \\mathbf{G}_2' \\mathbf{A}' \\mathbf{G}_1' = (\\mathbf{G}_2 \\mathbf{A})' (\\mathbf{G}_1 \\mathbf{A})' = \\mathbf{G}_2 \\mathbf{A} \\mathbf{G}_1 \\mathbf{A} = \\mathbf{G}_2 \\mathbf{A}.\n",
    "$$\n",
    "Hence,\n",
    "$$\n",
    "    \\mathbf{G}_1 = \\mathbf{G}_1 \\mathbf{A} \\mathbf{G}_1 = \\mathbf{G}_1 \\mathbf{A} \\mathbf{G}_2 = \\mathbf{G}_2 \\mathbf{A} \\mathbf{G}_2 = \\mathbf{G}_2.\n",
    "$$\n",
    "    \n",
    "    Proof of existence: TODO later. We construct a matrix that satisfies (1)-(4) using the singular value decomposition (SVD) of $\\mathbf{A}$.\n",
    "    \n",
    "- Following are true: \n",
    "    1. $(\\mathbf{A}^-)'$ is a generalized inverse of $\\mathbf{A}'$. \n",
    "    2. $(\\mathbf{A}')^+ = (\\mathbf{A}^+)'$.  \n",
    "    3. For any nonzero $k$, $(1/k) \\mathbf{A}^-$ is a generalized inverse of $k \\mathbf{A}$.  \n",
    "    4. $(k \\mathbf{A})^+ = (1/k) \\mathbf{A}^+$.\n",
    "\n",
    "    Proof: Check properties (1)-(4).\n",
    "    \n",
    "- **Multiplication by generalized inverse does not change rank.**  \n",
    "    1. $\\mathcal{C}(\\mathbf{A}) = \\mathcal{C}(\\mathbf{A} \\mathbf{A}^-)$ and $\\mathcal{C}(\\mathbf{A}') = \\mathcal{C}((\\mathbf{A}^- \\mathbf{A})')$.  \n",
    "    2. $\\text{rank}(\\mathbf{A}) = \\text{rank}(\\mathbf{A} \\mathbf{A}^-) = \\text{rank}(\\mathbf{A}^- \\mathbf{A})$. \n",
    "    \n",
    "    Proof of 1: We already know $\\mathcal{C}(\\mathbf{A}) \\supseteq \\mathcal{C}(\\mathbf{A} \\mathbf{A}^-)$. Now since $\\mathbf{A} = \\mathbf{A} \\mathbf{A}^- \\mathbf{A}$, we also have $\\mathcal{C}(\\mathbf{A}) \\subseteq \\mathcal{C}(\\mathbf{A} \\mathbf{A}^-)$.   \n",
    "    Proof of 2: Since $\\mathbf{A} = \\mathbf{A} \\mathbf{A}^- \\mathbf{A}$, $\\text{rank}(\\mathbf{A}) \\le \\text{rank}(\\mathbf{A} \\mathbf{A}^-) \\le \\text{rank}(\\mathbf{A})$.  \n",
    "    \n",
    "- **Generalized inverse has equal or larger rank.**  $\\text{rank}(\\mathbf{A}^-) \\ge \\text{rank}(\\mathbf{A})$.  \n",
    "\n",
    "    Proof: $\\text{rank}(\\mathbf{A}) = \\text{rank}(\\mathbf{A}\\mathbf{A}^- \\mathbf{A}) \\le \\text{rank}(\\mathbf{A}\\mathbf{A}^-) \\le \\text{rank}(\\mathbf{A}^-)$.\n",
    "    \n",
    "- Let $\\mathbf{A} \\in \\mathbb{R}^{m \\times n}$.\n",
    "\n",
    "    1. If $\\mathbf{A}$ has full column rank, then the MP inverse is $\\mathbf{A}^+ = (\\mathbf{A}'\\mathbf{A})^{-1} \\mathbf{A}'$. Given QR factorization $\\mathbf{A} = \\mathbf{Q} \\mathbf{R}$, $\\mathbf{A}^+ = \\mathbf{R}^{-1} \\mathbf{Q}'$.    \n",
    "    \n",
    "    2. If $\\mathbf{A}$ has full row rank, then the MP inverse is $\\mathbf{A}^+ = \\mathbf{A}'(\\mathbf{A} \\mathbf{A}')^{-1}$.  Given QR factorization $\\mathbf{A}' = \\mathbf{Q} \\mathbf{R}$, $\\mathbf{A}^+ = \\mathbf{Q} \\mathbf{R}'^{-1}$. "
   ]
  },
  {
   "cell_type": "code",
   "execution_count": 29,
   "metadata": {},
   "outputs": [
    {
     "data": {
      "text/plain": [
       "3×2 Matrix{Int64}:\n",
       " -3  -4\n",
       "  4   6\n",
       "  1   1"
      ]
     },
     "execution_count": 29,
     "metadata": {},
     "output_type": "execute_result"
    }
   ],
   "source": [
    "# a 3x2 matrix (full column rank)\n",
    "A = [-3 -4; 4 6; 1 1]"
   ]
  },
  {
   "cell_type": "code",
   "execution_count": 30,
   "metadata": {},
   "outputs": [
    {
     "data": {
      "text/plain": [
       "2×3 Matrix{Float64}:\n",
       " -1.22222   -1.11111    1.77778\n",
       "  0.777778   0.888889  -1.22222"
      ]
     },
     "execution_count": 30,
     "metadata": {},
     "output_type": "execute_result"
    }
   ],
   "source": [
    "# compute MP inverse using SVD\n",
    "pinv(A)"
   ]
  },
  {
   "cell_type": "code",
   "execution_count": 31,
   "metadata": {},
   "outputs": [
    {
     "data": {
      "text/plain": [
       "2×3 Matrix{Float64}:\n",
       " -1.22222   -1.11111    1.77778\n",
       "  0.777778   0.888889  -1.22222"
      ]
     },
     "execution_count": 31,
     "metadata": {},
     "output_type": "execute_result"
    }
   ],
   "source": [
    "# compute MP inverse using pseudo-inverse\n",
    "(A'A) \\ A'"
   ]
  },
  {
   "cell_type": "code",
   "execution_count": 32,
   "metadata": {},
   "outputs": [
    {
     "data": {
      "text/plain": [
       "LinearAlgebra.QRCompactWY{Float64, Matrix{Float64}}\n",
       "Q factor:\n",
       "3×3 LinearAlgebra.QRCompactWYQ{Float64, Matrix{Float64}}:\n",
       " -0.588348  -0.457604  0.666667\n",
       "  0.784465  -0.522976  0.333333\n",
       "  0.196116   0.719092  0.666667\n",
       "R factor:\n",
       "2×2 Matrix{Float64}:\n",
       " 5.09902   7.2563\n",
       " 0.0      -0.588348"
      ]
     },
     "execution_count": 32,
     "metadata": {},
     "output_type": "execute_result"
    }
   ],
   "source": [
    "# compute MP inverse by QR\n",
    "qra = qr(A)"
   ]
  },
  {
   "cell_type": "code",
   "execution_count": 33,
   "metadata": {},
   "outputs": [
    {
     "data": {
      "text/plain": [
       "2×3 Matrix{Float64}:\n",
       " -1.22222   -1.11111    1.77778\n",
       "  0.777778   0.888889  -1.22222"
      ]
     },
     "execution_count": 33,
     "metadata": {},
     "output_type": "execute_result"
    }
   ],
   "source": [
    "qra.R \\ qra.Q[:, 1:2]'"
   ]
  }
 ],
 "metadata": {
  "@webio": {
   "lastCommId": null,
   "lastKernelId": null
  },
  "hide_input": false,
  "kernelspec": {
   "display_name": "Julia 1.6.0",
   "language": "julia",
   "name": "julia-1.6"
  },
  "language_info": {
   "file_extension": ".jl",
   "mimetype": "application/julia",
   "name": "julia",
   "version": "1.6.0"
  },
  "toc": {
   "colors": {
    "hover_highlight": "#DAA520",
    "running_highlight": "#FF0000",
    "selected_highlight": "#FFD700"
   },
   "moveMenuLeft": true,
   "nav_menu": {
    "height": "138px",
    "width": "252px"
   },
   "navigate_menu": true,
   "number_sections": true,
   "sideBar": true,
   "skip_h1_title": true,
   "threshold": 4,
   "toc_cell": true,
   "toc_section_display": "block",
   "toc_window_display": true,
   "widenNotebook": false
  }
 },
 "nbformat": 4,
 "nbformat_minor": 2
}
